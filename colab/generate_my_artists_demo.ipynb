{
 "cells": [
  {
   "cell_type": "code",
   "execution_count": 1,
   "metadata": {
    "colab": {
     "base_uri": "https://localhost:8080/"
    },
    "executionInfo": {
     "elapsed": 29012,
     "status": "ok",
     "timestamp": 1646931643205,
     "user": {
      "displayName": "Volkan Tatlikazan",
      "photoUrl": "https://lh3.googleusercontent.com/a-/AOh14GjmHAs2j8h9Y8NaxNe2GgIdffGW5139mkQzJrykJQ=s64",
      "userId": "02369655295950434275"
     },
     "user_tz": -60
    },
    "id": "esPx5NX7saNe",
    "outputId": "1a726ae4-3302-453f-9e8b-40f3962f52fe"
   },
   "outputs": [
    {
     "output_type": "stream",
     "name": "stdout",
     "text": [
      "Mounted at /content/drive\n"
     ]
    }
   ],
   "source": [
    "from google.colab import drive\n",
    "drive.mount('/content/drive')"
   ],
   "id": "esPx5NX7saNe"
  },
  {
   "cell_type": "markdown",
   "metadata": {
    "id": "122908d6"
   },
   "source": [
    "# General Imports"
   ],
   "id": "122908d6"
  },
  {
   "cell_type": "code",
   "execution_count": 2,
   "metadata": {
    "colab": {
     "base_uri": "https://localhost:8080/",
     "height": 1000
    },
    "id": "PnhP1xG43GIe",
    "outputId": "a4002a4d-f678-4d96-eeb2-2909937f5937",
    "executionInfo": {
     "status": "ok",
     "timestamp": 1646931692823,
     "user_tz": -60,
     "elapsed": 49630,
     "user": {
      "displayName": "Volkan Tatlikazan",
      "photoUrl": "https://lh3.googleusercontent.com/a-/AOh14GjmHAs2j8h9Y8NaxNe2GgIdffGW5139mkQzJrykJQ=s64",
      "userId": "02369655295950434275"
     }
    }
   },
   "outputs": [
    {
     "output_type": "stream",
     "name": "stdout",
     "text": [
      "Collecting GPUtil\n",
      "  Downloading GPUtil-1.4.0.tar.gz (5.5 kB)\n",
      "Building wheels for collected packages: GPUtil\n",
      "  Building wheel for GPUtil (setup.py) ... \u001B[?25l\u001B[?25hdone\n",
      "  Created wheel for GPUtil: filename=GPUtil-1.4.0-py3-none-any.whl size=7411 sha256=f8160e4cbb85f4dad357b46839aac6a322a247c59e1d333728680adf38886196\n",
      "  Stored in directory: /root/.cache/pip/wheels/6e/f8/83/534c52482d6da64622ddbf72cd93c35d2ef2881b78fd08ff0c\n",
      "Successfully built GPUtil\n",
      "Installing collected packages: GPUtil\n",
      "Successfully installed GPUtil-1.4.0\n",
      "\u001B[K     |████████████████████████████████| 312 kB 4.2 MB/s \n",
      "\u001B[K     |████████████████████████████████| 134 kB 47.0 MB/s \n",
      "\u001B[K     |████████████████████████████████| 212 kB 53.6 MB/s \n",
      "\u001B[K     |████████████████████████████████| 67 kB 5.0 MB/s \n",
      "\u001B[K     |████████████████████████████████| 1.1 MB 54.9 MB/s \n",
      "\u001B[K     |████████████████████████████████| 127 kB 59.5 MB/s \n",
      "\u001B[K     |████████████████████████████████| 271 kB 60.4 MB/s \n",
      "\u001B[K     |████████████████████████████████| 94 kB 2.7 MB/s \n",
      "\u001B[K     |████████████████████████████████| 144 kB 61.2 MB/s \n",
      "\u001B[31mERROR: pip's dependency resolver does not currently take into account all the packages that are installed. This behaviour is the source of the following dependency conflicts.\n",
      "datascience 0.10.6 requires folium==0.2.1, but you have folium 0.8.3 which is incompatible.\u001B[0m\n",
      "\u001B[?25hCollecting transformers\n",
      "  Downloading transformers-4.17.0-py3-none-any.whl (3.8 MB)\n",
      "\u001B[K     |████████████████████████████████| 3.8 MB 4.3 MB/s \n",
      "\u001B[?25hCollecting sacremoses\n",
      "  Downloading sacremoses-0.0.47-py2.py3-none-any.whl (895 kB)\n",
      "\u001B[K     |████████████████████████████████| 895 kB 50.8 MB/s \n",
      "\u001B[?25hRequirement already satisfied: importlib-metadata in /usr/local/lib/python3.7/dist-packages (from transformers) (4.11.2)\n",
      "Collecting pyyaml>=5.1\n",
      "  Downloading PyYAML-6.0-cp37-cp37m-manylinux_2_5_x86_64.manylinux1_x86_64.manylinux_2_12_x86_64.manylinux2010_x86_64.whl (596 kB)\n",
      "\u001B[K     |████████████████████████████████| 596 kB 49.2 MB/s \n",
      "\u001B[?25hRequirement already satisfied: huggingface-hub<1.0,>=0.1.0 in /usr/local/lib/python3.7/dist-packages (from transformers) (0.4.0)\n",
      "Requirement already satisfied: numpy>=1.17 in /usr/local/lib/python3.7/dist-packages (from transformers) (1.21.5)\n",
      "Requirement already satisfied: tqdm>=4.27 in /usr/local/lib/python3.7/dist-packages (from transformers) (4.63.0)\n",
      "Requirement already satisfied: requests in /usr/local/lib/python3.7/dist-packages (from transformers) (2.23.0)\n",
      "Collecting tokenizers!=0.11.3,>=0.11.1\n",
      "  Downloading tokenizers-0.11.6-cp37-cp37m-manylinux_2_12_x86_64.manylinux2010_x86_64.whl (6.5 MB)\n",
      "\u001B[K     |████████████████████████████████| 6.5 MB 30.9 MB/s \n",
      "\u001B[?25hRequirement already satisfied: filelock in /usr/local/lib/python3.7/dist-packages (from transformers) (3.6.0)\n",
      "Requirement already satisfied: regex!=2019.12.17 in /usr/local/lib/python3.7/dist-packages (from transformers) (2019.12.20)\n",
      "Requirement already satisfied: packaging>=20.0 in /usr/local/lib/python3.7/dist-packages (from transformers) (21.3)\n",
      "Requirement already satisfied: typing-extensions>=3.7.4.3 in /usr/local/lib/python3.7/dist-packages (from huggingface-hub<1.0,>=0.1.0->transformers) (3.10.0.2)\n",
      "Requirement already satisfied: pyparsing!=3.0.5,>=2.0.2 in /usr/local/lib/python3.7/dist-packages (from packaging>=20.0->transformers) (3.0.7)\n",
      "Requirement already satisfied: zipp>=0.5 in /usr/local/lib/python3.7/dist-packages (from importlib-metadata->transformers) (3.7.0)\n",
      "Requirement already satisfied: certifi>=2017.4.17 in /usr/local/lib/python3.7/dist-packages (from requests->transformers) (2021.10.8)\n",
      "Requirement already satisfied: urllib3!=1.25.0,!=1.25.1,<1.26,>=1.21.1 in /usr/local/lib/python3.7/dist-packages (from requests->transformers) (1.25.11)\n",
      "Requirement already satisfied: chardet<4,>=3.0.2 in /usr/local/lib/python3.7/dist-packages (from requests->transformers) (3.0.4)\n",
      "Requirement already satisfied: idna<3,>=2.5 in /usr/local/lib/python3.7/dist-packages (from requests->transformers) (2.10)\n",
      "Requirement already satisfied: joblib in /usr/local/lib/python3.7/dist-packages (from sacremoses->transformers) (1.1.0)\n",
      "Requirement already satisfied: click in /usr/local/lib/python3.7/dist-packages (from sacremoses->transformers) (7.1.2)\n",
      "Requirement already satisfied: six in /usr/local/lib/python3.7/dist-packages (from sacremoses->transformers) (1.15.0)\n",
      "Installing collected packages: pyyaml, tokenizers, sacremoses, transformers\n",
      "  Attempting uninstall: pyyaml\n",
      "    Found existing installation: PyYAML 3.13\n",
      "    Uninstalling PyYAML-3.13:\n",
      "      Successfully uninstalled PyYAML-3.13\n",
      "Successfully installed pyyaml-6.0 sacremoses-0.0.47 tokenizers-0.11.6 transformers-4.17.0\n",
      "Collecting tf-models-official\n",
      "  Downloading tf_models_official-2.8.0-py2.py3-none-any.whl (2.2 MB)\n",
      "\u001B[K     |████████████████████████████████| 2.2 MB 4.3 MB/s \n",
      "\u001B[?25hRequirement already satisfied: pycocotools in /usr/local/lib/python3.7/dist-packages (from tf-models-official) (2.0.4)\n",
      "Collecting tf-slim>=1.1.0\n",
      "  Downloading tf_slim-1.1.0-py2.py3-none-any.whl (352 kB)\n",
      "\u001B[K     |████████████████████████████████| 352 kB 50.8 MB/s \n",
      "\u001B[?25hRequirement already satisfied: tensorflow-datasets in /usr/local/lib/python3.7/dist-packages (from tf-models-official) (4.0.1)\n",
      "Collecting tensorflow-text~=2.8.0\n",
      "  Downloading tensorflow_text-2.8.1-cp37-cp37m-manylinux_2_12_x86_64.manylinux2010_x86_64.whl (4.9 MB)\n",
      "\u001B[K     |████████████████████████████████| 4.9 MB 40.3 MB/s \n",
      "\u001B[?25hRequirement already satisfied: numpy>=1.15.4 in /usr/local/lib/python3.7/dist-packages (from tf-models-official) (1.21.5)\n",
      "Requirement already satisfied: google-api-python-client>=1.6.7 in /usr/local/lib/python3.7/dist-packages (from tf-models-official) (1.12.10)\n",
      "Requirement already satisfied: Cython in /usr/local/lib/python3.7/dist-packages (from tf-models-official) (0.29.28)\n",
      "Collecting opencv-python-headless\n",
      "  Downloading opencv_python_headless-4.5.5.64-cp36-abi3-manylinux_2_17_x86_64.manylinux2014_x86_64.whl (47.8 MB)\n",
      "\u001B[K     |████████████████████████████████| 47.8 MB 1.2 MB/s \n",
      "\u001B[?25hRequirement already satisfied: psutil>=5.4.3 in /usr/local/lib/python3.7/dist-packages (from tf-models-official) (5.4.8)\n",
      "Requirement already satisfied: oauth2client in /usr/local/lib/python3.7/dist-packages (from tf-models-official) (4.1.3)\n",
      "Requirement already satisfied: tensorflow~=2.8.0 in /usr/local/lib/python3.7/dist-packages (from tf-models-official) (2.8.0)\n",
      "Collecting tensorflow-model-optimization>=0.4.1\n",
      "  Downloading tensorflow_model_optimization-0.7.1-py2.py3-none-any.whl (234 kB)\n",
      "\u001B[K     |████████████████████████████████| 234 kB 60.3 MB/s \n",
      "\u001B[?25hRequirement already satisfied: gin-config in /usr/local/lib/python3.7/dist-packages (from tf-models-official) (0.5.0)\n",
      "Requirement already satisfied: kaggle>=1.3.9 in /usr/local/lib/python3.7/dist-packages (from tf-models-official) (1.5.12)\n",
      "Collecting tensorflow-addons\n",
      "  Downloading tensorflow_addons-0.16.1-cp37-cp37m-manylinux_2_12_x86_64.manylinux2010_x86_64.whl (1.1 MB)\n",
      "\u001B[K     |████████████████████████████████| 1.1 MB 46.8 MB/s \n",
      "\u001B[?25hRequirement already satisfied: six in /usr/local/lib/python3.7/dist-packages (from tf-models-official) (1.15.0)\n",
      "Collecting seqeval\n",
      "  Downloading seqeval-1.2.2.tar.gz (43 kB)\n",
      "\u001B[K     |████████████████████████████████| 43 kB 2.0 MB/s \n",
      "\u001B[?25hRequirement already satisfied: Pillow in /usr/local/lib/python3.7/dist-packages (from tf-models-official) (7.1.2)\n",
      "Collecting py-cpuinfo>=3.3.0\n",
      "  Downloading py-cpuinfo-8.0.0.tar.gz (99 kB)\n",
      "\u001B[K     |████████████████████████████████| 99 kB 10.3 MB/s \n",
      "\u001B[?25hRequirement already satisfied: tensorflow-hub>=0.6.0 in /usr/local/lib/python3.7/dist-packages (from tf-models-official) (0.12.0)\n",
      "Requirement already satisfied: scipy>=0.19.1 in /usr/local/lib/python3.7/dist-packages (from tf-models-official) (1.4.1)\n",
      "Requirement already satisfied: matplotlib in /usr/local/lib/python3.7/dist-packages (from tf-models-official) (3.2.2)\n",
      "Collecting sentencepiece\n",
      "  Downloading sentencepiece-0.1.96-cp37-cp37m-manylinux_2_17_x86_64.manylinux2014_x86_64.whl (1.2 MB)\n",
      "\u001B[K     |████████████████████████████████| 1.2 MB 56.1 MB/s \n",
      "\u001B[?25hCollecting pyyaml<6.0,>=5.1\n",
      "  Downloading PyYAML-5.4.1-cp37-cp37m-manylinux1_x86_64.whl (636 kB)\n",
      "\u001B[K     |████████████████████████████████| 636 kB 58.0 MB/s \n",
      "\u001B[?25hCollecting sacrebleu\n",
      "  Downloading sacrebleu-2.0.0-py3-none-any.whl (90 kB)\n",
      "\u001B[K     |████████████████████████████████| 90 kB 10.1 MB/s \n",
      "\u001B[?25hRequirement already satisfied: pandas>=0.22.0 in /usr/local/lib/python3.7/dist-packages (from tf-models-official) (1.3.5)\n",
      "Requirement already satisfied: google-auth<3dev,>=1.16.0 in /usr/local/lib/python3.7/dist-packages (from google-api-python-client>=1.6.7->tf-models-official) (1.35.0)\n",
      "Requirement already satisfied: uritemplate<4dev,>=3.0.0 in /usr/local/lib/python3.7/dist-packages (from google-api-python-client>=1.6.7->tf-models-official) (3.0.1)\n",
      "Requirement already satisfied: google-auth-httplib2>=0.0.3 in /usr/local/lib/python3.7/dist-packages (from google-api-python-client>=1.6.7->tf-models-official) (0.0.4)\n",
      "Requirement already satisfied: httplib2<1dev,>=0.15.0 in /usr/local/lib/python3.7/dist-packages (from google-api-python-client>=1.6.7->tf-models-official) (0.17.4)\n",
      "Requirement already satisfied: google-api-core<3dev,>=1.21.0 in /usr/local/lib/python3.7/dist-packages (from google-api-python-client>=1.6.7->tf-models-official) (1.26.3)\n",
      "Requirement already satisfied: requests<3.0.0dev,>=2.18.0 in /usr/local/lib/python3.7/dist-packages (from google-api-core<3dev,>=1.21.0->google-api-python-client>=1.6.7->tf-models-official) (2.23.0)\n",
      "Requirement already satisfied: protobuf>=3.12.0 in /usr/local/lib/python3.7/dist-packages (from google-api-core<3dev,>=1.21.0->google-api-python-client>=1.6.7->tf-models-official) (3.17.3)\n",
      "Requirement already satisfied: googleapis-common-protos<2.0dev,>=1.6.0 in /usr/local/lib/python3.7/dist-packages (from google-api-core<3dev,>=1.21.0->google-api-python-client>=1.6.7->tf-models-official) (1.55.0)\n",
      "Requirement already satisfied: setuptools>=40.3.0 in /usr/local/lib/python3.7/dist-packages (from google-api-core<3dev,>=1.21.0->google-api-python-client>=1.6.7->tf-models-official) (57.4.0)\n",
      "Requirement already satisfied: packaging>=14.3 in /usr/local/lib/python3.7/dist-packages (from google-api-core<3dev,>=1.21.0->google-api-python-client>=1.6.7->tf-models-official) (21.3)\n",
      "Requirement already satisfied: pytz in /usr/local/lib/python3.7/dist-packages (from google-api-core<3dev,>=1.21.0->google-api-python-client>=1.6.7->tf-models-official) (2018.9)\n",
      "Requirement already satisfied: pyasn1-modules>=0.2.1 in /usr/local/lib/python3.7/dist-packages (from google-auth<3dev,>=1.16.0->google-api-python-client>=1.6.7->tf-models-official) (0.2.8)\n",
      "Requirement already satisfied: cachetools<5.0,>=2.0.0 in /usr/local/lib/python3.7/dist-packages (from google-auth<3dev,>=1.16.0->google-api-python-client>=1.6.7->tf-models-official) (4.2.4)\n",
      "Requirement already satisfied: rsa<5,>=3.1.4 in /usr/local/lib/python3.7/dist-packages (from google-auth<3dev,>=1.16.0->google-api-python-client>=1.6.7->tf-models-official) (4.8)\n",
      "Requirement already satisfied: urllib3 in /usr/local/lib/python3.7/dist-packages (from kaggle>=1.3.9->tf-models-official) (1.25.11)\n",
      "Requirement already satisfied: certifi in /usr/local/lib/python3.7/dist-packages (from kaggle>=1.3.9->tf-models-official) (2021.10.8)\n",
      "Requirement already satisfied: python-slugify in /usr/local/lib/python3.7/dist-packages (from kaggle>=1.3.9->tf-models-official) (6.1.1)\n",
      "Requirement already satisfied: tqdm in /usr/local/lib/python3.7/dist-packages (from kaggle>=1.3.9->tf-models-official) (4.63.0)\n",
      "Requirement already satisfied: python-dateutil in /usr/local/lib/python3.7/dist-packages (from kaggle>=1.3.9->tf-models-official) (2.8.2)\n",
      "Requirement already satisfied: pyparsing!=3.0.5,>=2.0.2 in /usr/local/lib/python3.7/dist-packages (from packaging>=14.3->google-api-core<3dev,>=1.21.0->google-api-python-client>=1.6.7->tf-models-official) (3.0.7)\n",
      "Requirement already satisfied: pyasn1<0.5.0,>=0.4.6 in /usr/local/lib/python3.7/dist-packages (from pyasn1-modules>=0.2.1->google-auth<3dev,>=1.16.0->google-api-python-client>=1.6.7->tf-models-official) (0.4.8)\n",
      "Requirement already satisfied: idna<3,>=2.5 in /usr/local/lib/python3.7/dist-packages (from requests<3.0.0dev,>=2.18.0->google-api-core<3dev,>=1.21.0->google-api-python-client>=1.6.7->tf-models-official) (2.10)\n",
      "Requirement already satisfied: chardet<4,>=3.0.2 in /usr/local/lib/python3.7/dist-packages (from requests<3.0.0dev,>=2.18.0->google-api-core<3dev,>=1.21.0->google-api-python-client>=1.6.7->tf-models-official) (3.0.4)\n",
      "Requirement already satisfied: typing-extensions>=3.6.6 in /usr/local/lib/python3.7/dist-packages (from tensorflow~=2.8.0->tf-models-official) (3.10.0.2)\n",
      "Requirement already satisfied: tensorboard<2.9,>=2.8 in /usr/local/lib/python3.7/dist-packages (from tensorflow~=2.8.0->tf-models-official) (2.8.0)\n",
      "Collecting tf-estimator-nightly==2.8.0.dev2021122109\n",
      "  Downloading tf_estimator_nightly-2.8.0.dev2021122109-py2.py3-none-any.whl (462 kB)\n",
      "\u001B[K     |████████████████████████████████| 462 kB 56.8 MB/s \n",
      "\u001B[?25hRequirement already satisfied: absl-py>=0.4.0 in /usr/local/lib/python3.7/dist-packages (from tensorflow~=2.8.0->tf-models-official) (1.0.0)\n",
      "Requirement already satisfied: google-pasta>=0.1.1 in /usr/local/lib/python3.7/dist-packages (from tensorflow~=2.8.0->tf-models-official) (0.2.0)\n",
      "Requirement already satisfied: h5py>=2.9.0 in /usr/local/lib/python3.7/dist-packages (from tensorflow~=2.8.0->tf-models-official) (3.1.0)\n",
      "Requirement already satisfied: keras-preprocessing>=1.1.1 in /usr/local/lib/python3.7/dist-packages (from tensorflow~=2.8.0->tf-models-official) (1.1.2)\n",
      "Requirement already satisfied: tensorflow-io-gcs-filesystem>=0.23.1 in /usr/local/lib/python3.7/dist-packages (from tensorflow~=2.8.0->tf-models-official) (0.24.0)\n",
      "Requirement already satisfied: opt-einsum>=2.3.2 in /usr/local/lib/python3.7/dist-packages (from tensorflow~=2.8.0->tf-models-official) (3.3.0)\n",
      "Requirement already satisfied: astunparse>=1.6.0 in /usr/local/lib/python3.7/dist-packages (from tensorflow~=2.8.0->tf-models-official) (1.6.3)\n",
      "Requirement already satisfied: gast>=0.2.1 in /usr/local/lib/python3.7/dist-packages (from tensorflow~=2.8.0->tf-models-official) (0.5.3)\n",
      "Requirement already satisfied: termcolor>=1.1.0 in /usr/local/lib/python3.7/dist-packages (from tensorflow~=2.8.0->tf-models-official) (1.1.0)\n",
      "Requirement already satisfied: flatbuffers>=1.12 in /usr/local/lib/python3.7/dist-packages (from tensorflow~=2.8.0->tf-models-official) (2.0)\n",
      "Requirement already satisfied: libclang>=9.0.1 in /usr/local/lib/python3.7/dist-packages (from tensorflow~=2.8.0->tf-models-official) (13.0.0)\n",
      "Requirement already satisfied: wrapt>=1.11.0 in /usr/local/lib/python3.7/dist-packages (from tensorflow~=2.8.0->tf-models-official) (1.13.3)\n",
      "Requirement already satisfied: grpcio<2.0,>=1.24.3 in /usr/local/lib/python3.7/dist-packages (from tensorflow~=2.8.0->tf-models-official) (1.44.0)\n",
      "Requirement already satisfied: keras<2.9,>=2.8.0rc0 in /usr/local/lib/python3.7/dist-packages (from tensorflow~=2.8.0->tf-models-official) (2.8.0)\n",
      "Requirement already satisfied: wheel<1.0,>=0.23.0 in /usr/local/lib/python3.7/dist-packages (from astunparse>=1.6.0->tensorflow~=2.8.0->tf-models-official) (0.37.1)\n",
      "Requirement already satisfied: cached-property in /usr/local/lib/python3.7/dist-packages (from h5py>=2.9.0->tensorflow~=2.8.0->tf-models-official) (1.5.2)\n",
      "Requirement already satisfied: werkzeug>=0.11.15 in /usr/local/lib/python3.7/dist-packages (from tensorboard<2.9,>=2.8->tensorflow~=2.8.0->tf-models-official) (1.0.1)\n",
      "Requirement already satisfied: markdown>=2.6.8 in /usr/local/lib/python3.7/dist-packages (from tensorboard<2.9,>=2.8->tensorflow~=2.8.0->tf-models-official) (3.3.6)\n",
      "Requirement already satisfied: google-auth-oauthlib<0.5,>=0.4.1 in /usr/local/lib/python3.7/dist-packages (from tensorboard<2.9,>=2.8->tensorflow~=2.8.0->tf-models-official) (0.4.6)\n",
      "Requirement already satisfied: tensorboard-plugin-wit>=1.6.0 in /usr/local/lib/python3.7/dist-packages (from tensorboard<2.9,>=2.8->tensorflow~=2.8.0->tf-models-official) (1.8.1)\n",
      "Requirement already satisfied: tensorboard-data-server<0.7.0,>=0.6.0 in /usr/local/lib/python3.7/dist-packages (from tensorboard<2.9,>=2.8->tensorflow~=2.8.0->tf-models-official) (0.6.1)\n",
      "Requirement already satisfied: requests-oauthlib>=0.7.0 in /usr/local/lib/python3.7/dist-packages (from google-auth-oauthlib<0.5,>=0.4.1->tensorboard<2.9,>=2.8->tensorflow~=2.8.0->tf-models-official) (1.3.1)\n",
      "Requirement already satisfied: importlib-metadata>=4.4 in /usr/local/lib/python3.7/dist-packages (from markdown>=2.6.8->tensorboard<2.9,>=2.8->tensorflow~=2.8.0->tf-models-official) (4.11.2)\n",
      "Requirement already satisfied: zipp>=0.5 in /usr/local/lib/python3.7/dist-packages (from importlib-metadata>=4.4->markdown>=2.6.8->tensorboard<2.9,>=2.8->tensorflow~=2.8.0->tf-models-official) (3.7.0)\n",
      "Requirement already satisfied: oauthlib>=3.0.0 in /usr/local/lib/python3.7/dist-packages (from requests-oauthlib>=0.7.0->google-auth-oauthlib<0.5,>=0.4.1->tensorboard<2.9,>=2.8->tensorflow~=2.8.0->tf-models-official) (3.2.0)\n",
      "Requirement already satisfied: dm-tree~=0.1.1 in /usr/local/lib/python3.7/dist-packages (from tensorflow-model-optimization>=0.4.1->tf-models-official) (0.1.6)\n",
      "Requirement already satisfied: kiwisolver>=1.0.1 in /usr/local/lib/python3.7/dist-packages (from matplotlib->tf-models-official) (1.3.2)\n",
      "Requirement already satisfied: cycler>=0.10 in /usr/local/lib/python3.7/dist-packages (from matplotlib->tf-models-official) (0.11.0)\n",
      "Requirement already satisfied: text-unidecode>=1.3 in /usr/local/lib/python3.7/dist-packages (from python-slugify->kaggle>=1.3.9->tf-models-official) (1.3)\n",
      "Requirement already satisfied: tabulate>=0.8.9 in /usr/local/lib/python3.7/dist-packages (from sacrebleu->tf-models-official) (0.8.9)\n",
      "Requirement already satisfied: regex in /usr/local/lib/python3.7/dist-packages (from sacrebleu->tf-models-official) (2019.12.20)\n",
      "Collecting portalocker\n",
      "  Downloading portalocker-2.4.0-py2.py3-none-any.whl (16 kB)\n",
      "Collecting colorama\n",
      "  Downloading colorama-0.4.4-py2.py3-none-any.whl (16 kB)\n",
      "Requirement already satisfied: scikit-learn>=0.21.3 in /usr/local/lib/python3.7/dist-packages (from seqeval->tf-models-official) (1.0.2)\n",
      "Requirement already satisfied: joblib>=0.11 in /usr/local/lib/python3.7/dist-packages (from scikit-learn>=0.21.3->seqeval->tf-models-official) (1.1.0)\n",
      "Requirement already satisfied: threadpoolctl>=2.0.0 in /usr/local/lib/python3.7/dist-packages (from scikit-learn>=0.21.3->seqeval->tf-models-official) (3.1.0)\n",
      "Requirement already satisfied: typeguard>=2.7 in /usr/local/lib/python3.7/dist-packages (from tensorflow-addons->tf-models-official) (2.7.1)\n",
      "Requirement already satisfied: attrs>=18.1.0 in /usr/local/lib/python3.7/dist-packages (from tensorflow-datasets->tf-models-official) (21.4.0)\n",
      "Requirement already satisfied: dill in /usr/local/lib/python3.7/dist-packages (from tensorflow-datasets->tf-models-official) (0.3.4)\n",
      "Requirement already satisfied: future in /usr/local/lib/python3.7/dist-packages (from tensorflow-datasets->tf-models-official) (0.16.0)\n",
      "Requirement already satisfied: promise in /usr/local/lib/python3.7/dist-packages (from tensorflow-datasets->tf-models-official) (2.3)\n",
      "Requirement already satisfied: tensorflow-metadata in /usr/local/lib/python3.7/dist-packages (from tensorflow-datasets->tf-models-official) (1.7.0)\n",
      "Requirement already satisfied: importlib-resources in /usr/local/lib/python3.7/dist-packages (from tensorflow-datasets->tf-models-official) (5.4.0)\n",
      "Building wheels for collected packages: py-cpuinfo, seqeval\n",
      "  Building wheel for py-cpuinfo (setup.py) ... \u001B[?25l\u001B[?25hdone\n",
      "  Created wheel for py-cpuinfo: filename=py_cpuinfo-8.0.0-py3-none-any.whl size=22257 sha256=7dbf6435371ad8462b5b09c8e2b5d5acc81b7a253ab94a1a00a3785a995ca655\n",
      "  Stored in directory: /root/.cache/pip/wheels/d2/f1/1f/041add21dc9c4220157f1bd2bd6afe1f1a49524c3396b94401\n",
      "  Building wheel for seqeval (setup.py) ... \u001B[?25l\u001B[?25hdone\n",
      "  Created wheel for seqeval: filename=seqeval-1.2.2-py3-none-any.whl size=16180 sha256=3e0d79980236c7e24baf919a66fa4e2b18b4ed947f4f13c5f0dc7029c13a0fc9\n",
      "  Stored in directory: /root/.cache/pip/wheels/05/96/ee/7cac4e74f3b19e3158dce26a20a1c86b3533c43ec72a549fd7\n",
      "Successfully built py-cpuinfo seqeval\n",
      "Installing collected packages: tf-estimator-nightly, portalocker, colorama, tf-slim, tensorflow-text, tensorflow-model-optimization, tensorflow-addons, seqeval, sentencepiece, sacrebleu, pyyaml, py-cpuinfo, opencv-python-headless, tf-models-official\n",
      "  Attempting uninstall: pyyaml\n",
      "    Found existing installation: PyYAML 6.0\n",
      "    Uninstalling PyYAML-6.0:\n",
      "      Successfully uninstalled PyYAML-6.0\n",
      "Successfully installed colorama-0.4.4 opencv-python-headless-4.5.5.64 portalocker-2.4.0 py-cpuinfo-8.0.0 pyyaml-5.4.1 sacrebleu-2.0.0 sentencepiece-0.1.96 seqeval-1.2.2 tensorflow-addons-0.16.1 tensorflow-model-optimization-0.7.1 tensorflow-text-2.8.1 tf-estimator-nightly-2.8.0.dev2021122109 tf-models-official-2.8.0 tf-slim-1.1.0\n",
      "Requirement already satisfied: pyyaml in /usr/local/lib/python3.7/dist-packages (5.4.1)\n",
      "Requirement already satisfied: h5py in /usr/local/lib/python3.7/dist-packages (3.1.0)\n",
      "Requirement already satisfied: numpy>=1.14.5 in /usr/local/lib/python3.7/dist-packages (from h5py) (1.21.5)\n",
      "Requirement already satisfied: cached-property in /usr/local/lib/python3.7/dist-packages (from h5py) (1.5.2)\n"
     ]
    },
    {
     "output_type": "execute_result",
     "data": {
      "application/vnd.google.colaboratory.intrinsic+json": {
       "type": "string"
      },
      "text/plain": [
       "'\\nIf you have ongoing issues with the transformers library, Also consider installing from source: \\ngit clone https://github.com/huggingface/transformers.git \\ncd transformers (in Dropbox/C/25_Studium_Master/TUM_RCI/2021_WS/NLP/3-Exercises-Workspace/transformers)\\npip install -e\\nAlso update git\\n'"
      ]
     },
     "metadata": {},
     "execution_count": 2
    }
   ],
   "source": [
    "!pip install GPUtil                   # to check GPU usage\n",
    "!pip install -q bs4                   # to clean the lyrics\n",
    "!pip install -q datasets\n",
    "!pip install transformers             # for training\n",
    "# Update Transformers from the source if you get errors:\n",
    "# !pip install git + https://github.com/huggingface/transformers\n",
    "!pip install tf-models-official       # for optimization\n",
    "!pip install pyyaml h5py              # to save the models\n",
    "\n",
    "\"\"\"\n",
    "If you have ongoing issues with the transformers library, Also consider installing from source: \n",
    "git clone https://github.com/huggingface/transformers.git \n",
    "cd transformers (in Dropbox/C/25_Studium_Master/TUM_RCI/2021_WS/NLP/3-Exercises-Workspace/transformers)\n",
    "pip install -e\n",
    "Also update git\n",
    "\"\"\""
   ],
   "id": "PnhP1xG43GIe"
  },
  {
   "cell_type": "code",
   "execution_count": 3,
   "metadata": {
    "id": "d295d957",
    "executionInfo": {
     "status": "ok",
     "timestamp": 1646931705126,
     "user_tz": -60,
     "elapsed": 12318,
     "user": {
      "displayName": "Volkan Tatlikazan",
      "photoUrl": "https://lh3.googleusercontent.com/a-/AOh14GjmHAs2j8h9Y8NaxNe2GgIdffGW5139mkQzJrykJQ=s64",
      "userId": "02369655295950434275"
     }
    }
   },
   "outputs": [],
   "source": [
    "import tensorflow as tf\n",
    "from tensorflow import keras\n",
    "from transformers import AutoConfig, AutoTokenizer, TFAutoModelForCausalLM, default_data_collator, pipeline \n",
    "# DefaultDataCollator: for the error https://github.com/huggingface/transformers/pull/5015\n",
    "from official.nlp import optimization\n",
    "from datasets import Dataset      # https://huggingface.co/docs/datasets/\n",
    "from bs4 import BeautifulSoup     # easy webscraping\n",
    "import requests                   # for sending http requests\n",
    "import re                         # regular expressions, excellent for string searching/replacing, \n",
    "# extremely powerful for manual NLP, check out the documentation at https://docs.python.org/3/library/re.html\n",
    "import os                         # accessing file paths\n",
    "# os.environ[\"CUDA_VISIBLE_DEVICES\"]=\"-1\" to deactive GPU\n",
    "import json\n",
    "import random\n",
    "from collections import Counter\n",
    "import math\n",
    "import GPUtil\n",
    "from numba import cuda \n",
    "\n",
    "model_name = \"gpt2\"               # selected pretrained language model from https://huggingface.co/models\n",
    "\n",
    "# \"gtp3\" is huge, needed several GPUs for traning, didnt fit in to Colab Pro Machine. \n",
    "# I tried distilgpt2 on my machine. But even then I ran in to problems with OOM \n",
    "# errors often before switching to Google Colab Pro (10euro/month) for efficiency\n",
    "# as I only have a GeForce GTX M 860 with 4 GB memory. I didn't try distilgpt2\n",
    "# here again as I direct could use gpt2."
   ],
   "id": "d295d957"
  },
  {
   "cell_type": "code",
   "execution_count": 4,
   "metadata": {
    "id": "X48IcEdVc3oD",
    "executionInfo": {
     "status": "ok",
     "timestamp": 1646931705134,
     "user_tz": -60,
     "elapsed": 28,
     "user": {
      "displayName": "Volkan Tatlikazan",
      "photoUrl": "https://lh3.googleusercontent.com/a-/AOh14GjmHAs2j8h9Y8NaxNe2GgIdffGW5139mkQzJrykJQ=s64",
      "userId": "02369655295950434275"
     }
    }
   },
   "outputs": [],
   "source": [
    "#GPUtil.showUtilization()"
   ],
   "id": "X48IcEdVc3oD"
  },
  {
   "cell_type": "markdown",
   "metadata": {
    "id": "5bc10f82"
   },
   "source": [
    "# Downloading Lyrics"
   ],
   "id": "5bc10f82"
  },
  {
   "cell_type": "code",
   "execution_count": 5,
   "metadata": {
    "colab": {
     "base_uri": "https://localhost:8080/",
     "height": 139
    },
    "id": "f9f404fc",
    "executionInfo": {
     "status": "ok",
     "timestamp": 1646931705135,
     "user_tz": -60,
     "elapsed": 26,
     "user": {
      "displayName": "Volkan Tatlikazan",
      "photoUrl": "https://lh3.googleusercontent.com/a-/AOh14GjmHAs2j8h9Y8NaxNe2GgIdffGW5139mkQzJrykJQ=s64",
      "userId": "02369655295950434275"
     }
    },
    "outputId": "59b4984b-672f-4e91-c078-12e79591895c"
   },
   "outputs": [
    {
     "output_type": "execute_result",
     "data": {
      "application/vnd.google.colaboratory.intrinsic+json": {
       "type": "string"
      },
      "text/plain": [
       "'\\nartist_links = [\\n    \"https://www.lyricsfreak.com/b/blues+brothers/\"\\n]\\n    \\n\\n# helper functions\\ndef get_links(artist_link):\\n    page = requests.get(artist_link)\\n    soup = BeautifulSoup(page.content, \\'html.parser\\')\\n    a = soup.findAll(\"a\", {\"class\": \"lf-link lf-link--primary\"})\\n    links = [i[\"href\"] for i in a]\\n    print(str(len(links)) + \" lyrics found at \" + artist_link)\\n    return(links)\\n\\ndef get_lyrics(links):\\n    lyrics = {}\\n    for l in links:\\n        page = requests.get(\"https://www.lyricsfreak.com\" + str(l))\\n        soup = BeautifulSoup(page.content, \\'html.parser\\')\\n        title = re.sub(\"\\\\+\", \"_\", l.split(\"/\")[-1].split(\"_\")[0])\\n        lyrics[title] = soup.find(id = \"content\")\\n    return(lyrics)\\n\\n# some strings in the lyrics that will be removed\\nbeg = re.compile(\\'<div class.*\\')\\nend = re.compile(\\'</div>\\')\\nlin = re.compile(\\'<br/>\\')\\ncho = re.compile(\\'chorus|verse|intro\\', flags = re.IGNORECASE)\\ncr = re.compile(\\'\\r\\')\\npatterns = [beg, end, lin, cho, cr]\\n\\ndef clean_text(patterns, text):\\n    text = str(text)\\n    for pattern in patterns:\\n        text = re.sub(pattern, \"\", text)\\n    return(text.strip())\\n        \\nlyrics_dict = {}\\n\\nfor artist_link in artist_links:\\n    \\n    lyrics_links = [link for link in (get_links(artist_link))]\\n    lyrics = get_lyrics(lyrics_links)\\n    lyrics = {title: clean_text(patterns,lyric) for title, lyric in lyrics.items()}\\n    \\n    lyrics_dict[re.sub(\"\\\\+\", \"_\", artist_link.split(\"/\")[-2])] = lyrics\\n\\nwith open(save_path + \"one_artist.json\", \"w\", encoding = \"utf8\") as f:\\n    \\n    json.dump(lyrics_dict, f)\\n\\n'"
      ]
     },
     "metadata": {},
     "execution_count": 5
    }
   ],
   "source": [
    "# FROM: 10 Finetuning a Language Model with Huggingface - Lyrics Mashup\n",
    "# CHANGES: Changed the directories to save genres separately \n",
    "\n",
    "# I used the my own machine here to save time during the downloading of lyrics, \n",
    "# That is why the above download paths are for my own PC instead of drive. \n",
    "# This cell and the above 6 needs to be ran own your own machine as your CPU is \n",
    "# Faster then Google Colabs GPU for downloads. Then the files need to be copied\n",
    "# to drive afterwards and the drive has to be mounted as it's done at the start\n",
    "# of the notebook \n",
    "\n",
    "# Commented out to make the restarting and runnning easier as this is needed once \n",
    "\n",
    "# USE THE LOCAL ONE!!!!\n",
    "\n",
    "# helper functions\n",
    "# insert links to lyricsfreak artist pages\n",
    "\"\"\"\n",
    "artist_links = [\n",
    "    \"https://www.lyricsfreak.com/b/blues+brothers/\"\n",
    "]\n",
    "    \n",
    "\n",
    "# helper functions\n",
    "def get_links(artist_link):\n",
    "    page = requests.get(artist_link)\n",
    "    soup = BeautifulSoup(page.content, 'html.parser')\n",
    "    a = soup.findAll(\"a\", {\"class\": \"lf-link lf-link--primary\"})\n",
    "    links = [i[\"href\"] for i in a]\n",
    "    print(str(len(links)) + \" lyrics found at \" + artist_link)\n",
    "    return(links)\n",
    "\n",
    "def get_lyrics(links):\n",
    "    lyrics = {}\n",
    "    for l in links:\n",
    "        page = requests.get(\"https://www.lyricsfreak.com\" + str(l))\n",
    "        soup = BeautifulSoup(page.content, 'html.parser')\n",
    "        title = re.sub(\"\\+\", \"_\", l.split(\"/\")[-1].split(\"_\")[0])\n",
    "        lyrics[title] = soup.find(id = \"content\")\n",
    "    return(lyrics)\n",
    "\n",
    "# some strings in the lyrics that will be removed\n",
    "beg = re.compile('<div class.*')\n",
    "end = re.compile('</div>')\n",
    "lin = re.compile('<br/>')\n",
    "cho = re.compile('chorus|verse|intro', flags = re.IGNORECASE)\n",
    "cr = re.compile('\\r')\n",
    "patterns = [beg, end, lin, cho, cr]\n",
    "\n",
    "def clean_text(patterns, text):\n",
    "    text = str(text)\n",
    "    for pattern in patterns:\n",
    "        text = re.sub(pattern, \"\", text)\n",
    "    return(text.strip())\n",
    "        \n",
    "lyrics_dict = {}\n",
    "\n",
    "for artist_link in artist_links:\n",
    "    \n",
    "    lyrics_links = [link for link in (get_links(artist_link))]\n",
    "    lyrics = get_lyrics(lyrics_links)\n",
    "    lyrics = {title: clean_text(patterns,lyric) for title, lyric in lyrics.items()}\n",
    "    \n",
    "    lyrics_dict[re.sub(\"\\+\", \"_\", artist_link.split(\"/\")[-2])] = lyrics\n",
    "\n",
    "with open(save_path + \"one_artist.json\", \"w\", encoding = \"utf8\") as f:\n",
    "    \n",
    "    json.dump(lyrics_dict, f)\n",
    "\n",
    "\"\"\""
   ],
   "id": "f9f404fc"
  },
  {
   "cell_type": "markdown",
   "metadata": {
    "id": "v1QcBPYssvUe"
   },
   "source": [
    "# Generator <a class=\"anchor\" id=\"Generator\"></a>"
   ],
   "id": "v1QcBPYssvUe"
  },
  {
   "cell_type": "code",
   "execution_count": 6,
   "metadata": {
    "id": "440f5c75",
    "executionInfo": {
     "status": "ok",
     "timestamp": 1646931706347,
     "user_tz": -60,
     "elapsed": 1233,
     "user": {
      "displayName": "Volkan Tatlikazan",
      "photoUrl": "https://lh3.googleusercontent.com/a-/AOh14GjmHAs2j8h9Y8NaxNe2GgIdffGW5139mkQzJrykJQ=s64",
      "userId": "02369655295950434275"
     }
    }
   },
   "outputs": [],
   "source": [
    "# FROM: 10 Finetuning a Language Model with Huggingface - Lyrics Mashup\n",
    "# CHANGES: Changed the directories to save genres separately \n",
    "\n",
    "# loading saved lyrics files\n",
    "\n",
    "with open(\"/content/drive/MyDrive/EchoCanyon/lyrics/my_artists.json\", \"r\", encoding = \"utf8\") as f:\n",
    "\n",
    "    lyrics_dict = {}\n",
    "    lyrics_dict = json.load(f)"
   ],
   "id": "440f5c75"
  },
  {
   "cell_type": "code",
   "execution_count": 7,
   "metadata": {
    "id": "911dfedb",
    "executionInfo": {
     "status": "ok",
     "timestamp": 1646931706349,
     "user_tz": -60,
     "elapsed": 12,
     "user": {
      "displayName": "Volkan Tatlikazan",
      "photoUrl": "https://lh3.googleusercontent.com/a-/AOh14GjmHAs2j8h9Y8NaxNe2GgIdffGW5139mkQzJrykJQ=s64",
      "userId": "02369655295950434275"
     }
    }
   },
   "outputs": [],
   "source": [
    "# FROM: 10 Finetuning a Language Model with Huggingface - Lyrics Mashup\n",
    "# CHANGES: None\n",
    "\n",
    "# reformatting lyrics\n",
    "\n",
    "lyrics = {\"text\":[], \"artist\":[]}\n",
    "for artist, titles in lyrics_dict.items():\n",
    "    \n",
    "    for title, text in titles.items():\n",
    "        \n",
    "        lyrics[\"artist\"].append(artist)\n",
    "        lyrics[\"text\"].append(text)"
   ],
   "id": "911dfedb"
  },
  {
   "cell_type": "code",
   "execution_count": 8,
   "metadata": {
    "colab": {
     "base_uri": "https://localhost:8080/",
     "height": 182,
     "referenced_widgets": [
      "79fdf8bcc94f41ba859469ba9611f039",
      "0322f211ec1e43cd86e6e58001901fd2",
      "64f199c7630a4854baa9fdbdbf4e2eb9",
      "0b9cd123a0cb48e7aea96f21d9dd86b3",
      "f334d38f11af40cc951f42af087c1028",
      "261ef68e52d5430a828e3e5906cfe38e",
      "9ac83823cd0d45b8bcc79413cdc0235a",
      "590538e7083b43fbbf4dd34d109e4bed",
      "cdcdf2fec3a24869b2792b23ea2b8c24",
      "55e530541dac4866a653aff5fb9b09ad",
      "c5ad6bf708fc41b49eb7df8f959ec67b",
      "7b25d5a114054413b38e95574fe60a7d",
      "bb489f6435a94421a4cb45bf70d9be05",
      "2553b1bbe9ab431b98ad707b62af5aa0",
      "10e7f4411a994e409f540d7da72f878a",
      "303ce0cbd6c44f1481823fef320a9b14",
      "ad086b9da8df408ba770512a2832422e",
      "3e1054f6b3ee4394b197b29b2b22c647",
      "1f08ee563b2b46439a5d42ddcd1f25bb",
      "117f3c712a214236bc2ee9d63dd546d6",
      "de70510a62ce4105a01595619eba466d",
      "06ff7272ee0f45f2b6674e2b82ffc5e7",
      "1116f9198d0f4e4f9f4319c78dc7ffd0",
      "6fce575115b147889a41dae731a0219d",
      "0fbea9ed69234feba70fa6855de030f7",
      "d042b0201fed477f868a4ef9ae93d047",
      "efbcb4e40a7f41f0bb81536b028a7914",
      "13f5b97568a143f3b64a78634f9334cc",
      "713edcb0eefe4707b7a1cd1cd3a7bbc8",
      "b773b415ba9746ba9e6f920b4cd9a347",
      "a455c55660dd41e696a1fb7a435b3990",
      "76f7ab7a39024e909f5ebe1903dcdd64",
      "abf80521569242d488d3c452705cd8e0",
      "943b81708b8349709cab8367e711a745",
      "2357eec94744484eaf6685bb4985c38f",
      "61c64fd6225e4a1b885e50689a36e05d",
      "4efe4849e4d94b20be10a0c7044c56e9",
      "1b096dd753614295b9026f88f3fd3a0e",
      "4a138d4017814c078b052bbfb53f746c",
      "80669c76df5b496d9823833a4692e2e8",
      "53faa6194c49468fa70b91e1328cfd71",
      "abac5a7450bf45908ca65331e006c2ca",
      "884c09aeec494fe6a49fcfb61681ae5d",
      "e1fa7cdd58404c43be14953e07123851"
     ]
    },
    "id": "49334690",
    "executionInfo": {
     "status": "ok",
     "timestamp": 1646931720704,
     "user_tz": -60,
     "elapsed": 14365,
     "user": {
      "displayName": "Volkan Tatlikazan",
      "photoUrl": "https://lh3.googleusercontent.com/a-/AOh14GjmHAs2j8h9Y8NaxNe2GgIdffGW5139mkQzJrykJQ=s64",
      "userId": "02369655295950434275"
     }
    },
    "outputId": "599127ba-e814-4666-ef46-99edcd969e55"
   },
   "outputs": [
    {
     "output_type": "display_data",
     "data": {
      "application/vnd.jupyter.widget-view+json": {
       "model_id": "79fdf8bcc94f41ba859469ba9611f039",
       "version_minor": 0,
       "version_major": 2
      },
      "text/plain": [
       "Downloading:   0%|          | 0.00/665 [00:00<?, ?B/s]"
      ]
     },
     "metadata": {}
    },
    {
     "output_type": "display_data",
     "data": {
      "application/vnd.jupyter.widget-view+json": {
       "model_id": "7b25d5a114054413b38e95574fe60a7d",
       "version_minor": 0,
       "version_major": 2
      },
      "text/plain": [
       "Downloading:   0%|          | 0.00/0.99M [00:00<?, ?B/s]"
      ]
     },
     "metadata": {}
    },
    {
     "output_type": "display_data",
     "data": {
      "application/vnd.jupyter.widget-view+json": {
       "model_id": "1116f9198d0f4e4f9f4319c78dc7ffd0",
       "version_minor": 0,
       "version_major": 2
      },
      "text/plain": [
       "Downloading:   0%|          | 0.00/446k [00:00<?, ?B/s]"
      ]
     },
     "metadata": {}
    },
    {
     "output_type": "display_data",
     "data": {
      "application/vnd.jupyter.widget-view+json": {
       "model_id": "943b81708b8349709cab8367e711a745",
       "version_minor": 0,
       "version_major": 2
      },
      "text/plain": [
       "Downloading:   0%|          | 0.00/1.29M [00:00<?, ?B/s]"
      ]
     },
     "metadata": {}
    },
    {
     "output_type": "stream",
     "name": "stdout",
     "text": [
      "['Come', ' on', ',', ' oh', ' bab', 'a', ' don', \"'t\", ' you', ' want', ' to', ' go', '\\n', 'Oh', ' come', ' on', ',', ' oh', ' bab', 'a', ' don', \"'t\", ' you', ' want', ' to', ' go', '\\n', 'Back', ' to', ' that', ' same', ' old', ' place', '\\n', 'Sweet', ' home', ' Chicago', '\\n', '\\n', 'Come', ' on', ',', ' bab', 'a', ' don', \"'t\", ' you', ' want', ' to', ' go', '\\n', 'H', 'ida', '-', 'hey', ',', ' bab', 'a', ' don', \"'t\", ' you', ' want', ' to', ' go', '\\n', 'Ba']\n"
     ]
    }
   ],
   "source": [
    "# FROM: 10 Finetuning a Language Model with Huggingface - Lyrics Mashup\n",
    "# CHANGES: None\n",
    "\n",
    "# AutoTokenizer will find and load the right tokenizer for all common models in the huggingface library\n",
    "tokenizer = AutoTokenizer.from_pretrained(model_name)\n",
    "\n",
    "i = random.randint(0, len(lyrics[\"text\"]))\n",
    "example_text = lyrics[\"text\"][i][0:200]\n",
    "example_text_tokenized = tokenizer(example_text)\n",
    "print([tokenizer.decode(token) for token in example_text_tokenized[\"input_ids\"]])"
   ],
   "id": "49334690"
  },
  {
   "cell_type": "code",
   "execution_count": 9,
   "metadata": {
    "colab": {
     "base_uri": "https://localhost:8080/"
    },
    "id": "fcfb5967",
    "executionInfo": {
     "status": "ok",
     "timestamp": 1646931720706,
     "user_tz": -60,
     "elapsed": 27,
     "user": {
      "displayName": "Volkan Tatlikazan",
      "photoUrl": "https://lh3.googleusercontent.com/a-/AOh14GjmHAs2j8h9Y8NaxNe2GgIdffGW5139mkQzJrykJQ=s64",
      "userId": "02369655295950434275"
     }
    },
    "outputId": "4277a1e6-55e5-4fb5-f325-35282eee8b7d"
   },
   "outputs": [
    {
     "output_type": "stream",
     "name": "stdout",
     "text": [
      "Dataset({\n",
      "    features: ['text', 'artist'],\n",
      "    num_rows: 66\n",
      "})\n"
     ]
    }
   ],
   "source": [
    "# FROM: 10 Finetuning a Language Model with Huggingface - Lyrics Mashup\n",
    "# CHANGES: None\n",
    "\n",
    "# transforming lyrics into dataset format\n",
    "\n",
    "dataset = Dataset.from_dict(lyrics)\n",
    "print(dataset)"
   ],
   "id": "fcfb5967"
  },
  {
   "cell_type": "code",
   "execution_count": 10,
   "metadata": {
    "colab": {
     "base_uri": "https://localhost:8080/",
     "height": 156,
     "referenced_widgets": [
      "43a51861a65643a9adaa776eb6853345",
      "2baa82647e3643d3aa9f31615165e629",
      "7184be8aca7f471583fa0e1bbd2a8c5a",
      "e59491c2011e4f8f89ca1128746b346e",
      "72ef6c38b4f2439eb998222f6cd84dba",
      "d87824cdfb9343e0942d77ba4d17eb5f",
      "52c27cea19fa4704bba5bbfd9f5569ac",
      "e3a8b533b03748f1aecbcdf786c04508",
      "03ae70a54eb14ad5a820c48755f14f57",
      "448e7e36bac04f939b2fbc45d5c280de",
      "4e79afd606084ff1810232ca482c0344"
     ]
    },
    "id": "c6ae3784",
    "executionInfo": {
     "status": "ok",
     "timestamp": 1646931721231,
     "user_tz": -60,
     "elapsed": 546,
     "user": {
      "displayName": "Volkan Tatlikazan",
      "photoUrl": "https://lh3.googleusercontent.com/a-/AOh14GjmHAs2j8h9Y8NaxNe2GgIdffGW5139mkQzJrykJQ=s64",
      "userId": "02369655295950434275"
     }
    },
    "outputId": "bca9511d-6016-43da-ead1-86c8f666e04e"
   },
   "outputs": [
    {
     "output_type": "display_data",
     "data": {
      "application/vnd.jupyter.widget-view+json": {
       "model_id": "43a51861a65643a9adaa776eb6853345",
       "version_minor": 0,
       "version_major": 2
      },
      "text/plain": [
       "0ex [00:00, ?ex/s]"
      ]
     },
     "metadata": {}
    },
    {
     "output_type": "stream",
     "name": "stdout",
     "text": [
      "Dataset({\n",
      "    features: ['artist', 'tokens'],\n",
      "    num_rows: 66\n",
      "})\n",
      "['El', 'wood', ' :', '\\n', '\"', 'Good', ' evening', ' everyone', ' and', ' welcome', ' to', ' the', ' United', ' States', ' of', ' America', '.', ' And', ' indeed', ' we']\n"
     ]
    }
   ],
   "source": [
    "# FROM: 10 Finetuning a Language Model with Huggingface - Lyrics Mashup\n",
    "# CHANGES: None\n",
    "\n",
    "# tokenizing before chunking, to ensure equal lengths\n",
    "\n",
    "def pretokenization(text, tokenizer):\n",
    "    tokens = tokenizer(text, truncation = False, add_special_tokens = False, return_attention_mask = False)\n",
    "    return {\"tokens\":[tokenizer.decode(token) for token in tokens[\"input_ids\"]]}\n",
    "\n",
    "tokenized_dataset = dataset.map(lambda x: pretokenization(x[\"text\"],tokenizer), remove_columns = [\"text\"])\n",
    "print(tokenized_dataset)\n",
    "i = random.randint(0, len(dataset[\"text\"]))\n",
    "print(tokenized_dataset[\"tokens\"][i][0:20])"
   ],
   "id": "c6ae3784"
  },
  {
   "cell_type": "code",
   "execution_count": 11,
   "metadata": {
    "colab": {
     "base_uri": "https://localhost:8080/",
     "height": 153,
     "referenced_widgets": [
      "52ff502e185044e89f6106341c412f09",
      "9418738301d845f78b35f04490753753",
      "b771e9020f1a4d73abcc0849764ced39",
      "01ddb3aae1634718bacc7d54c1918503",
      "5142bf1c3e6340ddb7d044f1df18c2f4",
      "5830eb5ba1b247fdbbdbb823f97a2acd",
      "fcc9bd755366472e8d0273c9b873ef01",
      "1f1825b691ed41efab558499ede36c6a",
      "4e9d82862aeb409a969e44ad7804e8b9",
      "0891119c53194b80b70934c493a4dff7",
      "7bd26a41f93749b6a32e3eb24f7da7dd"
     ]
    },
    "id": "3886afe6",
    "executionInfo": {
     "status": "ok",
     "timestamp": 1646931721232,
     "user_tz": -60,
     "elapsed": 42,
     "user": {
      "displayName": "Volkan Tatlikazan",
      "photoUrl": "https://lh3.googleusercontent.com/a-/AOh14GjmHAs2j8h9Y8NaxNe2GgIdffGW5139mkQzJrykJQ=s64",
      "userId": "02369655295950434275"
     }
    },
    "outputId": "69e5fda5-53e4-49ba-b92a-046eb9b9bea7"
   },
   "outputs": [
    {
     "output_type": "display_data",
     "data": {
      "application/vnd.jupyter.widget-view+json": {
       "model_id": "52ff502e185044e89f6106341c412f09",
       "version_minor": 0,
       "version_major": 2
      },
      "text/plain": [
       "  0%|          | 0/1 [00:00<?, ?ba/s]"
      ]
     },
     "metadata": {}
    },
    {
     "output_type": "stream",
     "name": "stdout",
     "text": [
      "25\n",
      "25\n",
      "Dataset({\n",
      "    features: ['artist', 'tokens'],\n",
      "    num_rows: 847\n",
      "})\n"
     ]
    }
   ],
   "source": [
    "# FROM: 10 Finetuning a Language Model with Huggingface - Lyrics Mashup\n",
    "# CHANGES: None\n",
    "\n",
    "# chunking the lyrics into parts of equal length\n",
    "# greater chunks allow longer-range dependencies but also increase computation \n",
    "chunk_size = 25  # increases computation quadraticly, basically\n",
    "# depens on how many close words to consider during training over the current word \n",
    "#\n",
    "\n",
    "def chunking(examples, chunk_size):\n",
    "    chunks = []\n",
    "    artists = []\n",
    "    for tokens, artist in zip(examples[\"tokens\"], examples[\"artist\"]):\n",
    "\n",
    "        for i in range(0, len(tokens)-chunk_size, chunk_size):\n",
    "            \n",
    "            chunks.append(tokens[i:i+chunk_size])\n",
    "            artists.append(artist)\n",
    "    \n",
    "    return {'tokens': chunks, \"artist\": artists}\n",
    "\n",
    "chunked_dataset = tokenized_dataset.map(lambda x: chunking(x, chunk_size), batched = True, \n",
    "                                        remove_columns = tokenized_dataset.column_names)\n",
    "\n",
    "# check if all chunks are of equal length\n",
    "print(max(len(ids) for ids in chunked_dataset[\"tokens\"]))\n",
    "print(min(len(ids) for ids in chunked_dataset[\"tokens\"]))\n",
    "\n",
    "print(chunked_dataset)"
   ],
   "id": "3886afe6"
  },
  {
   "cell_type": "code",
   "execution_count": 12,
   "metadata": {
    "colab": {
     "base_uri": "https://localhost:8080/",
     "height": 136,
     "referenced_widgets": [
      "4f7bda356caa4535a7204ac5a9c6a817",
      "b679f4b558264fefb172740985003480",
      "0d63db741ef04a3eb2f9fe1a6e70ce12",
      "b082e5a0ee82492ba287def0a0e73d1f",
      "535305aa05744efebc618f4e26b098c1",
      "1c6253ab589b431eac94314bdc0f699a",
      "ebd399984186402ebef3ff007c644604",
      "81b15046af344ef097fb6be7fde40331",
      "9e6e24a0fa34412a9cabda993e5d68e5",
      "bd4ae478efee4c7da613a35a8b047fca",
      "fc0ba1bccc9b433b805557a8163a3a21"
     ]
    },
    "id": "c6ddcdfc",
    "executionInfo": {
     "status": "ok",
     "timestamp": 1646931721233,
     "user_tz": -60,
     "elapsed": 35,
     "user": {
      "displayName": "Volkan Tatlikazan",
      "photoUrl": "https://lh3.googleusercontent.com/a-/AOh14GjmHAs2j8h9Y8NaxNe2GgIdffGW5139mkQzJrykJQ=s64",
      "userId": "02369655295950434275"
     }
    },
    "outputId": "6eb9cd45-6e1e-4a35-d415-fddafddc92d6"
   },
   "outputs": [
    {
     "output_type": "display_data",
     "data": {
      "application/vnd.jupyter.widget-view+json": {
       "model_id": "4f7bda356caa4535a7204ac5a9c6a817",
       "version_minor": 0,
       "version_major": 2
      },
      "text/plain": [
       "  0%|          | 0/1 [00:00<?, ?ba/s]"
      ]
     },
     "metadata": {}
    },
    {
     "output_type": "stream",
     "name": "stdout",
     "text": [
      "Dataset({\n",
      "    features: ['artist', 'tokens'],\n",
      "    num_rows: 847\n",
      "})\n",
      "[('blues_brothers', 847)]\n"
     ]
    }
   ],
   "source": [
    "# FROM: 10 Finetuning a Language Model with Huggingface - Lyrics Mashup\n",
    "# CHANGES: None\n",
    "\n",
    "# stratifying by artist\n",
    "\n",
    "n = Counter(chunked_dataset[\"artist\"]).most_common()[-1][1]  # from library->Collections\n",
    "\n",
    "def stratifying(examples, n):  # to have same amount of lines from both artists\n",
    "    \n",
    "    chunks = []\n",
    "    artists = []\n",
    "    \n",
    "    for artist in set(examples[\"artist\"]):\n",
    "        \n",
    "        artist_chunks = [chunk for a, chunk in zip(examples[\"artist\"], examples[\"tokens\"]) if a == artist]\n",
    "        artist_chunks = random.sample(artist_chunks, n)\n",
    "        \n",
    "        for chunk in artist_chunks:\n",
    "            \n",
    "            chunks.append(chunk)\n",
    "            artists.append(artist)\n",
    "        \n",
    "        \n",
    "    return {'tokens': chunks, \"artist\": artists}\n",
    "    \n",
    "stratified_dataset = chunked_dataset.map(lambda x: stratifying(x, n), batched = True, batch_size = None,\n",
    "                                        remove_columns = tokenized_dataset.column_names)\n",
    "\n",
    "print(stratified_dataset)\n",
    "print(Counter(stratified_dataset[\"artist\"]).most_common())"
   ],
   "id": "c6ddcdfc"
  },
  {
   "cell_type": "code",
   "execution_count": 13,
   "metadata": {
    "colab": {
     "base_uri": "https://localhost:8080/",
     "height": 118,
     "referenced_widgets": [
      "870330c0e843467895312bd6a9832db1",
      "666ea123ab364910b76f1dbf20867836",
      "3926e55738944b60bd85b59417b493a2",
      "6a46d1c0d3af4e88ad8539bbed94e2de",
      "eb3d8ca996b64ab89aa43af382e38433",
      "ec9085ab990c4402b6dce43a5fe82f2d",
      "6f2bc365ffee4db4a748066ef51816ae",
      "18093cf473b649248151e0cef48c6b33",
      "a87d8e577426496984758eac5ed94650",
      "50dc21e636004de58604b954c3c7b27f",
      "35990d3cb8e044db9a7aaa0ab6d6fbb4"
     ]
    },
    "id": "aa811315",
    "executionInfo": {
     "status": "ok",
     "timestamp": 1646931725266,
     "user_tz": -60,
     "elapsed": 4063,
     "user": {
      "displayName": "Volkan Tatlikazan",
      "photoUrl": "https://lh3.googleusercontent.com/a-/AOh14GjmHAs2j8h9Y8NaxNe2GgIdffGW5139mkQzJrykJQ=s64",
      "userId": "02369655295950434275"
     }
    },
    "outputId": "8095b4eb-3ba6-4764-c691-e33359fa28a9"
   },
   "outputs": [
    {
     "output_type": "display_data",
     "data": {
      "application/vnd.jupyter.widget-view+json": {
       "model_id": "870330c0e843467895312bd6a9832db1",
       "version_minor": 0,
       "version_major": 2
      },
      "text/plain": [
       "0ex [00:00, ?ex/s]"
      ]
     },
     "metadata": {}
    },
    {
     "output_type": "stream",
     "name": "stdout",
     "text": [
      "Dataset({\n",
      "    features: ['artist', 'tokens', 'input_ids', 'labels', 'attention_mask'],\n",
      "    num_rows: 847\n",
      "})\n"
     ]
    }
   ],
   "source": [
    "# FROM: 10 Finetuning a Language Model with Huggingface - Lyrics Mashup\n",
    "# CHANGES: None\n",
    "\n",
    "# running tokenization again, to retrieve input_ids, labels and the attention_masks\n",
    "\n",
    "def tokenization(tokens):\n",
    "    tokenized = tokenizer(tokens)\n",
    "    return  {\"input_ids\": tf.squeeze(tokenized[\"input_ids\"]),\n",
    "             # duplicating the inputs for our labels\n",
    "             # \"the model of the 🤗 Transformers library apply the shifting to the right, so we don't need to do it manually\"\n",
    "             \"labels\": tf.squeeze(tokenized[\"input_ids\"]), \n",
    "             \"attention_mask\": tf.squeeze(tokenized[\"attention_mask\"])}\n",
    "\n",
    "final_dataset = stratified_dataset.map(lambda x:tokenization(x[\"tokens\"]))\n",
    "print(final_dataset)"
   ],
   "id": "aa811315"
  },
  {
   "cell_type": "code",
   "execution_count": 14,
   "metadata": {
    "colab": {
     "base_uri": "https://localhost:8080/"
    },
    "id": "b809754f",
    "executionInfo": {
     "status": "ok",
     "timestamp": 1646931725763,
     "user_tz": -60,
     "elapsed": 506,
     "user": {
      "displayName": "Volkan Tatlikazan",
      "photoUrl": "https://lh3.googleusercontent.com/a-/AOh14GjmHAs2j8h9Y8NaxNe2GgIdffGW5139mkQzJrykJQ=s64",
      "userId": "02369655295950434275"
     }
    },
    "outputId": "1c397c39-d1de-436a-ff02-67f8ee1f6ad3"
   },
   "outputs": [
    {
     "output_type": "stream",
     "name": "stdout",
     "text": [
      "<TakeDataset element_spec={'labels': TensorSpec(shape=(2, None), dtype=tf.int64, name=None), 'input_ids': TensorSpec(shape=(2, None), dtype=tf.int64, name=None), 'attention_mask': TensorSpec(shape=(2, None), dtype=tf.int64, name=None)}>\n"
     ]
    }
   ],
   "source": [
    "# FROM: 10 Finetuning a Language Model with Huggingface - Lyrics Mashup\n",
    "# CHANGES: None\n",
    "\n",
    "# shuffling, batching, splitting  # needed when using tf and it needs to be transfored to a Tensorflow Dataset\n",
    "from transformers import DefaultDataCollator\n",
    "\n",
    "batch_size = 2\n",
    "n_batches = round(final_dataset.num_rows/batch_size)\n",
    "n_eval_batches = round(0.1*n_batches)\n",
    "n_train_batches = n_batches - n_eval_batches\n",
    "\n",
    "\n",
    "# transforming to a tensorflow dataset\n",
    "data_collator = DefaultDataCollator(return_tensors= \"tf\")\n",
    "\n",
    "tf_dataset = final_dataset.to_tf_dataset(columns=[\"attention_mask\", \"input_ids\", \"labels\"],\n",
    "                                                                     shuffle = True, \n",
    "                                                                     batch_size = batch_size,\n",
    "                                                                     collate_fn = data_collator)\n",
    "\n",
    "# !!!!! Important: setting the seed does not prevent different shuffling at each epoch, \n",
    "# !!!!! set reshuffle_each_iteration=False if used\n",
    "\n",
    "\n",
    "tf_train_dataset = tf_dataset.take(n_train_batches)\n",
    "tf_eval_dataset = tf_dataset.skip(n_train_batches).take(n_eval_batches)\n",
    "\n",
    "print(tf_train_dataset)"
   ],
   "id": "b809754f"
  },
  {
   "cell_type": "code",
   "execution_count": 15,
   "metadata": {
    "id": "b7fe9826",
    "executionInfo": {
     "status": "ok",
     "timestamp": 1646931726147,
     "user_tz": -60,
     "elapsed": 392,
     "user": {
      "displayName": "Volkan Tatlikazan",
      "photoUrl": "https://lh3.googleusercontent.com/a-/AOh14GjmHAs2j8h9Y8NaxNe2GgIdffGW5139mkQzJrykJQ=s64",
      "userId": "02369655295950434275"
     }
    }
   },
   "outputs": [],
   "source": [
    "# FROM: 10 Finetuning a Language Model with Huggingface - Lyrics Mashup\n",
    "# CHANGES: None\n",
    "\n",
    "# inspecting the configuration of the pretrained model\n",
    "config = AutoConfig.from_pretrained(model_name)\n",
    "\n",
    "# for more elaboration of all the configuration details check here:\n",
    "# https://huggingface.co/docs/transformers/model_doc/gpt2#transformers.GPT2Config\n",
    "# print(config)\n",
    "\n",
    "# \"n_ctx\": 1024, sequence dim\n",
    "# \"n_embd\": 768, embedding dim\n",
    "# \"n_head\": 12, num of attetion heads"
   ],
   "id": "b7fe9826"
  },
  {
   "cell_type": "code",
   "execution_count": 16,
   "metadata": {
    "id": "92d11266",
    "colab": {
     "base_uri": "https://localhost:8080/",
     "height": 138,
     "referenced_widgets": [
      "5076bc5a43e44bd59d14cafa2d84ce0a",
      "8445045abfa84e8c855c117bcb1f0ab4",
      "6a5e197cfd35472984bfebc1fe737489",
      "0bebbb4729514ee2a477bec412f63d33",
      "069eddde42b64f85b5021b7f962ea7da",
      "d56425014de04527b772e2348343dbda",
      "186f81a1752f4808a49066f8342ee24b",
      "4992d026da864041a0784c0f1581b7b6",
      "b7aad0e0a90842c3a82bb9162c674da8",
      "cbad36d9d2e042818290d8dd8f38b091",
      "838de752ee624dbf9427cf5fa50dcc52"
     ]
    },
    "executionInfo": {
     "status": "ok",
     "timestamp": 1646931746186,
     "user_tz": -60,
     "elapsed": 20043,
     "user": {
      "displayName": "Volkan Tatlikazan",
      "photoUrl": "https://lh3.googleusercontent.com/a-/AOh14GjmHAs2j8h9Y8NaxNe2GgIdffGW5139mkQzJrykJQ=s64",
      "userId": "02369655295950434275"
     }
    },
    "outputId": "5fbfa6e9-a664-401d-9949-74621f818524"
   },
   "outputs": [
    {
     "output_type": "display_data",
     "data": {
      "application/vnd.jupyter.widget-view+json": {
       "model_id": "5076bc5a43e44bd59d14cafa2d84ce0a",
       "version_minor": 0,
       "version_major": 2
      },
      "text/plain": [
       "Downloading:   0%|          | 0.00/475M [00:00<?, ?B/s]"
      ]
     },
     "metadata": {}
    },
    {
     "output_type": "stream",
     "name": "stderr",
     "text": [
      "All model checkpoint layers were used when initializing TFGPT2LMHeadModel.\n",
      "\n",
      "All the layers of TFGPT2LMHeadModel were initialized from the model checkpoint at gpt2.\n",
      "If your task is similar to the task the model of the checkpoint was trained on, you can already use TFGPT2LMHeadModel for predictions without further training.\n"
     ]
    }
   ],
   "source": [
    "# FROM: 10 Finetuning a Language Model with Huggingface - Lyrics Mashup\n",
    "# CHANGES: None\n",
    "\n",
    "# loading the model including its causal language modeling head\n",
    "\n",
    "model = TFAutoModelForCausalLM.from_pretrained(model_name)"
   ],
   "id": "92d11266"
  },
  {
   "cell_type": "code",
   "execution_count": 17,
   "metadata": {
    "id": "4db0d73f",
    "executionInfo": {
     "status": "ok",
     "timestamp": 1646931746188,
     "user_tz": -60,
     "elapsed": 33,
     "user": {
      "displayName": "Volkan Tatlikazan",
      "photoUrl": "https://lh3.googleusercontent.com/a-/AOh14GjmHAs2j8h9Y8NaxNe2GgIdffGW5139mkQzJrykJQ=s64",
      "userId": "02369655295950434275"
     }
    }
   },
   "outputs": [],
   "source": [
    "# FROM: 10 Finetuning a Language Model with Huggingface - Lyrics Mashup\n",
    "# CHANGES: None\n",
    "\n",
    "# testing the pretrained model as is\n",
    "\n",
    "generator = pipeline('text-generation',model=model, tokenizer=tokenizer) \n",
    "\n",
    "# for more detailed tuning you have to implement differently\n",
    "# for that the tokenization works\n",
    "# for different amount of randomness etc.\n",
    "\n",
    "\n",
    "#prompt = \"Peace sells but who is buying\"\n",
    "\n",
    "#print(generator(prompt)[0][\"generated_text\"])\n",
    "# so you can see it wasnt trained on lyrics"
   ],
   "id": "4db0d73f"
  },
  {
   "cell_type": "code",
   "execution_count": 18,
   "metadata": {
    "id": "6a44875d",
    "colab": {
     "base_uri": "https://localhost:8080/"
    },
    "executionInfo": {
     "status": "ok",
     "timestamp": 1646931746189,
     "user_tz": -60,
     "elapsed": 30,
     "user": {
      "displayName": "Volkan Tatlikazan",
      "photoUrl": "https://lh3.googleusercontent.com/a-/AOh14GjmHAs2j8h9Y8NaxNe2GgIdffGW5139mkQzJrykJQ=s64",
      "userId": "02369655295950434275"
     }
    },
    "outputId": "3983dbd2-07d8-40a2-bf83-caaf27c14f09"
   },
   "outputs": [
    {
     "output_type": "stream",
     "name": "stderr",
     "text": [
      "No loss specified in compile() - the model's internal loss computation will be used as the loss. Don't panic - this is a common way to train TensorFlow models in Transformers! Please ensure your labels are passed as keys in the input dict so that they are accessible to the model during the forward pass. To disable this behaviour, please pass a loss argument, or explicitly pass loss=None if you do not want your model to compute a loss.\n"
     ]
    }
   ],
   "source": [
    "# FROM: 10 Finetuning a Language Model with Huggingface - Lyrics Mashup\n",
    "# CHANGES: Hyperparameter Tuning see next section\n",
    "\n",
    "# initializing the optimizer and defining our learning rate schedule\n",
    "\n",
    "epochs = 50\n",
    "num_train_steps = epochs * n_train_batches\n",
    "warmup_ratio = 0.1\n",
    "num_warmup_steps = int(warmup_ratio*num_train_steps)\n",
    "\n",
    "init_lr = 1e-3\n",
    "\n",
    "optimizer = optimization.create_optimizer(init_lr=init_lr,\n",
    "                                          num_train_steps=num_train_steps,\n",
    "                                          num_warmup_steps=num_warmup_steps,\n",
    "                                          optimizer_type='adamw')\n",
    "\n",
    "# compiling the model\n",
    "model.compile(optimizer=optimizer)"
   ],
   "id": "6a44875d"
  },
  {
   "cell_type": "code",
   "execution_count": 19,
   "metadata": {
    "colab": {
     "base_uri": "https://localhost:8080/"
    },
    "id": "61487b7a",
    "executionInfo": {
     "status": "ok",
     "timestamp": 1646933125611,
     "user_tz": -60,
     "elapsed": 1379444,
     "user": {
      "displayName": "Volkan Tatlikazan",
      "photoUrl": "https://lh3.googleusercontent.com/a-/AOh14GjmHAs2j8h9Y8NaxNe2GgIdffGW5139mkQzJrykJQ=s64",
      "userId": "02369655295950434275"
     }
    },
    "outputId": "7ed2c560-1008-4ef4-b58e-17d64155feaa"
   },
   "outputs": [
    {
     "output_type": "stream",
     "name": "stdout",
     "text": [
      "Epoch 1/50\n",
      "382/382 [==============================] - 55s 76ms/step - loss: 3.4806 - val_loss: 2.5937\n",
      "Epoch 2/50\n",
      "382/382 [==============================] - 25s 67ms/step - loss: 2.8574 - val_loss: 2.0768\n",
      "Epoch 3/50\n",
      "382/382 [==============================] - 26s 67ms/step - loss: 2.4835 - val_loss: 1.6762\n",
      "Epoch 4/50\n",
      "382/382 [==============================] - 26s 67ms/step - loss: 2.2653 - val_loss: 1.4981\n",
      "Epoch 5/50\n",
      "382/382 [==============================] - 25s 67ms/step - loss: 2.0088 - val_loss: 1.4662\n",
      "Epoch 6/50\n",
      "382/382 [==============================] - 27s 71ms/step - loss: 1.5570 - val_loss: 0.8916\n",
      "Epoch 7/50\n",
      "382/382 [==============================] - 25s 66ms/step - loss: 1.1797 - val_loss: 0.7616\n",
      "Epoch 8/50\n",
      "382/382 [==============================] - 26s 67ms/step - loss: 0.9416 - val_loss: 0.5459\n",
      "Epoch 9/50\n",
      "382/382 [==============================] - 25s 66ms/step - loss: 0.7620 - val_loss: 0.5026\n",
      "Epoch 10/50\n",
      "382/382 [==============================] - 25s 66ms/step - loss: 0.6527 - val_loss: 0.4160\n",
      "Epoch 11/50\n",
      "382/382 [==============================] - 25s 66ms/step - loss: 0.5520 - val_loss: 0.2996\n",
      "Epoch 12/50\n",
      "382/382 [==============================] - 25s 66ms/step - loss: 0.5158 - val_loss: 0.3457\n",
      "Epoch 13/50\n",
      "382/382 [==============================] - 25s 66ms/step - loss: 0.4369 - val_loss: 0.2793\n",
      "Epoch 14/50\n",
      "382/382 [==============================] - 25s 67ms/step - loss: 0.4006 - val_loss: 0.2879\n",
      "Epoch 15/50\n",
      "382/382 [==============================] - 25s 67ms/step - loss: 0.3670 - val_loss: 0.2677\n",
      "Epoch 16/50\n",
      "382/382 [==============================] - 25s 67ms/step - loss: 0.3448 - val_loss: 0.2089\n",
      "Epoch 17/50\n",
      "382/382 [==============================] - 25s 66ms/step - loss: 0.3257 - val_loss: 0.2234\n",
      "Epoch 18/50\n",
      "382/382 [==============================] - 25s 67ms/step - loss: 0.2989 - val_loss: 0.2288\n",
      "Epoch 19/50\n",
      "382/382 [==============================] - 25s 67ms/step - loss: 0.2743 - val_loss: 0.1755\n",
      "Epoch 20/50\n",
      "382/382 [==============================] - 25s 67ms/step - loss: 0.2545 - val_loss: 0.2178\n",
      "Epoch 21/50\n",
      "382/382 [==============================] - 25s 67ms/step - loss: 0.2478 - val_loss: 0.1834\n",
      "Epoch 22/50\n",
      "382/382 [==============================] - 25s 67ms/step - loss: 0.2229 - val_loss: 0.1757\n",
      "Epoch 23/50\n",
      "382/382 [==============================] - 25s 67ms/step - loss: 0.2075 - val_loss: 0.1890\n",
      "Epoch 24/50\n",
      "382/382 [==============================] - 25s 66ms/step - loss: 0.1953 - val_loss: 0.1387\n",
      "Epoch 25/50\n",
      "382/382 [==============================] - 25s 67ms/step - loss: 0.1956 - val_loss: 0.1771\n",
      "Epoch 26/50\n",
      "382/382 [==============================] - 25s 67ms/step - loss: 0.1814 - val_loss: 0.1089\n",
      "Epoch 27/50\n",
      "382/382 [==============================] - 26s 67ms/step - loss: 0.1620 - val_loss: 0.1424\n",
      "Epoch 28/50\n",
      "382/382 [==============================] - 25s 67ms/step - loss: 0.1564 - val_loss: 0.1270\n",
      "Epoch 29/50\n",
      "382/382 [==============================] - 25s 67ms/step - loss: 0.1531 - val_loss: 0.1030\n",
      "Epoch 30/50\n",
      "382/382 [==============================] - 25s 67ms/step - loss: 0.1381 - val_loss: 0.1084\n",
      "Epoch 31/50\n",
      "382/382 [==============================] - 25s 66ms/step - loss: 0.1316 - val_loss: 0.1137\n",
      "Epoch 32/50\n",
      "382/382 [==============================] - 25s 66ms/step - loss: 0.1311 - val_loss: 0.0755\n",
      "Epoch 33/50\n",
      "382/382 [==============================] - 25s 66ms/step - loss: 0.1224 - val_loss: 0.0846\n",
      "Epoch 34/50\n",
      "382/382 [==============================] - 25s 66ms/step - loss: 0.1142 - val_loss: 0.0908\n",
      "Epoch 35/50\n",
      "382/382 [==============================] - 25s 66ms/step - loss: 0.1119 - val_loss: 0.0800\n",
      "Epoch 36/50\n",
      "382/382 [==============================] - 25s 66ms/step - loss: 0.1032 - val_loss: 0.1062\n",
      "Epoch 37/50\n",
      "382/382 [==============================] - 25s 66ms/step - loss: 0.1032 - val_loss: 0.0758\n",
      "Epoch 38/50\n",
      "382/382 [==============================] - 25s 66ms/step - loss: 0.0989 - val_loss: 0.0878\n",
      "Epoch 39/50\n",
      "382/382 [==============================] - 26s 67ms/step - loss: 0.0964 - val_loss: 0.0866\n",
      "Epoch 40/50\n",
      "382/382 [==============================] - 25s 67ms/step - loss: 0.0898 - val_loss: 0.0638\n",
      "Epoch 41/50\n",
      "382/382 [==============================] - 25s 66ms/step - loss: 0.0878 - val_loss: 0.0630\n",
      "Epoch 42/50\n",
      "382/382 [==============================] - 25s 67ms/step - loss: 0.0853 - val_loss: 0.0707\n",
      "Epoch 43/50\n",
      "382/382 [==============================] - 25s 67ms/step - loss: 0.0830 - val_loss: 0.0754\n",
      "Epoch 44/50\n",
      "382/382 [==============================] - 25s 67ms/step - loss: 0.0813 - val_loss: 0.0738\n",
      "Epoch 45/50\n",
      "382/382 [==============================] - 25s 66ms/step - loss: 0.0793 - val_loss: 0.0699\n",
      "Epoch 46/50\n",
      "382/382 [==============================] - 25s 66ms/step - loss: 0.0779 - val_loss: 0.0570\n",
      "Epoch 47/50\n",
      "382/382 [==============================] - 25s 66ms/step - loss: 0.0739 - val_loss: 0.0522\n",
      "Epoch 48/50\n",
      "382/382 [==============================] - 25s 66ms/step - loss: 0.0714 - val_loss: 0.0684\n",
      "Epoch 49/50\n",
      "382/382 [==============================] - 25s 66ms/step - loss: 0.0687 - val_loss: 0.0789\n",
      "Epoch 50/50\n",
      "382/382 [==============================] - 25s 67ms/step - loss: 0.0661 - val_loss: 0.0611\n"
     ]
    }
   ],
   "source": [
    "history = model.fit(\n",
    "    tf_train_dataset,\n",
    "    validation_data=tf_eval_dataset,\n",
    "    epochs = epochs)\n",
    "    "
   ],
   "id": "61487b7a"
  },
  {
   "cell_type": "code",
   "execution_count": 20,
   "metadata": {
    "id": "3681a235",
    "executionInfo": {
     "status": "ok",
     "timestamp": 1646933125612,
     "user_tz": -60,
     "elapsed": 91,
     "user": {
      "displayName": "Volkan Tatlikazan",
      "photoUrl": "https://lh3.googleusercontent.com/a-/AOh14GjmHAs2j8h9Y8NaxNe2GgIdffGW5139mkQzJrykJQ=s64",
      "userId": "02369655295950434275"
     }
    }
   },
   "outputs": [],
   "source": [
    "#GPUtil.showUtilization()"
   ],
   "id": "3681a235"
  },
  {
   "cell_type": "markdown",
   "metadata": {
    "id": "SAwtLIrR3qsp"
   },
   "source": [
    "## Test"
   ],
   "id": "SAwtLIrR3qsp"
  },
  {
   "cell_type": "code",
   "execution_count": 21,
   "metadata": {
    "colab": {
     "base_uri": "https://localhost:8080/",
     "height": 69
    },
    "id": "63770f80",
    "executionInfo": {
     "status": "ok",
     "timestamp": 1646933125614,
     "user_tz": -60,
     "elapsed": 91,
     "user": {
      "displayName": "Volkan Tatlikazan",
      "photoUrl": "https://lh3.googleusercontent.com/a-/AOh14GjmHAs2j8h9Y8NaxNe2GgIdffGW5139mkQzJrykJQ=s64",
      "userId": "02369655295950434275"
     }
    },
    "outputId": "ff21e2b8-e3de-46a1-e8fe-cac04580f92d"
   },
   "outputs": [
    {
     "output_type": "execute_result",
     "data": {
      "application/vnd.google.colaboratory.intrinsic+json": {
       "type": "string"
      },
      "text/plain": [
       "'prompt = \"What did the chicken say afer crossing the road\"\\nn_generations = 5 # runs \\n\\nlyrics = prompt\\n\\nfor i in range(n_generations):\\n    \\n    lyrics += generator(lyrics[-100:], return_full_text = False)[0][\"generated_text\"]\\n    \\nprint(lyrics)\\n\\n#eos enf of sentence is used a  pad token'"
      ]
     },
     "metadata": {},
     "execution_count": 21
    }
   ],
   "source": [
    "# FROM: 10 Finetuning a Language Model with Huggingface - Lyrics Mashup\n",
    "# CHANGES: None\n",
    "\n",
    "\"\"\"prompt = \"What did the chicken say afer crossing the road\"\n",
    "n_generations = 5 # runs \n",
    "\n",
    "lyrics = prompt\n",
    "\n",
    "for i in range(n_generations):\n",
    "    \n",
    "    lyrics += generator(lyrics[-100:], return_full_text = False)[0][\"generated_text\"]\n",
    "    \n",
    "print(lyrics)\n",
    "\n",
    "#eos enf of sentence is used a  pad token\"\"\""
   ],
   "id": "63770f80"
  },
  {
   "cell_type": "markdown",
   "metadata": {
    "id": "rFCircC15Xy6"
   },
   "source": [
    "# Hyperparameter Tuning"
   ],
   "id": "rFCircC15Xy6"
  },
  {
   "cell_type": "code",
   "execution_count": 22,
   "metadata": {
    "id": "836a7a89",
    "executionInfo": {
     "status": "ok",
     "timestamp": 1646933125614,
     "user_tz": -60,
     "elapsed": 86,
     "user": {
      "displayName": "Volkan Tatlikazan",
      "photoUrl": "https://lh3.googleusercontent.com/a-/AOh14GjmHAs2j8h9Y8NaxNe2GgIdffGW5139mkQzJrykJQ=s64",
      "userId": "02369655295950434275"
     }
    },
    "colab": {
     "base_uri": "https://localhost:8080/",
     "height": 1000
    },
    "outputId": "d4ee88ef-6a87-49a6-91e8-caff40d27656"
   },
   "outputs": [
    {
     "output_type": "execute_result",
     "data": {
      "application/vnd.google.colaboratory.intrinsic+json": {
       "type": "string"
      },
      "text/plain": [
       "'# FROM: 11 Hyperparameter Search Tensorboard\\n# CHANGES: None\\n\\n## Imports\\n\\n%load_ext tensorboard\\n\\nimport os\\n# to use or not to use GPU\\nos.environ[\"CUDA_VISIBLE_DEVICES\"]=\"-1\"\\n\\nimport json\\nimport random\\nimport re\\nfrom collections import Counter\\nimport tensorflow as tf\\nfrom tensorflow.keras import layers\\nfrom tensorboard.plugins.hparams import api as hp  # for hparam vis\\nfrom official.nlp import optimization \\nimport shutil\\nimport numpy as np\\nfrom tensorboard import notebook\\nfrom sklearn.utils import class_weight\\nfrom sklearn.metrics import precision_recall_fscore_support\\n'"
      ]
     },
     "metadata": {},
     "execution_count": 22
    }
   ],
   "source": [
    "\"\"\"# FROM: 11 Hyperparameter Search Tensorboard\n",
    "# CHANGES: None\n",
    "\n",
    "## Imports\n",
    "\n",
    "%load_ext tensorboard\n",
    "\n",
    "import os\n",
    "# to use or not to use GPU\n",
    "os.environ[\"CUDA_VISIBLE_DEVICES\"]=\"-1\"\n",
    "\n",
    "import json\n",
    "import random\n",
    "import re\n",
    "from collections import Counter\n",
    "import tensorflow as tf\n",
    "from tensorflow.keras import layers\n",
    "from tensorboard.plugins.hparams import api as hp  # for hparam vis\n",
    "from official.nlp import optimization \n",
    "import shutil\n",
    "import numpy as np\n",
    "from tensorboard import notebook\n",
    "from sklearn.utils import class_weight\n",
    "from sklearn.metrics import precision_recall_fscore_support\n",
    "\"\"\""
   ],
   "id": "836a7a89"
  },
  {
   "cell_type": "code",
   "execution_count": 23,
   "metadata": {
    "id": "dc1ff988",
    "executionInfo": {
     "status": "ok",
     "timestamp": 1646933125615,
     "user_tz": -60,
     "elapsed": 84,
     "user": {
      "displayName": "Volkan Tatlikazan",
      "photoUrl": "https://lh3.googleusercontent.com/a-/AOh14GjmHAs2j8h9Y8NaxNe2GgIdffGW5139mkQzJrykJQ=s64",
      "userId": "02369655295950434275"
     }
    },
    "colab": {
     "base_uri": "https://localhost:8080/",
     "height": 1000
    },
    "outputId": "ef612735-c734-4eb9-d703-5e93e2b1d6ec"
   },
   "outputs": [
    {
     "output_type": "execute_result",
     "data": {
      "application/vnd.google.colaboratory.intrinsic+json": {
       "type": "string"
      },
      "text/plain": [
       "'# FROM: 11 Hyperparameter Search Tensorboard\\n# CHANGES: Paths\\n\\n# path to the data\\nsave_path = \"/content/drive/MyDrive/EchoCanyon/lyrics/\"\\n\\n\\n# setting up logging directory\\nlog_dir = \\'/content/drive/MyDrive/EchoCanyon/log_dir/\\'\\n\\ntry:\\n    shutil.rmtree(log_dir) # clearing logging directory <------------------\\nexcept:\\n    pass\\n    \\nif not os.path.exists(log_dir):\\n    os.makedirs(log_dir)\\n    '"
      ]
     },
     "metadata": {},
     "execution_count": 23
    }
   ],
   "source": [
    "\"\"\"# FROM: 11 Hyperparameter Search Tensorboard\n",
    "# CHANGES: Paths\n",
    "\n",
    "# path to the data\n",
    "save_path = \"/content/drive/MyDrive/EchoCanyon/lyrics/\"\n",
    "\n",
    "\n",
    "# setting up logging directory\n",
    "log_dir = '/content/drive/MyDrive/EchoCanyon/log_dir/'\n",
    "\n",
    "try:\n",
    "    shutil.rmtree(log_dir) # clearing logging directory <------------------\n",
    "except:\n",
    "    pass\n",
    "    \n",
    "if not os.path.exists(log_dir):\n",
    "    os.makedirs(log_dir)\n",
    "    \"\"\""
   ],
   "id": "dc1ff988"
  },
  {
   "cell_type": "code",
   "source": [
    "\"\"\"# FROM: 11 Hyperparameter Search Tensorboard\n",
    "# CHANGES: None\n",
    "\n",
    "# loading your own lyrics file or the one available on moodle\n",
    "with open(save_path + \"pop_lyrics.json\", \"r\", encoding = \"utf8\") as f:\n",
    "    \n",
    "    lyrics_dict = json.load(f)\n",
    "    \n",
    "# sampling, if there are more than 5 labels\n",
    "n_artists = min(5, len(lyrics_dict.keys()))\n",
    "random.seed(42)\n",
    "artist_sample = random.sample(list(lyrics_dict.keys()), n_artists)\n",
    "lyrics_dict = {artist:lyrics for artist, lyrics in lyrics_dict.items() if artist in artist_sample}\n",
    "print([key for key in lyrics_dict.keys()])\n",
    "\"\"\""
   ],
   "metadata": {
    "colab": {
     "base_uri": "https://localhost:8080/",
     "height": 1000
    },
    "id": "5YfJTtxrBkYW",
    "executionInfo": {
     "status": "ok",
     "timestamp": 1646933125616,
     "user_tz": -60,
     "elapsed": 83,
     "user": {
      "displayName": "Volkan Tatlikazan",
      "photoUrl": "https://lh3.googleusercontent.com/a-/AOh14GjmHAs2j8h9Y8NaxNe2GgIdffGW5139mkQzJrykJQ=s64",
      "userId": "02369655295950434275"
     }
    },
    "outputId": "7b260660-aa12-41b7-d371-76d61f47d0a2"
   },
   "id": "5YfJTtxrBkYW",
   "execution_count": 24,
   "outputs": [
    {
     "output_type": "execute_result",
     "data": {
      "application/vnd.google.colaboratory.intrinsic+json": {
       "type": "string"
      },
      "text/plain": [
       "'# FROM: 11 Hyperparameter Search Tensorboard\\n# CHANGES: None\\n\\n# loading your own lyrics file or the one available on moodle\\nwith open(save_path + \"pop_lyrics.json\", \"r\", encoding = \"utf8\") as f:\\n    \\n    lyrics_dict = json.load(f)\\n    \\n# sampling, if there are more than 5 labels\\nn_artists = min(5, len(lyrics_dict.keys()))\\nrandom.seed(42)\\nartist_sample = random.sample(list(lyrics_dict.keys()), n_artists)\\nlyrics_dict = {artist:lyrics for artist, lyrics in lyrics_dict.items() if artist in artist_sample}\\nprint([key for key in lyrics_dict.keys()])\\n'"
      ]
     },
     "metadata": {},
     "execution_count": 24
    }
   ]
  },
  {
   "cell_type": "code",
   "source": [
    "\"\"\"# FROM: 11 Hyperparameter Search Tensorboard\n",
    "# CHANGES: None\n",
    "\n",
    "# extracting lines and artists\n",
    "lines = []\n",
    "artists = []\n",
    "\n",
    "for artist, lyrics in lyrics_dict.items():\n",
    "    \n",
    "    for title, lyric in lyrics.items():\n",
    "        \n",
    "        lyrics_lines = [re.sub(\"\\r\", \"\", line) for line in lyric.split(\"\\n\")]\n",
    "        \n",
    "        lyrics_lines = [line for line in lyrics_lines if re.search(\"\\w\", line) and line != \"None\"]\n",
    "\n",
    "        for line in set(lyrics_lines):\n",
    "            lines.append(line)\n",
    "            artists.append(artist)\n",
    "\n",
    "print(len(lines))\n",
    "print(len(artists))\n",
    "\"\"\""
   ],
   "metadata": {
    "colab": {
     "base_uri": "https://localhost:8080/",
     "height": 1000
    },
    "id": "0aO_-mlEBkm8",
    "executionInfo": {
     "status": "ok",
     "timestamp": 1646933125618,
     "user_tz": -60,
     "elapsed": 81,
     "user": {
      "displayName": "Volkan Tatlikazan",
      "photoUrl": "https://lh3.googleusercontent.com/a-/AOh14GjmHAs2j8h9Y8NaxNe2GgIdffGW5139mkQzJrykJQ=s64",
      "userId": "02369655295950434275"
     }
    },
    "outputId": "5396830c-4fc3-4a01-dfe9-2accfaac923c"
   },
   "id": "0aO_-mlEBkm8",
   "execution_count": 25,
   "outputs": [
    {
     "output_type": "execute_result",
     "data": {
      "application/vnd.google.colaboratory.intrinsic+json": {
       "type": "string"
      },
      "text/plain": [
       "'# FROM: 11 Hyperparameter Search Tensorboard\\n# CHANGES: None\\n\\n# extracting lines and artists\\nlines = []\\nartists = []\\n\\nfor artist, lyrics in lyrics_dict.items():\\n    \\n    for title, lyric in lyrics.items():\\n        \\n        lyrics_lines = [re.sub(\"\\r\", \"\", line) for line in lyric.split(\"\\n\")]\\n        \\n        lyrics_lines = [line for line in lyrics_lines if re.search(\"\\\\w\", line) and line != \"None\"]\\n\\n        for line in set(lyrics_lines):\\n            lines.append(line)\\n            artists.append(artist)\\n\\nprint(len(lines))\\nprint(len(artists))\\n'"
      ]
     },
     "metadata": {},
     "execution_count": 25
    }
   ]
  },
  {
   "cell_type": "code",
   "source": [
    "\"\"\"# FROM: 11 Hyperparameter Search Tensorboard\n",
    "# CHANGES: None\n",
    "\n",
    "# extracting lines and artists\n",
    "lines = []\n",
    "artists = []\n",
    "\n",
    "for artist, lyrics in lyrics_dict.items():\n",
    "    \n",
    "    for title, lyric in lyrics.items():\n",
    "        \n",
    "        lyrics_lines = [re.sub(\"\\r\", \"\", line) for line in lyric.split(\"\\n\")]\n",
    "        \n",
    "        lyrics_lines = [line for line in lyrics_lines if re.search(\"\\w\", line) and line != \"None\"]\n",
    "\n",
    "        for line in set(lyrics_lines):\n",
    "            lines.append(line)\n",
    "            artists.append(artist)\n",
    "\n",
    "print(len(lines))\n",
    "print(len(artists))\n",
    "\"\"\""
   ],
   "metadata": {
    "colab": {
     "base_uri": "https://localhost:8080/",
     "height": 1000
    },
    "id": "KxoyHAR-BlFg",
    "executionInfo": {
     "status": "ok",
     "timestamp": 1646933125618,
     "user_tz": -60,
     "elapsed": 79,
     "user": {
      "displayName": "Volkan Tatlikazan",
      "photoUrl": "https://lh3.googleusercontent.com/a-/AOh14GjmHAs2j8h9Y8NaxNe2GgIdffGW5139mkQzJrykJQ=s64",
      "userId": "02369655295950434275"
     }
    },
    "outputId": "b0269b45-e1d1-4d92-f82a-c46a8ff7945b"
   },
   "id": "KxoyHAR-BlFg",
   "execution_count": 26,
   "outputs": [
    {
     "output_type": "execute_result",
     "data": {
      "application/vnd.google.colaboratory.intrinsic+json": {
       "type": "string"
      },
      "text/plain": [
       "'# FROM: 11 Hyperparameter Search Tensorboard\\n# CHANGES: None\\n\\n# extracting lines and artists\\nlines = []\\nartists = []\\n\\nfor artist, lyrics in lyrics_dict.items():\\n    \\n    for title, lyric in lyrics.items():\\n        \\n        lyrics_lines = [re.sub(\"\\r\", \"\", line) for line in lyric.split(\"\\n\")]\\n        \\n        lyrics_lines = [line for line in lyrics_lines if re.search(\"\\\\w\", line) and line != \"None\"]\\n\\n        for line in set(lyrics_lines):\\n            lines.append(line)\\n            artists.append(artist)\\n\\nprint(len(lines))\\nprint(len(artists))\\n'"
      ]
     },
     "metadata": {},
     "execution_count": 26
    }
   ]
  },
  {
   "cell_type": "code",
   "source": [
    "\"\"\"# FROM: 11 Hyperparameter Search Tensorboard\n",
    "# CHANGES: None\n",
    "\n",
    "# Selecting a smaller subset for faster training demonstration\n",
    "n_lines = 27983\n",
    "\n",
    "sample = random.sample(range(0,len(lines)), n_lines)\n",
    "lines = [line for i,line in enumerate(lines) if i in sample]\n",
    "artists = [artist for i,artist in enumerate(artists) if i in sample]\n",
    "Counter(artists)\n",
    "\"\"\""
   ],
   "metadata": {
    "colab": {
     "base_uri": "https://localhost:8080/",
     "height": 1000
    },
    "id": "ew7u7SL_BlUj",
    "executionInfo": {
     "status": "ok",
     "timestamp": 1646933125619,
     "user_tz": -60,
     "elapsed": 78,
     "user": {
      "displayName": "Volkan Tatlikazan",
      "photoUrl": "https://lh3.googleusercontent.com/a-/AOh14GjmHAs2j8h9Y8NaxNe2GgIdffGW5139mkQzJrykJQ=s64",
      "userId": "02369655295950434275"
     }
    },
    "outputId": "f5b274cc-e0d1-4d61-f22d-91e7a75ec945"
   },
   "id": "ew7u7SL_BlUj",
   "execution_count": 27,
   "outputs": [
    {
     "output_type": "execute_result",
     "data": {
      "application/vnd.google.colaboratory.intrinsic+json": {
       "type": "string"
      },
      "text/plain": [
       "'# FROM: 11 Hyperparameter Search Tensorboard\\n# CHANGES: None\\n\\n# Selecting a smaller subset for faster training demonstration\\nn_lines = 27983\\n\\nsample = random.sample(range(0,len(lines)), n_lines)\\nlines = [line for i,line in enumerate(lines) if i in sample]\\nartists = [artist for i,artist in enumerate(artists) if i in sample]\\nCounter(artists)\\n'"
      ]
     },
     "metadata": {},
     "execution_count": 27
    }
   ]
  },
  {
   "cell_type": "code",
   "source": [
    "\"\"\"# FROM: 11 Hyperparameter Search Tensorboard\n",
    "# CHANGES: None\n",
    "\n",
    "# transforming to a tensorflow dataset\n",
    "\n",
    "# inputs\n",
    "inputs = tf.data.Dataset.from_tensor_slices(lines) #.repeat() #https://stackoverflow.com/questions/49531286/cannot-batch-tensors-with-different-shapes-in-component-0-with-tf-data-dataset\n",
    "\n",
    "input_vectorizer = layers.TextVectorization(\n",
    "    standardize=\"lower_and_strip_punctuation\",\n",
    "    split = \"whitespace\",\n",
    "    output_mode='int',\n",
    "    max_tokens = 2000,\n",
    "    output_sequence_length = 10)\n",
    "\n",
    "input_vectorizer.adapt(inputs)\n",
    "inputs = inputs.map(input_vectorizer)\n",
    "\n",
    "# target dict\n",
    "artist_dict = {artist: i for i, artist in enumerate(list(set(artists)))}\n",
    "artist_dict_rev = {i: artist for artist, i in artist_dict.items()}\n",
    "\n",
    "# targets\n",
    "artists_num = [artist_dict[artist] for artist in artists]\n",
    "targets = tf.data.Dataset.from_tensor_slices(artists_num)\n",
    "target_vectorizer = layers.CategoryEncoding(num_tokens = len(artist_dict), output_mode=\"one_hot\")\n",
    "targets = targets.map(target_vectorizer)\n",
    "\n",
    "# class weights for unbalanced datasets\n",
    "balanced_class_weights = dict(enumerate(class_weight.compute_class_weight('balanced',\n",
    "                                                 classes = list(artist_dict_rev.keys()),\n",
    "                                                 y = artists_num)))\n",
    "# num of examples from 1 artist can make the model biased for that if it dominates otherwise\n",
    "\n",
    "# zipping\n",
    "dataset = tf.data.Dataset.zip((inputs, targets))\n",
    "\n",
    "# shuffling\n",
    "n_examples = tf.data.experimental.cardinality(dataset).numpy()\n",
    "dataset = dataset.shuffle(n_examples, seed = 42, reshuffle_each_iteration=False)\n",
    "\n",
    "# !!!!! Important: setting the seed does not prevent different shuffling at each epoch, \n",
    "# !!!!! set reshuffle_each_iteration=False if used\n",
    "\n",
    "# check dataset\n",
    "for input_, target in dataset.take(3):\n",
    "    print(input_)\n",
    "    print(target)\n",
    "    print(artist_dict_rev[tf.argmax(target).numpy()])\n",
    "    print(\"\\n\")\n",
    "\n",
    "print(\"Class counts and weights:\")\n",
    "print(Counter(artists_num))\n",
    "print(balanced_class_weights)\n",
    "\n",
    "\"\"\""
   ],
   "metadata": {
    "colab": {
     "base_uri": "https://localhost:8080/",
     "height": 1000
    },
    "id": "fRK1IxB9BlgR",
    "executionInfo": {
     "status": "ok",
     "timestamp": 1646933125620,
     "user_tz": -60,
     "elapsed": 76,
     "user": {
      "displayName": "Volkan Tatlikazan",
      "photoUrl": "https://lh3.googleusercontent.com/a-/AOh14GjmHAs2j8h9Y8NaxNe2GgIdffGW5139mkQzJrykJQ=s64",
      "userId": "02369655295950434275"
     }
    },
    "outputId": "e9404e8a-29bb-40f0-8866-4c0bb5d8b487"
   },
   "id": "fRK1IxB9BlgR",
   "execution_count": 28,
   "outputs": [
    {
     "output_type": "execute_result",
     "data": {
      "application/vnd.google.colaboratory.intrinsic+json": {
       "type": "string"
      },
      "text/plain": [
       "'# FROM: 11 Hyperparameter Search Tensorboard\\n# CHANGES: None\\n\\n# transforming to a tensorflow dataset\\n\\n# inputs\\ninputs = tf.data.Dataset.from_tensor_slices(lines) #.repeat() #https://stackoverflow.com/questions/49531286/cannot-batch-tensors-with-different-shapes-in-component-0-with-tf-data-dataset\\n\\ninput_vectorizer = layers.TextVectorization(\\n    standardize=\"lower_and_strip_punctuation\",\\n    split = \"whitespace\",\\n    output_mode=\\'int\\',\\n    max_tokens = 2000,\\n    output_sequence_length = 10)\\n\\ninput_vectorizer.adapt(inputs)\\ninputs = inputs.map(input_vectorizer)\\n\\n# target dict\\nartist_dict = {artist: i for i, artist in enumerate(list(set(artists)))}\\nartist_dict_rev = {i: artist for artist, i in artist_dict.items()}\\n\\n# targets\\nartists_num = [artist_dict[artist] for artist in artists]\\ntargets = tf.data.Dataset.from_tensor_slices(artists_num)\\ntarget_vectorizer = layers.CategoryEncoding(num_tokens = len(artist_dict), output_mode=\"one_hot\")\\ntargets = targets.map(target_vectorizer)\\n\\n# class weights for unbalanced datasets\\nbalanced_class_weights = dict(enumerate(class_weight.compute_class_weight(\\'balanced\\',\\n                                                 classes = list(artist_dict_rev.keys()),\\n                                                 y = artists_num)))\\n# num of examples from 1 artist can make the model biased for that if it dominates otherwise\\n\\n# zipping\\ndataset = tf.data.Dataset.zip((inputs, targets))\\n\\n# shuffling\\nn_examples = tf.data.experimental.cardinality(dataset).numpy()\\ndataset = dataset.shuffle(n_examples, seed = 42, reshuffle_each_iteration=False)\\n\\n# !!!!! Important: setting the seed does not prevent different shuffling at each epoch, \\n# !!!!! set reshuffle_each_iteration=False if used\\n\\n# check dataset\\nfor input_, target in dataset.take(3):\\n    print(input_)\\n    print(target)\\n    print(artist_dict_rev[tf.argmax(target).numpy()])\\n    print(\"\\n\")\\n\\nprint(\"Class counts and weights:\")\\nprint(Counter(artists_num))\\nprint(balanced_class_weights)\\n\\n'"
      ]
     },
     "metadata": {},
     "execution_count": 28
    }
   ]
  },
  {
   "cell_type": "code",
   "source": [
    "\"\"\"# FROM: 11 Hyperparameter Search Tensorboard\n",
    "# CHANGES: None\n",
    "\n",
    "# splitting and batching\n",
    "\n",
    "AUTOTUNE = tf.data.AUTOTUNE\n",
    "batch_size = 32\n",
    "val_size = 0.1\n",
    "\n",
    "# splitting, batching\n",
    "val_size = round(val_size*n_examples)\n",
    "test_dataset = dataset.take(val_size).batch(batch_size=batch_size, drop_remainder=True)\n",
    "val_dataset = dataset.skip(val_size).take(val_size).batch(batch_size=batch_size, drop_remainder=True)\n",
    "train_dataset = dataset.skip(val_size*2).batch(batch_size=batch_size, drop_remainder=True)\n",
    "\n",
    "# prefetching\n",
    "test_dataset = test_dataset.cache().prefetch(buffer_size=AUTOTUNE)\n",
    "val_dataset = val_dataset.cache().prefetch(buffer_size=AUTOTUNE)\n",
    "train_dataset = train_dataset.cache().prefetch(buffer_size=AUTOTUNE)\n",
    "\n",
    "print(len(train_dataset))\n",
    "print(len(val_dataset))\n",
    "print(len(test_dataset))\n",
    "\"\"\""
   ],
   "metadata": {
    "colab": {
     "base_uri": "https://localhost:8080/",
     "height": 1000
    },
    "id": "yA11wQbHBlv5",
    "executionInfo": {
     "status": "ok",
     "timestamp": 1646933125621,
     "user_tz": -60,
     "elapsed": 75,
     "user": {
      "displayName": "Volkan Tatlikazan",
      "photoUrl": "https://lh3.googleusercontent.com/a-/AOh14GjmHAs2j8h9Y8NaxNe2GgIdffGW5139mkQzJrykJQ=s64",
      "userId": "02369655295950434275"
     }
    },
    "outputId": "dd8583c1-31ba-46f2-ea74-f6bdbd6d021b"
   },
   "id": "yA11wQbHBlv5",
   "execution_count": 29,
   "outputs": [
    {
     "output_type": "execute_result",
     "data": {
      "application/vnd.google.colaboratory.intrinsic+json": {
       "type": "string"
      },
      "text/plain": [
       "'# FROM: 11 Hyperparameter Search Tensorboard\\n# CHANGES: None\\n\\n# splitting and batching\\n\\nAUTOTUNE = tf.data.AUTOTUNE\\nbatch_size = 32\\nval_size = 0.1\\n\\n# splitting, batching\\nval_size = round(val_size*n_examples)\\ntest_dataset = dataset.take(val_size).batch(batch_size=batch_size, drop_remainder=True)\\nval_dataset = dataset.skip(val_size).take(val_size).batch(batch_size=batch_size, drop_remainder=True)\\ntrain_dataset = dataset.skip(val_size*2).batch(batch_size=batch_size, drop_remainder=True)\\n\\n# prefetching\\ntest_dataset = test_dataset.cache().prefetch(buffer_size=AUTOTUNE)\\nval_dataset = val_dataset.cache().prefetch(buffer_size=AUTOTUNE)\\ntrain_dataset = train_dataset.cache().prefetch(buffer_size=AUTOTUNE)\\n\\nprint(len(train_dataset))\\nprint(len(val_dataset))\\nprint(len(test_dataset))\\n'"
      ]
     },
     "metadata": {},
     "execution_count": 29
    }
   ]
  },
  {
   "cell_type": "code",
   "source": [
    "\"\"\"# FROM: 11 Hyperparameter Search Tensorboard\n",
    "# CHANGES: None\n",
    "\n",
    "# defining our hyperparameter search space -> 2 methods: RealInterval, Discrete\n",
    "hp_learning_rate = hp.HParam('learning_rate', hp.Discrete([0.1, 0.01, 0.001, 0.0001, 0.00001])) \n",
    "# currently possible with only two values for grid search\n",
    "hp_optimizer = hp.HParam('optimizer', hp.Discrete(['adamw', 'sgd']))\n",
    "hp_class_weights = hp.HParam('class_weights', hp.Discrete(['none', 'balanced']))\n",
    "#hp_hidden_units = hp.HParam('hidden_units', hp.Discrete([8,32]))  # OR hp.Discrete([8, 32])\n",
    "\n",
    "# fixed parameters and dimensions\n",
    "params = {\"vocab_size\":input_vectorizer.vocabulary_size() +1,  # +1: Padding\n",
    "            \"embedding_dim\": 256,\n",
    "            \"hidden_units\": 128,\n",
    "            \"n_labels\": len(artist_dict),\n",
    "            \"n_epochs\": 10,\n",
    "            \"n_steps\": 3*len(train_dataset)}\n",
    "\n",
    "\n",
    "# initializing the logger\n",
    "with tf.summary.create_file_writer(log_dir).as_default():\n",
    "    hp.hparams_config(\n",
    "    hparams=[hp_learning_rate, hp_optimizer, hp_class_weights],#, hp_hidden_units],\n",
    "    metrics=[hp.Metric(\"accuracy\", display_name='Accuracy'),\n",
    "            hp.Metric(\"precision\", display_name= \"Precision\"),\n",
    "            hp.Metric(\"recall\", display_name = \"Recall\"),\n",
    "            hp.Metric(\"f1\", display_name = \"F1\")],\n",
    "    )  # see notes for more info aout metrics\n",
    "\n",
    "\"\"\"\n"
   ],
   "metadata": {
    "colab": {
     "base_uri": "https://localhost:8080/",
     "height": 1000
    },
    "id": "9YS3huS6Bl8S",
    "executionInfo": {
     "status": "ok",
     "timestamp": 1646933125622,
     "user_tz": -60,
     "elapsed": 74,
     "user": {
      "displayName": "Volkan Tatlikazan",
      "photoUrl": "https://lh3.googleusercontent.com/a-/AOh14GjmHAs2j8h9Y8NaxNe2GgIdffGW5139mkQzJrykJQ=s64",
      "userId": "02369655295950434275"
     }
    },
    "outputId": "942e827f-3b6a-47cb-b2e3-d94a293a3407"
   },
   "id": "9YS3huS6Bl8S",
   "execution_count": 30,
   "outputs": [
    {
     "output_type": "execute_result",
     "data": {
      "application/vnd.google.colaboratory.intrinsic+json": {
       "type": "string"
      },
      "text/plain": [
       "'# FROM: 11 Hyperparameter Search Tensorboard\\n# CHANGES: None\\n\\n# defining our hyperparameter search space -> 2 methods: RealInterval, Discrete\\nhp_learning_rate = hp.HParam(\\'learning_rate\\', hp.Discrete([0.1, 0.01, 0.001, 0.0001, 0.00001])) \\n# currently possible with only two values for grid search\\nhp_optimizer = hp.HParam(\\'optimizer\\', hp.Discrete([\\'adamw\\', \\'sgd\\']))\\nhp_class_weights = hp.HParam(\\'class_weights\\', hp.Discrete([\\'none\\', \\'balanced\\']))\\n#hp_hidden_units = hp.HParam(\\'hidden_units\\', hp.Discrete([8,32]))  # OR hp.Discrete([8, 32])\\n\\n# fixed parameters and dimensions\\nparams = {\"vocab_size\":input_vectorizer.vocabulary_size() +1,  # +1: Padding\\n            \"embedding_dim\": 256,\\n            \"hidden_units\": 128,\\n            \"n_labels\": len(artist_dict),\\n            \"n_epochs\": 10,\\n            \"n_steps\": 3*len(train_dataset)}\\n\\n\\n# initializing the logger\\nwith tf.summary.create_file_writer(log_dir).as_default():\\n    hp.hparams_config(\\n    hparams=[hp_learning_rate, hp_optimizer, hp_class_weights],#, hp_hidden_units],\\n    metrics=[hp.Metric(\"accuracy\", display_name=\\'Accuracy\\'),\\n            hp.Metric(\"precision\", display_name= \"Precision\"),\\n            hp.Metric(\"recall\", display_name = \"Recall\"),\\n            hp.Metric(\"f1\", display_name = \"F1\")],\\n    )  # see notes for more info aout metrics\\n\\n'"
      ]
     },
     "metadata": {},
     "execution_count": 30
    }
   ]
  },
  {
   "cell_type": "code",
   "source": [
    "\"\"\"# FROM: 11 Hyperparameter Search Tensorboard\n",
    "# CHANGES: None\n",
    "\n",
    "# functions to run a trial with specified hyperparameters and fixed parameters\n",
    "\n",
    "def hp_search_trial(log_dir, params, hparams):\n",
    "    model = tf.keras.Sequential([\n",
    "    layers.Embedding(params[\"vocab_size\"], params[\"embedding_dim\"], mask_zero = True), # masks zero paddings but not any other value\n",
    "    #layers.Masking(mask_value = 0), -> NOT needed\n",
    "    layers.GlobalAveragePooling1D(),\n",
    "    layers.Dense(params[\"hidden_units\"], activation = tf.nn.leaky_relu),\n",
    "    # using Leaky ReLU: similar to ReLU with a little tweak for negative input values\n",
    "    layers.Dense(params[\"n_labels\"], activation = tf.nn.softmax)])\n",
    "\n",
    "    if hparams[hp_optimizer] == \"sgd\":\n",
    "        \n",
    "        optimizer = tf.keras.optimizers.SGD(learning_rate=hparams[hp_learning_rate])\n",
    "        \n",
    "    elif hparams[hp_optimizer] == \"adamw\":  # updated version of adam\n",
    "        \n",
    "        optimizer = optimization.create_optimizer(init_lr=hparams[hp_learning_rate],\n",
    "                                            num_train_steps=params[\"n_steps\"],\n",
    "                                            num_warmup_steps=round(0.1* params[\"n_steps\"]),\n",
    "                                            optimizer_type='adamw')\n",
    "\n",
    "    class_weights = balanced_class_weights if hparams[hp_class_weights] == \"balanced\" else None\n",
    "\n",
    "    model.compile(\n",
    "        optimizer=optimizer,\n",
    "        loss=tf.keras.losses.CategoricalCrossentropy(),\n",
    "        metrics=['accuracy']\n",
    "    )\n",
    "\n",
    "    model.fit(train_dataset,validation_data=val_dataset, epochs=params[\"n_epochs\"],\n",
    "            callbacks=[tf.keras.callbacks.TensorBoard(log_dir=log_dir, \n",
    "                                                        histogram_freq=1, \n",
    "                                                        update_freq='batch')],\n",
    "            class_weight = class_weights) \n",
    "    \n",
    "    test_loss, test_accuracy = model.evaluate(test_dataset)\n",
    "    \n",
    "    true_labels = np.concatenate([y for x, y in test_dataset], axis=0).argmax(axis = -1)\n",
    "    preds = model.predict(test_dataset).argmax(axis = -1)\n",
    "    precision, recall, f1, support = precision_recall_fscore_support(true_labels, preds, average = \"macro\")\n",
    "    # without avg. it will give out each class individually\n",
    "    #precision, recall, f1, support = precision_recall_fscore_support(true_labels, preds)\n",
    "    \n",
    "    return test_accuracy, precision, recall, f1\n",
    "\n",
    "\n",
    "def run(log_dir, params, hparams):\n",
    "    \n",
    "    with tf.summary.create_file_writer(log_dir).as_default():\n",
    "        hp.hparams(hparams)  # record the values used in this trial\n",
    "        \n",
    "        test_accuracy, precision, recall, f1 = hp_search_trial(log_dir, params, hparams)\n",
    "        tf.summary.scalar(\"accuracy\", test_accuracy, step=1)\n",
    "        # you can also log batch accuracy to see a trend, and train longer if needed\n",
    "        tf.summary.scalar(\"precision\", precision, step = 1)\n",
    "        tf.summary.scalar(\"recall\", recall, step = 1)\n",
    "        tf.summary.scalar(\"f1\", f1, step = 1)\n",
    "\n",
    "        \"\"\""
   ],
   "metadata": {
    "colab": {
     "base_uri": "https://localhost:8080/",
     "height": 1000
    },
    "id": "ymgOvMrUBmII",
    "executionInfo": {
     "status": "ok",
     "timestamp": 1646933125622,
     "user_tz": -60,
     "elapsed": 72,
     "user": {
      "displayName": "Volkan Tatlikazan",
      "photoUrl": "https://lh3.googleusercontent.com/a-/AOh14GjmHAs2j8h9Y8NaxNe2GgIdffGW5139mkQzJrykJQ=s64",
      "userId": "02369655295950434275"
     }
    },
    "outputId": "a5e48f59-5959-4e7f-bed8-51ce31f6c32b"
   },
   "id": "ymgOvMrUBmII",
   "execution_count": 31,
   "outputs": [
    {
     "output_type": "execute_result",
     "data": {
      "application/vnd.google.colaboratory.intrinsic+json": {
       "type": "string"
      },
      "text/plain": [
       "'# FROM: 11 Hyperparameter Search Tensorboard\\n# CHANGES: None\\n\\n# functions to run a trial with specified hyperparameters and fixed parameters\\n\\ndef hp_search_trial(log_dir, params, hparams):\\n    model = tf.keras.Sequential([\\n    layers.Embedding(params[\"vocab_size\"], params[\"embedding_dim\"], mask_zero = True), # masks zero paddings but not any other value\\n    #layers.Masking(mask_value = 0), -> NOT needed\\n    layers.GlobalAveragePooling1D(),\\n    layers.Dense(params[\"hidden_units\"], activation = tf.nn.leaky_relu),\\n    # using Leaky ReLU: similar to ReLU with a little tweak for negative input values\\n    layers.Dense(params[\"n_labels\"], activation = tf.nn.softmax)])\\n\\n    if hparams[hp_optimizer] == \"sgd\":\\n        \\n        optimizer = tf.keras.optimizers.SGD(learning_rate=hparams[hp_learning_rate])\\n        \\n    elif hparams[hp_optimizer] == \"adamw\":  # updated version of adam\\n        \\n        optimizer = optimization.create_optimizer(init_lr=hparams[hp_learning_rate],\\n                                            num_train_steps=params[\"n_steps\"],\\n                                            num_warmup_steps=round(0.1* params[\"n_steps\"]),\\n                                            optimizer_type=\\'adamw\\')\\n\\n    class_weights = balanced_class_weights if hparams[hp_class_weights] == \"balanced\" else None\\n\\n    model.compile(\\n        optimizer=optimizer,\\n        loss=tf.keras.losses.CategoricalCrossentropy(),\\n        metrics=[\\'accuracy\\']\\n    )\\n\\n    model.fit(train_dataset,validation_data=val_dataset, epochs=params[\"n_epochs\"],\\n            callbacks=[tf.keras.callbacks.TensorBoard(log_dir=log_dir, \\n                                                        histogram_freq=1, \\n                                                        update_freq=\\'batch\\')],\\n            class_weight = class_weights) \\n    \\n    test_loss, test_accuracy = model.evaluate(test_dataset)\\n    \\n    true_labels = np.concatenate([y for x, y in test_dataset], axis=0).argmax(axis = -1)\\n    preds = model.predict(test_dataset).argmax(axis = -1)\\n    precision, recall, f1, support = precision_recall_fscore_support(true_labels, preds, average = \"macro\")\\n    # without avg. it will give out each class individually\\n    #precision, recall, f1, support = precision_recall_fscore_support(true_labels, preds)\\n    \\n    return test_accuracy, precision, recall, f1\\n\\n\\ndef run(log_dir, params, hparams):\\n    \\n    with tf.summary.create_file_writer(log_dir).as_default():\\n        hp.hparams(hparams)  # record the values used in this trial\\n        \\n        test_accuracy, precision, recall, f1 = hp_search_trial(log_dir, params, hparams)\\n        tf.summary.scalar(\"accuracy\", test_accuracy, step=1)\\n        # you can also log batch accuracy to see a trend, and train longer if needed\\n        tf.summary.scalar(\"precision\", precision, step = 1)\\n        tf.summary.scalar(\"recall\", recall, step = 1)\\n        tf.summary.scalar(\"f1\", f1, step = 1)\\n\\n        '"
      ]
     },
     "metadata": {},
     "execution_count": 31
    }
   ]
  },
  {
   "cell_type": "markdown",
   "source": [
    "## Running Grid Search"
   ],
   "metadata": {
    "id": "IYq6tvsAFbWI"
   },
   "id": "IYq6tvsAFbWI"
  },
  {
   "cell_type": "code",
   "source": [
    "\"\"\"# FROM: 11 Hyperparameter Search Tensorboard\n",
    "# CHANGES: None\n",
    "\n",
    "session_num = 0\n",
    "\n",
    "for optimizer in hp_optimizer.domain.values:\n",
    "    for learning_rate in hp_learning_rate.domain.values:#(hp_learning_rate.domain.min_value, hp_learning_rate.domain.max_value):\n",
    "        for class_weights in hp_class_weights.domain.values:\n",
    "            #for hidden_units in hp_class_weights.domain.values:  # (hp_hidden_units.domain.min_value, hp_hidden_units.domain.max_value):\n",
    "                hparams = {\n",
    "                  hp_optimizer: optimizer,\n",
    "                  hp_learning_rate: learning_rate,\n",
    "                  hp_class_weights: class_weights\n",
    "                  }\n",
    "                run_name = f\"run{session_num}_{optimizer}_lr{learning_rate}_weights={class_weights}\"\n",
    "                print(f'--- Starting trial: {run_name}')\n",
    "                print({h.name: hparams[h] for h in hparams})\n",
    "                run(f'{log_dir}{run_name}', params, hparams)\n",
    "                session_num += 1\n",
    "\"\"\""
   ],
   "metadata": {
    "colab": {
     "base_uri": "https://localhost:8080/",
     "height": 1000
    },
    "id": "zi_PseJgBmUW",
    "executionInfo": {
     "status": "ok",
     "timestamp": 1646933125624,
     "user_tz": -60,
     "elapsed": 72,
     "user": {
      "displayName": "Volkan Tatlikazan",
      "photoUrl": "https://lh3.googleusercontent.com/a-/AOh14GjmHAs2j8h9Y8NaxNe2GgIdffGW5139mkQzJrykJQ=s64",
      "userId": "02369655295950434275"
     }
    },
    "outputId": "7941ec62-a42e-4456-c9de-96021cc521b3"
   },
   "id": "zi_PseJgBmUW",
   "execution_count": 32,
   "outputs": [
    {
     "output_type": "execute_result",
     "data": {
      "application/vnd.google.colaboratory.intrinsic+json": {
       "type": "string"
      },
      "text/plain": [
       "'# FROM: 11 Hyperparameter Search Tensorboard\\n# CHANGES: None\\n\\nsession_num = 0\\n\\nfor optimizer in hp_optimizer.domain.values:\\n    for learning_rate in hp_learning_rate.domain.values:#(hp_learning_rate.domain.min_value, hp_learning_rate.domain.max_value):\\n        for class_weights in hp_class_weights.domain.values:\\n            #for hidden_units in hp_class_weights.domain.values:  # (hp_hidden_units.domain.min_value, hp_hidden_units.domain.max_value):\\n                hparams = {\\n                  hp_optimizer: optimizer,\\n                  hp_learning_rate: learning_rate,\\n                  hp_class_weights: class_weights\\n                  }\\n                run_name = f\"run{session_num}_{optimizer}_lr{learning_rate}_weights={class_weights}\"\\n                print(f\\'--- Starting trial: {run_name}\\')\\n                print({h.name: hparams[h] for h in hparams})\\n                run(f\\'{log_dir}{run_name}\\', params, hparams)\\n                session_num += 1\\n'"
      ]
     },
     "metadata": {},
     "execution_count": 32
    }
   ]
  },
  {
   "cell_type": "code",
   "source": [
    "\"\"\"# FROM: 11 Hyperparameter Search Tensorboard\n",
    "# CHANGES: None\n",
    "\n",
    "!tensorboard --logdir logs/hparam_tuning --port 9000\n",
    "\"\"\""
   ],
   "metadata": {
    "colab": {
     "base_uri": "https://localhost:8080/",
     "height": 1000
    },
    "id": "ZhUx4HruBmgy",
    "executionInfo": {
     "status": "ok",
     "timestamp": 1646933125625,
     "user_tz": -60,
     "elapsed": 71,
     "user": {
      "displayName": "Volkan Tatlikazan",
      "photoUrl": "https://lh3.googleusercontent.com/a-/AOh14GjmHAs2j8h9Y8NaxNe2GgIdffGW5139mkQzJrykJQ=s64",
      "userId": "02369655295950434275"
     }
    },
    "outputId": "fae583d4-18c1-4958-c04b-3945144ab7af"
   },
   "id": "ZhUx4HruBmgy",
   "execution_count": 33,
   "outputs": [
    {
     "output_type": "execute_result",
     "data": {
      "application/vnd.google.colaboratory.intrinsic+json": {
       "type": "string"
      },
      "text/plain": [
       "'# FROM: 11 Hyperparameter Search Tensorboard\\n# CHANGES: None\\n\\n!tensorboard --logdir logs/hparam_tuning --port 9000\\n'"
      ]
     },
     "metadata": {},
     "execution_count": 33
    }
   ]
  },
  {
   "cell_type": "code",
   "source": [
    "\"\"\"# FROM: 11 Hyperparameter Search Tensorboard\n",
    "# CHANGES: None\n",
    "\n",
    "# if it is not working, try another port\n",
    "\n",
    "# listing tensorboard instances\n",
    "notebook.list()\n",
    "\n",
    "# resetting tensorboard\n",
    "\n",
    "# Linux\n",
    "#!kill #ProcessID\n",
    "\n",
    "# Windows\n",
    "#!taskkill /f /pid #ProcessID\n",
    "# you also have to delete .tensorflow.info in your %TEMP% directory\n",
    "\"\"\""
   ],
   "metadata": {
    "colab": {
     "base_uri": "https://localhost:8080/",
     "height": 1000
    },
    "id": "xBuP444JBndw",
    "executionInfo": {
     "status": "ok",
     "timestamp": 1646933125625,
     "user_tz": -60,
     "elapsed": 70,
     "user": {
      "displayName": "Volkan Tatlikazan",
      "photoUrl": "https://lh3.googleusercontent.com/a-/AOh14GjmHAs2j8h9Y8NaxNe2GgIdffGW5139mkQzJrykJQ=s64",
      "userId": "02369655295950434275"
     }
    },
    "outputId": "6d9372f6-f354-4aba-acc3-e1252c87267e"
   },
   "id": "xBuP444JBndw",
   "execution_count": 34,
   "outputs": [
    {
     "output_type": "execute_result",
     "data": {
      "application/vnd.google.colaboratory.intrinsic+json": {
       "type": "string"
      },
      "text/plain": [
       "'# FROM: 11 Hyperparameter Search Tensorboard\\n# CHANGES: None\\n\\n# if it is not working, try another port\\n\\n# listing tensorboard instances\\nnotebook.list()\\n\\n# resetting tensorboard\\n\\n# Linux\\n#!kill #ProcessID\\n\\n# Windows\\n#!taskkill /f /pid #ProcessID\\n# you also have to delete .tensorflow.info in your %TEMP% directory\\n'"
      ]
     },
     "metadata": {},
     "execution_count": 34
    }
   ]
  },
  {
   "cell_type": "markdown",
   "metadata": {
    "id": "UMaHMrikFm-8"
   },
   "source": [
    "# Saving the my_artists model\n"
   ],
   "id": "UMaHMrikFm-8"
  },
  {
   "cell_type": "code",
   "execution_count": 35,
   "metadata": {
    "id": "H1vNhVk6Fq4P",
    "executionInfo": {
     "status": "ok",
     "timestamp": 1646933125626,
     "user_tz": -60,
     "elapsed": 69,
     "user": {
      "displayName": "Volkan Tatlikazan",
      "photoUrl": "https://lh3.googleusercontent.com/a-/AOh14GjmHAs2j8h9Y8NaxNe2GgIdffGW5139mkQzJrykJQ=s64",
      "userId": "02369655295950434275"
     }
    }
   },
   "outputs": [],
   "source": [
    "# All the above cells are run 6 times with the same hyperparameters that are obtained \n",
    "# using the pop_genre as context data (with most lines) to save time and have \n",
    "# comparable results of syntax and semantics\n",
    "\n",
    "# from https://huggingface.co/docs/transformers/model_sharing\n",
    "\n",
    "model_path = \"/content/drive/MyDrive/EchoCanyon/saved_model/my_artists\"\n",
    "\n"
   ],
   "id": "H1vNhVk6Fq4P"
  },
  {
   "cell_type": "code",
   "execution_count": 36,
   "metadata": {
    "id": "Ghw8qBB8dQtg",
    "executionInfo": {
     "status": "ok",
     "timestamp": 1646933139872,
     "user_tz": -60,
     "elapsed": 14314,
     "user": {
      "displayName": "Volkan Tatlikazan",
      "photoUrl": "https://lh3.googleusercontent.com/a-/AOh14GjmHAs2j8h9Y8NaxNe2GgIdffGW5139mkQzJrykJQ=s64",
      "userId": "02369655295950434275"
     }
    }
   },
   "outputs": [],
   "source": [
    "#https://huggingface.co/docs/transformers/model_sharing\n",
    "\n",
    "model.save_pretrained(model_path)"
   ],
   "id": "Ghw8qBB8dQtg"
  },
  {
   "cell_type": "code",
   "execution_count": 37,
   "metadata": {
    "id": "p-1Ka41iuFnv",
    "colab": {
     "base_uri": "https://localhost:8080/"
    },
    "executionInfo": {
     "status": "ok",
     "timestamp": 1646933141283,
     "user_tz": -60,
     "elapsed": 1420,
     "user": {
      "displayName": "Volkan Tatlikazan",
      "photoUrl": "https://lh3.googleusercontent.com/a-/AOh14GjmHAs2j8h9Y8NaxNe2GgIdffGW5139mkQzJrykJQ=s64",
      "userId": "02369655295950434275"
     }
    },
    "outputId": "81c08617-391e-4468-d7f6-249893b784d6"
   },
   "outputs": [
    {
     "output_type": "stream",
     "name": "stderr",
     "text": [
      "All model checkpoint layers were used when initializing TFGPT2LMHeadModel.\n",
      "\n",
      "All the layers of TFGPT2LMHeadModel were initialized from the model checkpoint at /content/drive/MyDrive/EchoCanyon/saved_model/my_artists.\n",
      "If your task is similar to the task the model of the checkpoint was trained on, you can already use TFGPT2LMHeadModel for predictions without further training.\n"
     ]
    }
   ],
   "source": [
    "model = TFAutoModelForCausalLM.from_pretrained(model_path)"
   ],
   "id": "p-1Ka41iuFnv"
  },
  {
   "cell_type": "code",
   "execution_count": 38,
   "metadata": {
    "colab": {
     "base_uri": "https://localhost:8080/"
    },
    "id": "M4cyo8wZhxZg",
    "executionInfo": {
     "status": "ok",
     "timestamp": 1646933193153,
     "user_tz": -60,
     "elapsed": 51882,
     "user": {
      "displayName": "Volkan Tatlikazan",
      "photoUrl": "https://lh3.googleusercontent.com/a-/AOh14GjmHAs2j8h9Y8NaxNe2GgIdffGW5139mkQzJrykJQ=s64",
      "userId": "02369655295950434275"
     }
    },
    "outputId": "a26b94f4-6995-4fe0-d38d-ae1e441cc16e"
   },
   "outputs": [
    {
     "output_type": "stream",
     "name": "stderr",
     "text": [
      "Setting `pad_token_id` to 50256 (first `eos_token_id`) to generate sequence\n",
      "Setting `pad_token_id` to 50256 (first `eos_token_id`) to generate sequence\n",
      "Setting `pad_token_id` to 50256 (first `eos_token_id`) to generate sequence\n",
      "Setting `pad_token_id` to 50256 (first `eos_token_id`) to generate sequence\n",
      "Setting `pad_token_id` to 50256 (first `eos_token_id`) to generate sequence\n"
     ]
    },
    {
     "output_type": "stream",
     "name": "stdout",
     "text": [
      "Sweet home Chicago\n",
      "\n",
      "(solo)\n",
      "\n",
      "Six and three is a Mississippi queen\n",
      "Come on, baba don't you want to go to go to go to go to go to go-all\n",
      "Oh come on, baba don't you ain't you ain't you ain't you ain't you ain't got you\n",
      "I ain't got you in the same old (I won't you)\n",
      "And you're the blues, yes I go on behind\n",
      "I need you're the whole night long\n",
      "\n",
      "\n",
      "Well do the blues, my baby\n",
      "Well\n"
     ]
    }
   ],
   "source": [
    "# FROM: 10 Finetuning a Language Model with Huggingface - Lyrics Mashup\n",
    "# CHANGES: None\n",
    "\n",
    "prompt = \"Sweet home\"\n",
    "n_generations = 5 # runs \n",
    "\n",
    "lyrics = prompt\n",
    "\n",
    "for i in range(n_generations):\n",
    "    \n",
    "    lyrics += generator(lyrics[-100:], return_full_text = False)[0][\"generated_text\"]\n",
    "    \n",
    "print(lyrics)\n",
    "\n",
    "#eos enf of sentence is used a  pad token"
   ],
   "id": "M4cyo8wZhxZg"
  },
  {
   "cell_type": "code",
   "source": [],
   "metadata": {
    "id": "HXm2Qe9xJuFV",
    "executionInfo": {
     "status": "ok",
     "timestamp": 1646933193154,
     "user_tz": -60,
     "elapsed": 21,
     "user": {
      "displayName": "Volkan Tatlikazan",
      "photoUrl": "https://lh3.googleusercontent.com/a-/AOh14GjmHAs2j8h9Y8NaxNe2GgIdffGW5139mkQzJrykJQ=s64",
      "userId": "02369655295950434275"
     }
    }
   },
   "id": "HXm2Qe9xJuFV",
   "execution_count": 38,
   "outputs": []
  }
 ],
 "metadata": {
  "colab": {
   "collapsed_sections": [
    "rFCircC15Xy6"
   ],
   "machine_shape": "hm",
   "name": "generate_my_artists_demo.ipynb",
   "provenance": [],
   "toc_visible": true
  },
  "kernelspec": {
   "display_name": "Python 3 (ipykernel)",
   "language": "python",
   "name": "python3"
  },
  "language_info": {
   "codemirror_mode": {
    "name": "ipython",
    "version": 3
   },
   "file_extension": ".py",
   "mimetype": "text/x-python",
   "name": "python",
   "nbconvert_exporter": "python",
   "pygments_lexer": "ipython3",
   "version": "3.9.7"
  },
  "widgets": {
   "application/vnd.jupyter.widget-state+json": {
    "79fdf8bcc94f41ba859469ba9611f039": {
     "model_module": "@jupyter-widgets/controls",
     "model_name": "HBoxModel",
     "model_module_version": "1.5.0",
     "state": {
      "_view_name": "HBoxView",
      "_dom_classes": [],
      "_model_name": "HBoxModel",
      "_view_module": "@jupyter-widgets/controls",
      "_model_module_version": "1.5.0",
      "_view_count": null,
      "_view_module_version": "1.5.0",
      "box_style": "",
      "layout": "IPY_MODEL_0322f211ec1e43cd86e6e58001901fd2",
      "_model_module": "@jupyter-widgets/controls",
      "children": [
       "IPY_MODEL_64f199c7630a4854baa9fdbdbf4e2eb9",
       "IPY_MODEL_0b9cd123a0cb48e7aea96f21d9dd86b3",
       "IPY_MODEL_f334d38f11af40cc951f42af087c1028"
      ]
     }
    },
    "0322f211ec1e43cd86e6e58001901fd2": {
     "model_module": "@jupyter-widgets/base",
     "model_name": "LayoutModel",
     "model_module_version": "1.2.0",
     "state": {
      "_view_name": "LayoutView",
      "grid_template_rows": null,
      "right": null,
      "justify_content": null,
      "_view_module": "@jupyter-widgets/base",
      "overflow": null,
      "_model_module_version": "1.2.0",
      "_view_count": null,
      "flex_flow": null,
      "width": null,
      "min_width": null,
      "border": null,
      "align_items": null,
      "bottom": null,
      "_model_module": "@jupyter-widgets/base",
      "top": null,
      "grid_column": null,
      "overflow_y": null,
      "overflow_x": null,
      "grid_auto_flow": null,
      "grid_area": null,
      "grid_template_columns": null,
      "flex": null,
      "_model_name": "LayoutModel",
      "justify_items": null,
      "grid_row": null,
      "max_height": null,
      "align_content": null,
      "visibility": null,
      "align_self": null,
      "height": null,
      "min_height": null,
      "padding": null,
      "grid_auto_rows": null,
      "grid_gap": null,
      "max_width": null,
      "order": null,
      "_view_module_version": "1.2.0",
      "grid_template_areas": null,
      "object_position": null,
      "object_fit": null,
      "grid_auto_columns": null,
      "margin": null,
      "display": null,
      "left": null
     }
    },
    "64f199c7630a4854baa9fdbdbf4e2eb9": {
     "model_module": "@jupyter-widgets/controls",
     "model_name": "HTMLModel",
     "model_module_version": "1.5.0",
     "state": {
      "_view_name": "HTMLView",
      "style": "IPY_MODEL_261ef68e52d5430a828e3e5906cfe38e",
      "_dom_classes": [],
      "description": "",
      "_model_name": "HTMLModel",
      "placeholder": "​",
      "_view_module": "@jupyter-widgets/controls",
      "_model_module_version": "1.5.0",
      "value": "Downloading: 100%",
      "_view_count": null,
      "_view_module_version": "1.5.0",
      "description_tooltip": null,
      "_model_module": "@jupyter-widgets/controls",
      "layout": "IPY_MODEL_9ac83823cd0d45b8bcc79413cdc0235a"
     }
    },
    "0b9cd123a0cb48e7aea96f21d9dd86b3": {
     "model_module": "@jupyter-widgets/controls",
     "model_name": "FloatProgressModel",
     "model_module_version": "1.5.0",
     "state": {
      "_view_name": "ProgressView",
      "style": "IPY_MODEL_590538e7083b43fbbf4dd34d109e4bed",
      "_dom_classes": [],
      "description": "",
      "_model_name": "FloatProgressModel",
      "bar_style": "success",
      "max": 665,
      "_view_module": "@jupyter-widgets/controls",
      "_model_module_version": "1.5.0",
      "value": 665,
      "_view_count": null,
      "_view_module_version": "1.5.0",
      "orientation": "horizontal",
      "min": 0,
      "description_tooltip": null,
      "_model_module": "@jupyter-widgets/controls",
      "layout": "IPY_MODEL_cdcdf2fec3a24869b2792b23ea2b8c24"
     }
    },
    "f334d38f11af40cc951f42af087c1028": {
     "model_module": "@jupyter-widgets/controls",
     "model_name": "HTMLModel",
     "model_module_version": "1.5.0",
     "state": {
      "_view_name": "HTMLView",
      "style": "IPY_MODEL_55e530541dac4866a653aff5fb9b09ad",
      "_dom_classes": [],
      "description": "",
      "_model_name": "HTMLModel",
      "placeholder": "​",
      "_view_module": "@jupyter-widgets/controls",
      "_model_module_version": "1.5.0",
      "value": " 665/665 [00:00&lt;00:00, 19.6kB/s]",
      "_view_count": null,
      "_view_module_version": "1.5.0",
      "description_tooltip": null,
      "_model_module": "@jupyter-widgets/controls",
      "layout": "IPY_MODEL_c5ad6bf708fc41b49eb7df8f959ec67b"
     }
    },
    "261ef68e52d5430a828e3e5906cfe38e": {
     "model_module": "@jupyter-widgets/controls",
     "model_name": "DescriptionStyleModel",
     "model_module_version": "1.5.0",
     "state": {
      "_view_name": "StyleView",
      "_model_name": "DescriptionStyleModel",
      "description_width": "",
      "_view_module": "@jupyter-widgets/base",
      "_model_module_version": "1.5.0",
      "_view_count": null,
      "_view_module_version": "1.2.0",
      "_model_module": "@jupyter-widgets/controls"
     }
    },
    "9ac83823cd0d45b8bcc79413cdc0235a": {
     "model_module": "@jupyter-widgets/base",
     "model_name": "LayoutModel",
     "model_module_version": "1.2.0",
     "state": {
      "_view_name": "LayoutView",
      "grid_template_rows": null,
      "right": null,
      "justify_content": null,
      "_view_module": "@jupyter-widgets/base",
      "overflow": null,
      "_model_module_version": "1.2.0",
      "_view_count": null,
      "flex_flow": null,
      "width": null,
      "min_width": null,
      "border": null,
      "align_items": null,
      "bottom": null,
      "_model_module": "@jupyter-widgets/base",
      "top": null,
      "grid_column": null,
      "overflow_y": null,
      "overflow_x": null,
      "grid_auto_flow": null,
      "grid_area": null,
      "grid_template_columns": null,
      "flex": null,
      "_model_name": "LayoutModel",
      "justify_items": null,
      "grid_row": null,
      "max_height": null,
      "align_content": null,
      "visibility": null,
      "align_self": null,
      "height": null,
      "min_height": null,
      "padding": null,
      "grid_auto_rows": null,
      "grid_gap": null,
      "max_width": null,
      "order": null,
      "_view_module_version": "1.2.0",
      "grid_template_areas": null,
      "object_position": null,
      "object_fit": null,
      "grid_auto_columns": null,
      "margin": null,
      "display": null,
      "left": null
     }
    },
    "590538e7083b43fbbf4dd34d109e4bed": {
     "model_module": "@jupyter-widgets/controls",
     "model_name": "ProgressStyleModel",
     "model_module_version": "1.5.0",
     "state": {
      "_view_name": "StyleView",
      "_model_name": "ProgressStyleModel",
      "description_width": "",
      "_view_module": "@jupyter-widgets/base",
      "_model_module_version": "1.5.0",
      "_view_count": null,
      "_view_module_version": "1.2.0",
      "bar_color": null,
      "_model_module": "@jupyter-widgets/controls"
     }
    },
    "cdcdf2fec3a24869b2792b23ea2b8c24": {
     "model_module": "@jupyter-widgets/base",
     "model_name": "LayoutModel",
     "model_module_version": "1.2.0",
     "state": {
      "_view_name": "LayoutView",
      "grid_template_rows": null,
      "right": null,
      "justify_content": null,
      "_view_module": "@jupyter-widgets/base",
      "overflow": null,
      "_model_module_version": "1.2.0",
      "_view_count": null,
      "flex_flow": null,
      "width": null,
      "min_width": null,
      "border": null,
      "align_items": null,
      "bottom": null,
      "_model_module": "@jupyter-widgets/base",
      "top": null,
      "grid_column": null,
      "overflow_y": null,
      "overflow_x": null,
      "grid_auto_flow": null,
      "grid_area": null,
      "grid_template_columns": null,
      "flex": null,
      "_model_name": "LayoutModel",
      "justify_items": null,
      "grid_row": null,
      "max_height": null,
      "align_content": null,
      "visibility": null,
      "align_self": null,
      "height": null,
      "min_height": null,
      "padding": null,
      "grid_auto_rows": null,
      "grid_gap": null,
      "max_width": null,
      "order": null,
      "_view_module_version": "1.2.0",
      "grid_template_areas": null,
      "object_position": null,
      "object_fit": null,
      "grid_auto_columns": null,
      "margin": null,
      "display": null,
      "left": null
     }
    },
    "55e530541dac4866a653aff5fb9b09ad": {
     "model_module": "@jupyter-widgets/controls",
     "model_name": "DescriptionStyleModel",
     "model_module_version": "1.5.0",
     "state": {
      "_view_name": "StyleView",
      "_model_name": "DescriptionStyleModel",
      "description_width": "",
      "_view_module": "@jupyter-widgets/base",
      "_model_module_version": "1.5.0",
      "_view_count": null,
      "_view_module_version": "1.2.0",
      "_model_module": "@jupyter-widgets/controls"
     }
    },
    "c5ad6bf708fc41b49eb7df8f959ec67b": {
     "model_module": "@jupyter-widgets/base",
     "model_name": "LayoutModel",
     "model_module_version": "1.2.0",
     "state": {
      "_view_name": "LayoutView",
      "grid_template_rows": null,
      "right": null,
      "justify_content": null,
      "_view_module": "@jupyter-widgets/base",
      "overflow": null,
      "_model_module_version": "1.2.0",
      "_view_count": null,
      "flex_flow": null,
      "width": null,
      "min_width": null,
      "border": null,
      "align_items": null,
      "bottom": null,
      "_model_module": "@jupyter-widgets/base",
      "top": null,
      "grid_column": null,
      "overflow_y": null,
      "overflow_x": null,
      "grid_auto_flow": null,
      "grid_area": null,
      "grid_template_columns": null,
      "flex": null,
      "_model_name": "LayoutModel",
      "justify_items": null,
      "grid_row": null,
      "max_height": null,
      "align_content": null,
      "visibility": null,
      "align_self": null,
      "height": null,
      "min_height": null,
      "padding": null,
      "grid_auto_rows": null,
      "grid_gap": null,
      "max_width": null,
      "order": null,
      "_view_module_version": "1.2.0",
      "grid_template_areas": null,
      "object_position": null,
      "object_fit": null,
      "grid_auto_columns": null,
      "margin": null,
      "display": null,
      "left": null
     }
    },
    "7b25d5a114054413b38e95574fe60a7d": {
     "model_module": "@jupyter-widgets/controls",
     "model_name": "HBoxModel",
     "model_module_version": "1.5.0",
     "state": {
      "_view_name": "HBoxView",
      "_dom_classes": [],
      "_model_name": "HBoxModel",
      "_view_module": "@jupyter-widgets/controls",
      "_model_module_version": "1.5.0",
      "_view_count": null,
      "_view_module_version": "1.5.0",
      "box_style": "",
      "layout": "IPY_MODEL_bb489f6435a94421a4cb45bf70d9be05",
      "_model_module": "@jupyter-widgets/controls",
      "children": [
       "IPY_MODEL_2553b1bbe9ab431b98ad707b62af5aa0",
       "IPY_MODEL_10e7f4411a994e409f540d7da72f878a",
       "IPY_MODEL_303ce0cbd6c44f1481823fef320a9b14"
      ]
     }
    },
    "bb489f6435a94421a4cb45bf70d9be05": {
     "model_module": "@jupyter-widgets/base",
     "model_name": "LayoutModel",
     "model_module_version": "1.2.0",
     "state": {
      "_view_name": "LayoutView",
      "grid_template_rows": null,
      "right": null,
      "justify_content": null,
      "_view_module": "@jupyter-widgets/base",
      "overflow": null,
      "_model_module_version": "1.2.0",
      "_view_count": null,
      "flex_flow": null,
      "width": null,
      "min_width": null,
      "border": null,
      "align_items": null,
      "bottom": null,
      "_model_module": "@jupyter-widgets/base",
      "top": null,
      "grid_column": null,
      "overflow_y": null,
      "overflow_x": null,
      "grid_auto_flow": null,
      "grid_area": null,
      "grid_template_columns": null,
      "flex": null,
      "_model_name": "LayoutModel",
      "justify_items": null,
      "grid_row": null,
      "max_height": null,
      "align_content": null,
      "visibility": null,
      "align_self": null,
      "height": null,
      "min_height": null,
      "padding": null,
      "grid_auto_rows": null,
      "grid_gap": null,
      "max_width": null,
      "order": null,
      "_view_module_version": "1.2.0",
      "grid_template_areas": null,
      "object_position": null,
      "object_fit": null,
      "grid_auto_columns": null,
      "margin": null,
      "display": null,
      "left": null
     }
    },
    "2553b1bbe9ab431b98ad707b62af5aa0": {
     "model_module": "@jupyter-widgets/controls",
     "model_name": "HTMLModel",
     "model_module_version": "1.5.0",
     "state": {
      "_view_name": "HTMLView",
      "style": "IPY_MODEL_ad086b9da8df408ba770512a2832422e",
      "_dom_classes": [],
      "description": "",
      "_model_name": "HTMLModel",
      "placeholder": "​",
      "_view_module": "@jupyter-widgets/controls",
      "_model_module_version": "1.5.0",
      "value": "Downloading: 100%",
      "_view_count": null,
      "_view_module_version": "1.5.0",
      "description_tooltip": null,
      "_model_module": "@jupyter-widgets/controls",
      "layout": "IPY_MODEL_3e1054f6b3ee4394b197b29b2b22c647"
     }
    },
    "10e7f4411a994e409f540d7da72f878a": {
     "model_module": "@jupyter-widgets/controls",
     "model_name": "FloatProgressModel",
     "model_module_version": "1.5.0",
     "state": {
      "_view_name": "ProgressView",
      "style": "IPY_MODEL_1f08ee563b2b46439a5d42ddcd1f25bb",
      "_dom_classes": [],
      "description": "",
      "_model_name": "FloatProgressModel",
      "bar_style": "success",
      "max": 1042301,
      "_view_module": "@jupyter-widgets/controls",
      "_model_module_version": "1.5.0",
      "value": 1042301,
      "_view_count": null,
      "_view_module_version": "1.5.0",
      "orientation": "horizontal",
      "min": 0,
      "description_tooltip": null,
      "_model_module": "@jupyter-widgets/controls",
      "layout": "IPY_MODEL_117f3c712a214236bc2ee9d63dd546d6"
     }
    },
    "303ce0cbd6c44f1481823fef320a9b14": {
     "model_module": "@jupyter-widgets/controls",
     "model_name": "HTMLModel",
     "model_module_version": "1.5.0",
     "state": {
      "_view_name": "HTMLView",
      "style": "IPY_MODEL_de70510a62ce4105a01595619eba466d",
      "_dom_classes": [],
      "description": "",
      "_model_name": "HTMLModel",
      "placeholder": "​",
      "_view_module": "@jupyter-widgets/controls",
      "_model_module_version": "1.5.0",
      "value": " 0.99M/0.99M [00:01&lt;00:00, 1.20MB/s]",
      "_view_count": null,
      "_view_module_version": "1.5.0",
      "description_tooltip": null,
      "_model_module": "@jupyter-widgets/controls",
      "layout": "IPY_MODEL_06ff7272ee0f45f2b6674e2b82ffc5e7"
     }
    },
    "ad086b9da8df408ba770512a2832422e": {
     "model_module": "@jupyter-widgets/controls",
     "model_name": "DescriptionStyleModel",
     "model_module_version": "1.5.0",
     "state": {
      "_view_name": "StyleView",
      "_model_name": "DescriptionStyleModel",
      "description_width": "",
      "_view_module": "@jupyter-widgets/base",
      "_model_module_version": "1.5.0",
      "_view_count": null,
      "_view_module_version": "1.2.0",
      "_model_module": "@jupyter-widgets/controls"
     }
    },
    "3e1054f6b3ee4394b197b29b2b22c647": {
     "model_module": "@jupyter-widgets/base",
     "model_name": "LayoutModel",
     "model_module_version": "1.2.0",
     "state": {
      "_view_name": "LayoutView",
      "grid_template_rows": null,
      "right": null,
      "justify_content": null,
      "_view_module": "@jupyter-widgets/base",
      "overflow": null,
      "_model_module_version": "1.2.0",
      "_view_count": null,
      "flex_flow": null,
      "width": null,
      "min_width": null,
      "border": null,
      "align_items": null,
      "bottom": null,
      "_model_module": "@jupyter-widgets/base",
      "top": null,
      "grid_column": null,
      "overflow_y": null,
      "overflow_x": null,
      "grid_auto_flow": null,
      "grid_area": null,
      "grid_template_columns": null,
      "flex": null,
      "_model_name": "LayoutModel",
      "justify_items": null,
      "grid_row": null,
      "max_height": null,
      "align_content": null,
      "visibility": null,
      "align_self": null,
      "height": null,
      "min_height": null,
      "padding": null,
      "grid_auto_rows": null,
      "grid_gap": null,
      "max_width": null,
      "order": null,
      "_view_module_version": "1.2.0",
      "grid_template_areas": null,
      "object_position": null,
      "object_fit": null,
      "grid_auto_columns": null,
      "margin": null,
      "display": null,
      "left": null
     }
    },
    "1f08ee563b2b46439a5d42ddcd1f25bb": {
     "model_module": "@jupyter-widgets/controls",
     "model_name": "ProgressStyleModel",
     "model_module_version": "1.5.0",
     "state": {
      "_view_name": "StyleView",
      "_model_name": "ProgressStyleModel",
      "description_width": "",
      "_view_module": "@jupyter-widgets/base",
      "_model_module_version": "1.5.0",
      "_view_count": null,
      "_view_module_version": "1.2.0",
      "bar_color": null,
      "_model_module": "@jupyter-widgets/controls"
     }
    },
    "117f3c712a214236bc2ee9d63dd546d6": {
     "model_module": "@jupyter-widgets/base",
     "model_name": "LayoutModel",
     "model_module_version": "1.2.0",
     "state": {
      "_view_name": "LayoutView",
      "grid_template_rows": null,
      "right": null,
      "justify_content": null,
      "_view_module": "@jupyter-widgets/base",
      "overflow": null,
      "_model_module_version": "1.2.0",
      "_view_count": null,
      "flex_flow": null,
      "width": null,
      "min_width": null,
      "border": null,
      "align_items": null,
      "bottom": null,
      "_model_module": "@jupyter-widgets/base",
      "top": null,
      "grid_column": null,
      "overflow_y": null,
      "overflow_x": null,
      "grid_auto_flow": null,
      "grid_area": null,
      "grid_template_columns": null,
      "flex": null,
      "_model_name": "LayoutModel",
      "justify_items": null,
      "grid_row": null,
      "max_height": null,
      "align_content": null,
      "visibility": null,
      "align_self": null,
      "height": null,
      "min_height": null,
      "padding": null,
      "grid_auto_rows": null,
      "grid_gap": null,
      "max_width": null,
      "order": null,
      "_view_module_version": "1.2.0",
      "grid_template_areas": null,
      "object_position": null,
      "object_fit": null,
      "grid_auto_columns": null,
      "margin": null,
      "display": null,
      "left": null
     }
    },
    "de70510a62ce4105a01595619eba466d": {
     "model_module": "@jupyter-widgets/controls",
     "model_name": "DescriptionStyleModel",
     "model_module_version": "1.5.0",
     "state": {
      "_view_name": "StyleView",
      "_model_name": "DescriptionStyleModel",
      "description_width": "",
      "_view_module": "@jupyter-widgets/base",
      "_model_module_version": "1.5.0",
      "_view_count": null,
      "_view_module_version": "1.2.0",
      "_model_module": "@jupyter-widgets/controls"
     }
    },
    "06ff7272ee0f45f2b6674e2b82ffc5e7": {
     "model_module": "@jupyter-widgets/base",
     "model_name": "LayoutModel",
     "model_module_version": "1.2.0",
     "state": {
      "_view_name": "LayoutView",
      "grid_template_rows": null,
      "right": null,
      "justify_content": null,
      "_view_module": "@jupyter-widgets/base",
      "overflow": null,
      "_model_module_version": "1.2.0",
      "_view_count": null,
      "flex_flow": null,
      "width": null,
      "min_width": null,
      "border": null,
      "align_items": null,
      "bottom": null,
      "_model_module": "@jupyter-widgets/base",
      "top": null,
      "grid_column": null,
      "overflow_y": null,
      "overflow_x": null,
      "grid_auto_flow": null,
      "grid_area": null,
      "grid_template_columns": null,
      "flex": null,
      "_model_name": "LayoutModel",
      "justify_items": null,
      "grid_row": null,
      "max_height": null,
      "align_content": null,
      "visibility": null,
      "align_self": null,
      "height": null,
      "min_height": null,
      "padding": null,
      "grid_auto_rows": null,
      "grid_gap": null,
      "max_width": null,
      "order": null,
      "_view_module_version": "1.2.0",
      "grid_template_areas": null,
      "object_position": null,
      "object_fit": null,
      "grid_auto_columns": null,
      "margin": null,
      "display": null,
      "left": null
     }
    },
    "1116f9198d0f4e4f9f4319c78dc7ffd0": {
     "model_module": "@jupyter-widgets/controls",
     "model_name": "HBoxModel",
     "model_module_version": "1.5.0",
     "state": {
      "_view_name": "HBoxView",
      "_dom_classes": [],
      "_model_name": "HBoxModel",
      "_view_module": "@jupyter-widgets/controls",
      "_model_module_version": "1.5.0",
      "_view_count": null,
      "_view_module_version": "1.5.0",
      "box_style": "",
      "layout": "IPY_MODEL_6fce575115b147889a41dae731a0219d",
      "_model_module": "@jupyter-widgets/controls",
      "children": [
       "IPY_MODEL_0fbea9ed69234feba70fa6855de030f7",
       "IPY_MODEL_d042b0201fed477f868a4ef9ae93d047",
       "IPY_MODEL_efbcb4e40a7f41f0bb81536b028a7914"
      ]
     }
    },
    "6fce575115b147889a41dae731a0219d": {
     "model_module": "@jupyter-widgets/base",
     "model_name": "LayoutModel",
     "model_module_version": "1.2.0",
     "state": {
      "_view_name": "LayoutView",
      "grid_template_rows": null,
      "right": null,
      "justify_content": null,
      "_view_module": "@jupyter-widgets/base",
      "overflow": null,
      "_model_module_version": "1.2.0",
      "_view_count": null,
      "flex_flow": null,
      "width": null,
      "min_width": null,
      "border": null,
      "align_items": null,
      "bottom": null,
      "_model_module": "@jupyter-widgets/base",
      "top": null,
      "grid_column": null,
      "overflow_y": null,
      "overflow_x": null,
      "grid_auto_flow": null,
      "grid_area": null,
      "grid_template_columns": null,
      "flex": null,
      "_model_name": "LayoutModel",
      "justify_items": null,
      "grid_row": null,
      "max_height": null,
      "align_content": null,
      "visibility": null,
      "align_self": null,
      "height": null,
      "min_height": null,
      "padding": null,
      "grid_auto_rows": null,
      "grid_gap": null,
      "max_width": null,
      "order": null,
      "_view_module_version": "1.2.0",
      "grid_template_areas": null,
      "object_position": null,
      "object_fit": null,
      "grid_auto_columns": null,
      "margin": null,
      "display": null,
      "left": null
     }
    },
    "0fbea9ed69234feba70fa6855de030f7": {
     "model_module": "@jupyter-widgets/controls",
     "model_name": "HTMLModel",
     "model_module_version": "1.5.0",
     "state": {
      "_view_name": "HTMLView",
      "style": "IPY_MODEL_13f5b97568a143f3b64a78634f9334cc",
      "_dom_classes": [],
      "description": "",
      "_model_name": "HTMLModel",
      "placeholder": "​",
      "_view_module": "@jupyter-widgets/controls",
      "_model_module_version": "1.5.0",
      "value": "Downloading: 100%",
      "_view_count": null,
      "_view_module_version": "1.5.0",
      "description_tooltip": null,
      "_model_module": "@jupyter-widgets/controls",
      "layout": "IPY_MODEL_713edcb0eefe4707b7a1cd1cd3a7bbc8"
     }
    },
    "d042b0201fed477f868a4ef9ae93d047": {
     "model_module": "@jupyter-widgets/controls",
     "model_name": "FloatProgressModel",
     "model_module_version": "1.5.0",
     "state": {
      "_view_name": "ProgressView",
      "style": "IPY_MODEL_b773b415ba9746ba9e6f920b4cd9a347",
      "_dom_classes": [],
      "description": "",
      "_model_name": "FloatProgressModel",
      "bar_style": "success",
      "max": 456318,
      "_view_module": "@jupyter-widgets/controls",
      "_model_module_version": "1.5.0",
      "value": 456318,
      "_view_count": null,
      "_view_module_version": "1.5.0",
      "orientation": "horizontal",
      "min": 0,
      "description_tooltip": null,
      "_model_module": "@jupyter-widgets/controls",
      "layout": "IPY_MODEL_a455c55660dd41e696a1fb7a435b3990"
     }
    },
    "efbcb4e40a7f41f0bb81536b028a7914": {
     "model_module": "@jupyter-widgets/controls",
     "model_name": "HTMLModel",
     "model_module_version": "1.5.0",
     "state": {
      "_view_name": "HTMLView",
      "style": "IPY_MODEL_76f7ab7a39024e909f5ebe1903dcdd64",
      "_dom_classes": [],
      "description": "",
      "_model_name": "HTMLModel",
      "placeholder": "​",
      "_view_module": "@jupyter-widgets/controls",
      "_model_module_version": "1.5.0",
      "value": " 446k/446k [00:00&lt;00:00, 659kB/s]",
      "_view_count": null,
      "_view_module_version": "1.5.0",
      "description_tooltip": null,
      "_model_module": "@jupyter-widgets/controls",
      "layout": "IPY_MODEL_abf80521569242d488d3c452705cd8e0"
     }
    },
    "13f5b97568a143f3b64a78634f9334cc": {
     "model_module": "@jupyter-widgets/controls",
     "model_name": "DescriptionStyleModel",
     "model_module_version": "1.5.0",
     "state": {
      "_view_name": "StyleView",
      "_model_name": "DescriptionStyleModel",
      "description_width": "",
      "_view_module": "@jupyter-widgets/base",
      "_model_module_version": "1.5.0",
      "_view_count": null,
      "_view_module_version": "1.2.0",
      "_model_module": "@jupyter-widgets/controls"
     }
    },
    "713edcb0eefe4707b7a1cd1cd3a7bbc8": {
     "model_module": "@jupyter-widgets/base",
     "model_name": "LayoutModel",
     "model_module_version": "1.2.0",
     "state": {
      "_view_name": "LayoutView",
      "grid_template_rows": null,
      "right": null,
      "justify_content": null,
      "_view_module": "@jupyter-widgets/base",
      "overflow": null,
      "_model_module_version": "1.2.0",
      "_view_count": null,
      "flex_flow": null,
      "width": null,
      "min_width": null,
      "border": null,
      "align_items": null,
      "bottom": null,
      "_model_module": "@jupyter-widgets/base",
      "top": null,
      "grid_column": null,
      "overflow_y": null,
      "overflow_x": null,
      "grid_auto_flow": null,
      "grid_area": null,
      "grid_template_columns": null,
      "flex": null,
      "_model_name": "LayoutModel",
      "justify_items": null,
      "grid_row": null,
      "max_height": null,
      "align_content": null,
      "visibility": null,
      "align_self": null,
      "height": null,
      "min_height": null,
      "padding": null,
      "grid_auto_rows": null,
      "grid_gap": null,
      "max_width": null,
      "order": null,
      "_view_module_version": "1.2.0",
      "grid_template_areas": null,
      "object_position": null,
      "object_fit": null,
      "grid_auto_columns": null,
      "margin": null,
      "display": null,
      "left": null
     }
    },
    "b773b415ba9746ba9e6f920b4cd9a347": {
     "model_module": "@jupyter-widgets/controls",
     "model_name": "ProgressStyleModel",
     "model_module_version": "1.5.0",
     "state": {
      "_view_name": "StyleView",
      "_model_name": "ProgressStyleModel",
      "description_width": "",
      "_view_module": "@jupyter-widgets/base",
      "_model_module_version": "1.5.0",
      "_view_count": null,
      "_view_module_version": "1.2.0",
      "bar_color": null,
      "_model_module": "@jupyter-widgets/controls"
     }
    },
    "a455c55660dd41e696a1fb7a435b3990": {
     "model_module": "@jupyter-widgets/base",
     "model_name": "LayoutModel",
     "model_module_version": "1.2.0",
     "state": {
      "_view_name": "LayoutView",
      "grid_template_rows": null,
      "right": null,
      "justify_content": null,
      "_view_module": "@jupyter-widgets/base",
      "overflow": null,
      "_model_module_version": "1.2.0",
      "_view_count": null,
      "flex_flow": null,
      "width": null,
      "min_width": null,
      "border": null,
      "align_items": null,
      "bottom": null,
      "_model_module": "@jupyter-widgets/base",
      "top": null,
      "grid_column": null,
      "overflow_y": null,
      "overflow_x": null,
      "grid_auto_flow": null,
      "grid_area": null,
      "grid_template_columns": null,
      "flex": null,
      "_model_name": "LayoutModel",
      "justify_items": null,
      "grid_row": null,
      "max_height": null,
      "align_content": null,
      "visibility": null,
      "align_self": null,
      "height": null,
      "min_height": null,
      "padding": null,
      "grid_auto_rows": null,
      "grid_gap": null,
      "max_width": null,
      "order": null,
      "_view_module_version": "1.2.0",
      "grid_template_areas": null,
      "object_position": null,
      "object_fit": null,
      "grid_auto_columns": null,
      "margin": null,
      "display": null,
      "left": null
     }
    },
    "76f7ab7a39024e909f5ebe1903dcdd64": {
     "model_module": "@jupyter-widgets/controls",
     "model_name": "DescriptionStyleModel",
     "model_module_version": "1.5.0",
     "state": {
      "_view_name": "StyleView",
      "_model_name": "DescriptionStyleModel",
      "description_width": "",
      "_view_module": "@jupyter-widgets/base",
      "_model_module_version": "1.5.0",
      "_view_count": null,
      "_view_module_version": "1.2.0",
      "_model_module": "@jupyter-widgets/controls"
     }
    },
    "abf80521569242d488d3c452705cd8e0": {
     "model_module": "@jupyter-widgets/base",
     "model_name": "LayoutModel",
     "model_module_version": "1.2.0",
     "state": {
      "_view_name": "LayoutView",
      "grid_template_rows": null,
      "right": null,
      "justify_content": null,
      "_view_module": "@jupyter-widgets/base",
      "overflow": null,
      "_model_module_version": "1.2.0",
      "_view_count": null,
      "flex_flow": null,
      "width": null,
      "min_width": null,
      "border": null,
      "align_items": null,
      "bottom": null,
      "_model_module": "@jupyter-widgets/base",
      "top": null,
      "grid_column": null,
      "overflow_y": null,
      "overflow_x": null,
      "grid_auto_flow": null,
      "grid_area": null,
      "grid_template_columns": null,
      "flex": null,
      "_model_name": "LayoutModel",
      "justify_items": null,
      "grid_row": null,
      "max_height": null,
      "align_content": null,
      "visibility": null,
      "align_self": null,
      "height": null,
      "min_height": null,
      "padding": null,
      "grid_auto_rows": null,
      "grid_gap": null,
      "max_width": null,
      "order": null,
      "_view_module_version": "1.2.0",
      "grid_template_areas": null,
      "object_position": null,
      "object_fit": null,
      "grid_auto_columns": null,
      "margin": null,
      "display": null,
      "left": null
     }
    },
    "943b81708b8349709cab8367e711a745": {
     "model_module": "@jupyter-widgets/controls",
     "model_name": "HBoxModel",
     "model_module_version": "1.5.0",
     "state": {
      "_view_name": "HBoxView",
      "_dom_classes": [],
      "_model_name": "HBoxModel",
      "_view_module": "@jupyter-widgets/controls",
      "_model_module_version": "1.5.0",
      "_view_count": null,
      "_view_module_version": "1.5.0",
      "box_style": "",
      "layout": "IPY_MODEL_2357eec94744484eaf6685bb4985c38f",
      "_model_module": "@jupyter-widgets/controls",
      "children": [
       "IPY_MODEL_61c64fd6225e4a1b885e50689a36e05d",
       "IPY_MODEL_4efe4849e4d94b20be10a0c7044c56e9",
       "IPY_MODEL_1b096dd753614295b9026f88f3fd3a0e"
      ]
     }
    },
    "2357eec94744484eaf6685bb4985c38f": {
     "model_module": "@jupyter-widgets/base",
     "model_name": "LayoutModel",
     "model_module_version": "1.2.0",
     "state": {
      "_view_name": "LayoutView",
      "grid_template_rows": null,
      "right": null,
      "justify_content": null,
      "_view_module": "@jupyter-widgets/base",
      "overflow": null,
      "_model_module_version": "1.2.0",
      "_view_count": null,
      "flex_flow": null,
      "width": null,
      "min_width": null,
      "border": null,
      "align_items": null,
      "bottom": null,
      "_model_module": "@jupyter-widgets/base",
      "top": null,
      "grid_column": null,
      "overflow_y": null,
      "overflow_x": null,
      "grid_auto_flow": null,
      "grid_area": null,
      "grid_template_columns": null,
      "flex": null,
      "_model_name": "LayoutModel",
      "justify_items": null,
      "grid_row": null,
      "max_height": null,
      "align_content": null,
      "visibility": null,
      "align_self": null,
      "height": null,
      "min_height": null,
      "padding": null,
      "grid_auto_rows": null,
      "grid_gap": null,
      "max_width": null,
      "order": null,
      "_view_module_version": "1.2.0",
      "grid_template_areas": null,
      "object_position": null,
      "object_fit": null,
      "grid_auto_columns": null,
      "margin": null,
      "display": null,
      "left": null
     }
    },
    "61c64fd6225e4a1b885e50689a36e05d": {
     "model_module": "@jupyter-widgets/controls",
     "model_name": "HTMLModel",
     "model_module_version": "1.5.0",
     "state": {
      "_view_name": "HTMLView",
      "style": "IPY_MODEL_4a138d4017814c078b052bbfb53f746c",
      "_dom_classes": [],
      "description": "",
      "_model_name": "HTMLModel",
      "placeholder": "​",
      "_view_module": "@jupyter-widgets/controls",
      "_model_module_version": "1.5.0",
      "value": "Downloading: 100%",
      "_view_count": null,
      "_view_module_version": "1.5.0",
      "description_tooltip": null,
      "_model_module": "@jupyter-widgets/controls",
      "layout": "IPY_MODEL_80669c76df5b496d9823833a4692e2e8"
     }
    },
    "4efe4849e4d94b20be10a0c7044c56e9": {
     "model_module": "@jupyter-widgets/controls",
     "model_name": "FloatProgressModel",
     "model_module_version": "1.5.0",
     "state": {
      "_view_name": "ProgressView",
      "style": "IPY_MODEL_53faa6194c49468fa70b91e1328cfd71",
      "_dom_classes": [],
      "description": "",
      "_model_name": "FloatProgressModel",
      "bar_style": "success",
      "max": 1355256,
      "_view_module": "@jupyter-widgets/controls",
      "_model_module_version": "1.5.0",
      "value": 1355256,
      "_view_count": null,
      "_view_module_version": "1.5.0",
      "orientation": "horizontal",
      "min": 0,
      "description_tooltip": null,
      "_model_module": "@jupyter-widgets/controls",
      "layout": "IPY_MODEL_abac5a7450bf45908ca65331e006c2ca"
     }
    },
    "1b096dd753614295b9026f88f3fd3a0e": {
     "model_module": "@jupyter-widgets/controls",
     "model_name": "HTMLModel",
     "model_module_version": "1.5.0",
     "state": {
      "_view_name": "HTMLView",
      "style": "IPY_MODEL_884c09aeec494fe6a49fcfb61681ae5d",
      "_dom_classes": [],
      "description": "",
      "_model_name": "HTMLModel",
      "placeholder": "​",
      "_view_module": "@jupyter-widgets/controls",
      "_model_module_version": "1.5.0",
      "value": " 1.29M/1.29M [00:01&lt;00:00, 1.57MB/s]",
      "_view_count": null,
      "_view_module_version": "1.5.0",
      "description_tooltip": null,
      "_model_module": "@jupyter-widgets/controls",
      "layout": "IPY_MODEL_e1fa7cdd58404c43be14953e07123851"
     }
    },
    "4a138d4017814c078b052bbfb53f746c": {
     "model_module": "@jupyter-widgets/controls",
     "model_name": "DescriptionStyleModel",
     "model_module_version": "1.5.0",
     "state": {
      "_view_name": "StyleView",
      "_model_name": "DescriptionStyleModel",
      "description_width": "",
      "_view_module": "@jupyter-widgets/base",
      "_model_module_version": "1.5.0",
      "_view_count": null,
      "_view_module_version": "1.2.0",
      "_model_module": "@jupyter-widgets/controls"
     }
    },
    "80669c76df5b496d9823833a4692e2e8": {
     "model_module": "@jupyter-widgets/base",
     "model_name": "LayoutModel",
     "model_module_version": "1.2.0",
     "state": {
      "_view_name": "LayoutView",
      "grid_template_rows": null,
      "right": null,
      "justify_content": null,
      "_view_module": "@jupyter-widgets/base",
      "overflow": null,
      "_model_module_version": "1.2.0",
      "_view_count": null,
      "flex_flow": null,
      "width": null,
      "min_width": null,
      "border": null,
      "align_items": null,
      "bottom": null,
      "_model_module": "@jupyter-widgets/base",
      "top": null,
      "grid_column": null,
      "overflow_y": null,
      "overflow_x": null,
      "grid_auto_flow": null,
      "grid_area": null,
      "grid_template_columns": null,
      "flex": null,
      "_model_name": "LayoutModel",
      "justify_items": null,
      "grid_row": null,
      "max_height": null,
      "align_content": null,
      "visibility": null,
      "align_self": null,
      "height": null,
      "min_height": null,
      "padding": null,
      "grid_auto_rows": null,
      "grid_gap": null,
      "max_width": null,
      "order": null,
      "_view_module_version": "1.2.0",
      "grid_template_areas": null,
      "object_position": null,
      "object_fit": null,
      "grid_auto_columns": null,
      "margin": null,
      "display": null,
      "left": null
     }
    },
    "53faa6194c49468fa70b91e1328cfd71": {
     "model_module": "@jupyter-widgets/controls",
     "model_name": "ProgressStyleModel",
     "model_module_version": "1.5.0",
     "state": {
      "_view_name": "StyleView",
      "_model_name": "ProgressStyleModel",
      "description_width": "",
      "_view_module": "@jupyter-widgets/base",
      "_model_module_version": "1.5.0",
      "_view_count": null,
      "_view_module_version": "1.2.0",
      "bar_color": null,
      "_model_module": "@jupyter-widgets/controls"
     }
    },
    "abac5a7450bf45908ca65331e006c2ca": {
     "model_module": "@jupyter-widgets/base",
     "model_name": "LayoutModel",
     "model_module_version": "1.2.0",
     "state": {
      "_view_name": "LayoutView",
      "grid_template_rows": null,
      "right": null,
      "justify_content": null,
      "_view_module": "@jupyter-widgets/base",
      "overflow": null,
      "_model_module_version": "1.2.0",
      "_view_count": null,
      "flex_flow": null,
      "width": null,
      "min_width": null,
      "border": null,
      "align_items": null,
      "bottom": null,
      "_model_module": "@jupyter-widgets/base",
      "top": null,
      "grid_column": null,
      "overflow_y": null,
      "overflow_x": null,
      "grid_auto_flow": null,
      "grid_area": null,
      "grid_template_columns": null,
      "flex": null,
      "_model_name": "LayoutModel",
      "justify_items": null,
      "grid_row": null,
      "max_height": null,
      "align_content": null,
      "visibility": null,
      "align_self": null,
      "height": null,
      "min_height": null,
      "padding": null,
      "grid_auto_rows": null,
      "grid_gap": null,
      "max_width": null,
      "order": null,
      "_view_module_version": "1.2.0",
      "grid_template_areas": null,
      "object_position": null,
      "object_fit": null,
      "grid_auto_columns": null,
      "margin": null,
      "display": null,
      "left": null
     }
    },
    "884c09aeec494fe6a49fcfb61681ae5d": {
     "model_module": "@jupyter-widgets/controls",
     "model_name": "DescriptionStyleModel",
     "model_module_version": "1.5.0",
     "state": {
      "_view_name": "StyleView",
      "_model_name": "DescriptionStyleModel",
      "description_width": "",
      "_view_module": "@jupyter-widgets/base",
      "_model_module_version": "1.5.0",
      "_view_count": null,
      "_view_module_version": "1.2.0",
      "_model_module": "@jupyter-widgets/controls"
     }
    },
    "e1fa7cdd58404c43be14953e07123851": {
     "model_module": "@jupyter-widgets/base",
     "model_name": "LayoutModel",
     "model_module_version": "1.2.0",
     "state": {
      "_view_name": "LayoutView",
      "grid_template_rows": null,
      "right": null,
      "justify_content": null,
      "_view_module": "@jupyter-widgets/base",
      "overflow": null,
      "_model_module_version": "1.2.0",
      "_view_count": null,
      "flex_flow": null,
      "width": null,
      "min_width": null,
      "border": null,
      "align_items": null,
      "bottom": null,
      "_model_module": "@jupyter-widgets/base",
      "top": null,
      "grid_column": null,
      "overflow_y": null,
      "overflow_x": null,
      "grid_auto_flow": null,
      "grid_area": null,
      "grid_template_columns": null,
      "flex": null,
      "_model_name": "LayoutModel",
      "justify_items": null,
      "grid_row": null,
      "max_height": null,
      "align_content": null,
      "visibility": null,
      "align_self": null,
      "height": null,
      "min_height": null,
      "padding": null,
      "grid_auto_rows": null,
      "grid_gap": null,
      "max_width": null,
      "order": null,
      "_view_module_version": "1.2.0",
      "grid_template_areas": null,
      "object_position": null,
      "object_fit": null,
      "grid_auto_columns": null,
      "margin": null,
      "display": null,
      "left": null
     }
    },
    "43a51861a65643a9adaa776eb6853345": {
     "model_module": "@jupyter-widgets/controls",
     "model_name": "HBoxModel",
     "model_module_version": "1.5.0",
     "state": {
      "_view_name": "HBoxView",
      "_dom_classes": [],
      "_model_name": "HBoxModel",
      "_view_module": "@jupyter-widgets/controls",
      "_model_module_version": "1.5.0",
      "_view_count": null,
      "_view_module_version": "1.5.0",
      "box_style": "",
      "layout": "IPY_MODEL_2baa82647e3643d3aa9f31615165e629",
      "_model_module": "@jupyter-widgets/controls",
      "children": [
       "IPY_MODEL_7184be8aca7f471583fa0e1bbd2a8c5a",
       "IPY_MODEL_e59491c2011e4f8f89ca1128746b346e",
       "IPY_MODEL_72ef6c38b4f2439eb998222f6cd84dba"
      ]
     }
    },
    "2baa82647e3643d3aa9f31615165e629": {
     "model_module": "@jupyter-widgets/base",
     "model_name": "LayoutModel",
     "model_module_version": "1.2.0",
     "state": {
      "_view_name": "LayoutView",
      "grid_template_rows": null,
      "right": null,
      "justify_content": null,
      "_view_module": "@jupyter-widgets/base",
      "overflow": null,
      "_model_module_version": "1.2.0",
      "_view_count": null,
      "flex_flow": null,
      "width": null,
      "min_width": null,
      "border": null,
      "align_items": null,
      "bottom": null,
      "_model_module": "@jupyter-widgets/base",
      "top": null,
      "grid_column": null,
      "overflow_y": null,
      "overflow_x": null,
      "grid_auto_flow": null,
      "grid_area": null,
      "grid_template_columns": null,
      "flex": null,
      "_model_name": "LayoutModel",
      "justify_items": null,
      "grid_row": null,
      "max_height": null,
      "align_content": null,
      "visibility": null,
      "align_self": null,
      "height": null,
      "min_height": null,
      "padding": null,
      "grid_auto_rows": null,
      "grid_gap": null,
      "max_width": null,
      "order": null,
      "_view_module_version": "1.2.0",
      "grid_template_areas": null,
      "object_position": null,
      "object_fit": null,
      "grid_auto_columns": null,
      "margin": null,
      "display": null,
      "left": null
     }
    },
    "7184be8aca7f471583fa0e1bbd2a8c5a": {
     "model_module": "@jupyter-widgets/controls",
     "model_name": "HTMLModel",
     "model_module_version": "1.5.0",
     "state": {
      "_view_name": "HTMLView",
      "style": "IPY_MODEL_d87824cdfb9343e0942d77ba4d17eb5f",
      "_dom_classes": [],
      "description": "",
      "_model_name": "HTMLModel",
      "placeholder": "​",
      "_view_module": "@jupyter-widgets/controls",
      "_model_module_version": "1.5.0",
      "value": "",
      "_view_count": null,
      "_view_module_version": "1.5.0",
      "description_tooltip": null,
      "_model_module": "@jupyter-widgets/controls",
      "layout": "IPY_MODEL_52c27cea19fa4704bba5bbfd9f5569ac"
     }
    },
    "e59491c2011e4f8f89ca1128746b346e": {
     "model_module": "@jupyter-widgets/controls",
     "model_name": "FloatProgressModel",
     "model_module_version": "1.5.0",
     "state": {
      "_view_name": "ProgressView",
      "style": "IPY_MODEL_e3a8b533b03748f1aecbcdf786c04508",
      "_dom_classes": [],
      "description": "",
      "_model_name": "FloatProgressModel",
      "bar_style": "success",
      "max": 1,
      "_view_module": "@jupyter-widgets/controls",
      "_model_module_version": "1.5.0",
      "value": 1,
      "_view_count": null,
      "_view_module_version": "1.5.0",
      "orientation": "horizontal",
      "min": 0,
      "description_tooltip": null,
      "_model_module": "@jupyter-widgets/controls",
      "layout": "IPY_MODEL_03ae70a54eb14ad5a820c48755f14f57"
     }
    },
    "72ef6c38b4f2439eb998222f6cd84dba": {
     "model_module": "@jupyter-widgets/controls",
     "model_name": "HTMLModel",
     "model_module_version": "1.5.0",
     "state": {
      "_view_name": "HTMLView",
      "style": "IPY_MODEL_448e7e36bac04f939b2fbc45d5c280de",
      "_dom_classes": [],
      "description": "",
      "_model_name": "HTMLModel",
      "placeholder": "​",
      "_view_module": "@jupyter-widgets/controls",
      "_model_module_version": "1.5.0",
      "value": " 66/? [00:00&lt;00:00, 242.12ex/s]",
      "_view_count": null,
      "_view_module_version": "1.5.0",
      "description_tooltip": null,
      "_model_module": "@jupyter-widgets/controls",
      "layout": "IPY_MODEL_4e79afd606084ff1810232ca482c0344"
     }
    },
    "d87824cdfb9343e0942d77ba4d17eb5f": {
     "model_module": "@jupyter-widgets/controls",
     "model_name": "DescriptionStyleModel",
     "model_module_version": "1.5.0",
     "state": {
      "_view_name": "StyleView",
      "_model_name": "DescriptionStyleModel",
      "description_width": "",
      "_view_module": "@jupyter-widgets/base",
      "_model_module_version": "1.5.0",
      "_view_count": null,
      "_view_module_version": "1.2.0",
      "_model_module": "@jupyter-widgets/controls"
     }
    },
    "52c27cea19fa4704bba5bbfd9f5569ac": {
     "model_module": "@jupyter-widgets/base",
     "model_name": "LayoutModel",
     "model_module_version": "1.2.0",
     "state": {
      "_view_name": "LayoutView",
      "grid_template_rows": null,
      "right": null,
      "justify_content": null,
      "_view_module": "@jupyter-widgets/base",
      "overflow": null,
      "_model_module_version": "1.2.0",
      "_view_count": null,
      "flex_flow": null,
      "width": null,
      "min_width": null,
      "border": null,
      "align_items": null,
      "bottom": null,
      "_model_module": "@jupyter-widgets/base",
      "top": null,
      "grid_column": null,
      "overflow_y": null,
      "overflow_x": null,
      "grid_auto_flow": null,
      "grid_area": null,
      "grid_template_columns": null,
      "flex": null,
      "_model_name": "LayoutModel",
      "justify_items": null,
      "grid_row": null,
      "max_height": null,
      "align_content": null,
      "visibility": null,
      "align_self": null,
      "height": null,
      "min_height": null,
      "padding": null,
      "grid_auto_rows": null,
      "grid_gap": null,
      "max_width": null,
      "order": null,
      "_view_module_version": "1.2.0",
      "grid_template_areas": null,
      "object_position": null,
      "object_fit": null,
      "grid_auto_columns": null,
      "margin": null,
      "display": null,
      "left": null
     }
    },
    "e3a8b533b03748f1aecbcdf786c04508": {
     "model_module": "@jupyter-widgets/controls",
     "model_name": "ProgressStyleModel",
     "model_module_version": "1.5.0",
     "state": {
      "_view_name": "StyleView",
      "_model_name": "ProgressStyleModel",
      "description_width": "",
      "_view_module": "@jupyter-widgets/base",
      "_model_module_version": "1.5.0",
      "_view_count": null,
      "_view_module_version": "1.2.0",
      "bar_color": null,
      "_model_module": "@jupyter-widgets/controls"
     }
    },
    "03ae70a54eb14ad5a820c48755f14f57": {
     "model_module": "@jupyter-widgets/base",
     "model_name": "LayoutModel",
     "model_module_version": "1.2.0",
     "state": {
      "_view_name": "LayoutView",
      "grid_template_rows": null,
      "right": null,
      "justify_content": null,
      "_view_module": "@jupyter-widgets/base",
      "overflow": null,
      "_model_module_version": "1.2.0",
      "_view_count": null,
      "flex_flow": null,
      "width": "20px",
      "min_width": null,
      "border": null,
      "align_items": null,
      "bottom": null,
      "_model_module": "@jupyter-widgets/base",
      "top": null,
      "grid_column": null,
      "overflow_y": null,
      "overflow_x": null,
      "grid_auto_flow": null,
      "grid_area": null,
      "grid_template_columns": null,
      "flex": null,
      "_model_name": "LayoutModel",
      "justify_items": null,
      "grid_row": null,
      "max_height": null,
      "align_content": null,
      "visibility": null,
      "align_self": null,
      "height": null,
      "min_height": null,
      "padding": null,
      "grid_auto_rows": null,
      "grid_gap": null,
      "max_width": null,
      "order": null,
      "_view_module_version": "1.2.0",
      "grid_template_areas": null,
      "object_position": null,
      "object_fit": null,
      "grid_auto_columns": null,
      "margin": null,
      "display": null,
      "left": null
     }
    },
    "448e7e36bac04f939b2fbc45d5c280de": {
     "model_module": "@jupyter-widgets/controls",
     "model_name": "DescriptionStyleModel",
     "model_module_version": "1.5.0",
     "state": {
      "_view_name": "StyleView",
      "_model_name": "DescriptionStyleModel",
      "description_width": "",
      "_view_module": "@jupyter-widgets/base",
      "_model_module_version": "1.5.0",
      "_view_count": null,
      "_view_module_version": "1.2.0",
      "_model_module": "@jupyter-widgets/controls"
     }
    },
    "4e79afd606084ff1810232ca482c0344": {
     "model_module": "@jupyter-widgets/base",
     "model_name": "LayoutModel",
     "model_module_version": "1.2.0",
     "state": {
      "_view_name": "LayoutView",
      "grid_template_rows": null,
      "right": null,
      "justify_content": null,
      "_view_module": "@jupyter-widgets/base",
      "overflow": null,
      "_model_module_version": "1.2.0",
      "_view_count": null,
      "flex_flow": null,
      "width": null,
      "min_width": null,
      "border": null,
      "align_items": null,
      "bottom": null,
      "_model_module": "@jupyter-widgets/base",
      "top": null,
      "grid_column": null,
      "overflow_y": null,
      "overflow_x": null,
      "grid_auto_flow": null,
      "grid_area": null,
      "grid_template_columns": null,
      "flex": null,
      "_model_name": "LayoutModel",
      "justify_items": null,
      "grid_row": null,
      "max_height": null,
      "align_content": null,
      "visibility": null,
      "align_self": null,
      "height": null,
      "min_height": null,
      "padding": null,
      "grid_auto_rows": null,
      "grid_gap": null,
      "max_width": null,
      "order": null,
      "_view_module_version": "1.2.0",
      "grid_template_areas": null,
      "object_position": null,
      "object_fit": null,
      "grid_auto_columns": null,
      "margin": null,
      "display": null,
      "left": null
     }
    },
    "52ff502e185044e89f6106341c412f09": {
     "model_module": "@jupyter-widgets/controls",
     "model_name": "HBoxModel",
     "model_module_version": "1.5.0",
     "state": {
      "_view_name": "HBoxView",
      "_dom_classes": [],
      "_model_name": "HBoxModel",
      "_view_module": "@jupyter-widgets/controls",
      "_model_module_version": "1.5.0",
      "_view_count": null,
      "_view_module_version": "1.5.0",
      "box_style": "",
      "layout": "IPY_MODEL_9418738301d845f78b35f04490753753",
      "_model_module": "@jupyter-widgets/controls",
      "children": [
       "IPY_MODEL_b771e9020f1a4d73abcc0849764ced39",
       "IPY_MODEL_01ddb3aae1634718bacc7d54c1918503",
       "IPY_MODEL_5142bf1c3e6340ddb7d044f1df18c2f4"
      ]
     }
    },
    "9418738301d845f78b35f04490753753": {
     "model_module": "@jupyter-widgets/base",
     "model_name": "LayoutModel",
     "model_module_version": "1.2.0",
     "state": {
      "_view_name": "LayoutView",
      "grid_template_rows": null,
      "right": null,
      "justify_content": null,
      "_view_module": "@jupyter-widgets/base",
      "overflow": null,
      "_model_module_version": "1.2.0",
      "_view_count": null,
      "flex_flow": null,
      "width": null,
      "min_width": null,
      "border": null,
      "align_items": null,
      "bottom": null,
      "_model_module": "@jupyter-widgets/base",
      "top": null,
      "grid_column": null,
      "overflow_y": null,
      "overflow_x": null,
      "grid_auto_flow": null,
      "grid_area": null,
      "grid_template_columns": null,
      "flex": null,
      "_model_name": "LayoutModel",
      "justify_items": null,
      "grid_row": null,
      "max_height": null,
      "align_content": null,
      "visibility": null,
      "align_self": null,
      "height": null,
      "min_height": null,
      "padding": null,
      "grid_auto_rows": null,
      "grid_gap": null,
      "max_width": null,
      "order": null,
      "_view_module_version": "1.2.0",
      "grid_template_areas": null,
      "object_position": null,
      "object_fit": null,
      "grid_auto_columns": null,
      "margin": null,
      "display": null,
      "left": null
     }
    },
    "b771e9020f1a4d73abcc0849764ced39": {
     "model_module": "@jupyter-widgets/controls",
     "model_name": "HTMLModel",
     "model_module_version": "1.5.0",
     "state": {
      "_view_name": "HTMLView",
      "style": "IPY_MODEL_5830eb5ba1b247fdbbdbb823f97a2acd",
      "_dom_classes": [],
      "description": "",
      "_model_name": "HTMLModel",
      "placeholder": "​",
      "_view_module": "@jupyter-widgets/controls",
      "_model_module_version": "1.5.0",
      "value": "100%",
      "_view_count": null,
      "_view_module_version": "1.5.0",
      "description_tooltip": null,
      "_model_module": "@jupyter-widgets/controls",
      "layout": "IPY_MODEL_fcc9bd755366472e8d0273c9b873ef01"
     }
    },
    "01ddb3aae1634718bacc7d54c1918503": {
     "model_module": "@jupyter-widgets/controls",
     "model_name": "FloatProgressModel",
     "model_module_version": "1.5.0",
     "state": {
      "_view_name": "ProgressView",
      "style": "IPY_MODEL_1f1825b691ed41efab558499ede36c6a",
      "_dom_classes": [],
      "description": "",
      "_model_name": "FloatProgressModel",
      "bar_style": "success",
      "max": 1,
      "_view_module": "@jupyter-widgets/controls",
      "_model_module_version": "1.5.0",
      "value": 1,
      "_view_count": null,
      "_view_module_version": "1.5.0",
      "orientation": "horizontal",
      "min": 0,
      "description_tooltip": null,
      "_model_module": "@jupyter-widgets/controls",
      "layout": "IPY_MODEL_4e9d82862aeb409a969e44ad7804e8b9"
     }
    },
    "5142bf1c3e6340ddb7d044f1df18c2f4": {
     "model_module": "@jupyter-widgets/controls",
     "model_name": "HTMLModel",
     "model_module_version": "1.5.0",
     "state": {
      "_view_name": "HTMLView",
      "style": "IPY_MODEL_0891119c53194b80b70934c493a4dff7",
      "_dom_classes": [],
      "description": "",
      "_model_name": "HTMLModel",
      "placeholder": "​",
      "_view_module": "@jupyter-widgets/controls",
      "_model_module_version": "1.5.0",
      "value": " 1/1 [00:00&lt;00:00, 15.02ba/s]",
      "_view_count": null,
      "_view_module_version": "1.5.0",
      "description_tooltip": null,
      "_model_module": "@jupyter-widgets/controls",
      "layout": "IPY_MODEL_7bd26a41f93749b6a32e3eb24f7da7dd"
     }
    },
    "5830eb5ba1b247fdbbdbb823f97a2acd": {
     "model_module": "@jupyter-widgets/controls",
     "model_name": "DescriptionStyleModel",
     "model_module_version": "1.5.0",
     "state": {
      "_view_name": "StyleView",
      "_model_name": "DescriptionStyleModel",
      "description_width": "",
      "_view_module": "@jupyter-widgets/base",
      "_model_module_version": "1.5.0",
      "_view_count": null,
      "_view_module_version": "1.2.0",
      "_model_module": "@jupyter-widgets/controls"
     }
    },
    "fcc9bd755366472e8d0273c9b873ef01": {
     "model_module": "@jupyter-widgets/base",
     "model_name": "LayoutModel",
     "model_module_version": "1.2.0",
     "state": {
      "_view_name": "LayoutView",
      "grid_template_rows": null,
      "right": null,
      "justify_content": null,
      "_view_module": "@jupyter-widgets/base",
      "overflow": null,
      "_model_module_version": "1.2.0",
      "_view_count": null,
      "flex_flow": null,
      "width": null,
      "min_width": null,
      "border": null,
      "align_items": null,
      "bottom": null,
      "_model_module": "@jupyter-widgets/base",
      "top": null,
      "grid_column": null,
      "overflow_y": null,
      "overflow_x": null,
      "grid_auto_flow": null,
      "grid_area": null,
      "grid_template_columns": null,
      "flex": null,
      "_model_name": "LayoutModel",
      "justify_items": null,
      "grid_row": null,
      "max_height": null,
      "align_content": null,
      "visibility": null,
      "align_self": null,
      "height": null,
      "min_height": null,
      "padding": null,
      "grid_auto_rows": null,
      "grid_gap": null,
      "max_width": null,
      "order": null,
      "_view_module_version": "1.2.0",
      "grid_template_areas": null,
      "object_position": null,
      "object_fit": null,
      "grid_auto_columns": null,
      "margin": null,
      "display": null,
      "left": null
     }
    },
    "1f1825b691ed41efab558499ede36c6a": {
     "model_module": "@jupyter-widgets/controls",
     "model_name": "ProgressStyleModel",
     "model_module_version": "1.5.0",
     "state": {
      "_view_name": "StyleView",
      "_model_name": "ProgressStyleModel",
      "description_width": "",
      "_view_module": "@jupyter-widgets/base",
      "_model_module_version": "1.5.0",
      "_view_count": null,
      "_view_module_version": "1.2.0",
      "bar_color": null,
      "_model_module": "@jupyter-widgets/controls"
     }
    },
    "4e9d82862aeb409a969e44ad7804e8b9": {
     "model_module": "@jupyter-widgets/base",
     "model_name": "LayoutModel",
     "model_module_version": "1.2.0",
     "state": {
      "_view_name": "LayoutView",
      "grid_template_rows": null,
      "right": null,
      "justify_content": null,
      "_view_module": "@jupyter-widgets/base",
      "overflow": null,
      "_model_module_version": "1.2.0",
      "_view_count": null,
      "flex_flow": null,
      "width": null,
      "min_width": null,
      "border": null,
      "align_items": null,
      "bottom": null,
      "_model_module": "@jupyter-widgets/base",
      "top": null,
      "grid_column": null,
      "overflow_y": null,
      "overflow_x": null,
      "grid_auto_flow": null,
      "grid_area": null,
      "grid_template_columns": null,
      "flex": null,
      "_model_name": "LayoutModel",
      "justify_items": null,
      "grid_row": null,
      "max_height": null,
      "align_content": null,
      "visibility": null,
      "align_self": null,
      "height": null,
      "min_height": null,
      "padding": null,
      "grid_auto_rows": null,
      "grid_gap": null,
      "max_width": null,
      "order": null,
      "_view_module_version": "1.2.0",
      "grid_template_areas": null,
      "object_position": null,
      "object_fit": null,
      "grid_auto_columns": null,
      "margin": null,
      "display": null,
      "left": null
     }
    },
    "0891119c53194b80b70934c493a4dff7": {
     "model_module": "@jupyter-widgets/controls",
     "model_name": "DescriptionStyleModel",
     "model_module_version": "1.5.0",
     "state": {
      "_view_name": "StyleView",
      "_model_name": "DescriptionStyleModel",
      "description_width": "",
      "_view_module": "@jupyter-widgets/base",
      "_model_module_version": "1.5.0",
      "_view_count": null,
      "_view_module_version": "1.2.0",
      "_model_module": "@jupyter-widgets/controls"
     }
    },
    "7bd26a41f93749b6a32e3eb24f7da7dd": {
     "model_module": "@jupyter-widgets/base",
     "model_name": "LayoutModel",
     "model_module_version": "1.2.0",
     "state": {
      "_view_name": "LayoutView",
      "grid_template_rows": null,
      "right": null,
      "justify_content": null,
      "_view_module": "@jupyter-widgets/base",
      "overflow": null,
      "_model_module_version": "1.2.0",
      "_view_count": null,
      "flex_flow": null,
      "width": null,
      "min_width": null,
      "border": null,
      "align_items": null,
      "bottom": null,
      "_model_module": "@jupyter-widgets/base",
      "top": null,
      "grid_column": null,
      "overflow_y": null,
      "overflow_x": null,
      "grid_auto_flow": null,
      "grid_area": null,
      "grid_template_columns": null,
      "flex": null,
      "_model_name": "LayoutModel",
      "justify_items": null,
      "grid_row": null,
      "max_height": null,
      "align_content": null,
      "visibility": null,
      "align_self": null,
      "height": null,
      "min_height": null,
      "padding": null,
      "grid_auto_rows": null,
      "grid_gap": null,
      "max_width": null,
      "order": null,
      "_view_module_version": "1.2.0",
      "grid_template_areas": null,
      "object_position": null,
      "object_fit": null,
      "grid_auto_columns": null,
      "margin": null,
      "display": null,
      "left": null
     }
    },
    "4f7bda356caa4535a7204ac5a9c6a817": {
     "model_module": "@jupyter-widgets/controls",
     "model_name": "HBoxModel",
     "model_module_version": "1.5.0",
     "state": {
      "_view_name": "HBoxView",
      "_dom_classes": [],
      "_model_name": "HBoxModel",
      "_view_module": "@jupyter-widgets/controls",
      "_model_module_version": "1.5.0",
      "_view_count": null,
      "_view_module_version": "1.5.0",
      "box_style": "",
      "layout": "IPY_MODEL_b679f4b558264fefb172740985003480",
      "_model_module": "@jupyter-widgets/controls",
      "children": [
       "IPY_MODEL_0d63db741ef04a3eb2f9fe1a6e70ce12",
       "IPY_MODEL_b082e5a0ee82492ba287def0a0e73d1f",
       "IPY_MODEL_535305aa05744efebc618f4e26b098c1"
      ]
     }
    },
    "b679f4b558264fefb172740985003480": {
     "model_module": "@jupyter-widgets/base",
     "model_name": "LayoutModel",
     "model_module_version": "1.2.0",
     "state": {
      "_view_name": "LayoutView",
      "grid_template_rows": null,
      "right": null,
      "justify_content": null,
      "_view_module": "@jupyter-widgets/base",
      "overflow": null,
      "_model_module_version": "1.2.0",
      "_view_count": null,
      "flex_flow": null,
      "width": null,
      "min_width": null,
      "border": null,
      "align_items": null,
      "bottom": null,
      "_model_module": "@jupyter-widgets/base",
      "top": null,
      "grid_column": null,
      "overflow_y": null,
      "overflow_x": null,
      "grid_auto_flow": null,
      "grid_area": null,
      "grid_template_columns": null,
      "flex": null,
      "_model_name": "LayoutModel",
      "justify_items": null,
      "grid_row": null,
      "max_height": null,
      "align_content": null,
      "visibility": null,
      "align_self": null,
      "height": null,
      "min_height": null,
      "padding": null,
      "grid_auto_rows": null,
      "grid_gap": null,
      "max_width": null,
      "order": null,
      "_view_module_version": "1.2.0",
      "grid_template_areas": null,
      "object_position": null,
      "object_fit": null,
      "grid_auto_columns": null,
      "margin": null,
      "display": null,
      "left": null
     }
    },
    "0d63db741ef04a3eb2f9fe1a6e70ce12": {
     "model_module": "@jupyter-widgets/controls",
     "model_name": "HTMLModel",
     "model_module_version": "1.5.0",
     "state": {
      "_view_name": "HTMLView",
      "style": "IPY_MODEL_1c6253ab589b431eac94314bdc0f699a",
      "_dom_classes": [],
      "description": "",
      "_model_name": "HTMLModel",
      "placeholder": "​",
      "_view_module": "@jupyter-widgets/controls",
      "_model_module_version": "1.5.0",
      "value": "100%",
      "_view_count": null,
      "_view_module_version": "1.5.0",
      "description_tooltip": null,
      "_model_module": "@jupyter-widgets/controls",
      "layout": "IPY_MODEL_ebd399984186402ebef3ff007c644604"
     }
    },
    "b082e5a0ee82492ba287def0a0e73d1f": {
     "model_module": "@jupyter-widgets/controls",
     "model_name": "FloatProgressModel",
     "model_module_version": "1.5.0",
     "state": {
      "_view_name": "ProgressView",
      "style": "IPY_MODEL_81b15046af344ef097fb6be7fde40331",
      "_dom_classes": [],
      "description": "",
      "_model_name": "FloatProgressModel",
      "bar_style": "success",
      "max": 1,
      "_view_module": "@jupyter-widgets/controls",
      "_model_module_version": "1.5.0",
      "value": 1,
      "_view_count": null,
      "_view_module_version": "1.5.0",
      "orientation": "horizontal",
      "min": 0,
      "description_tooltip": null,
      "_model_module": "@jupyter-widgets/controls",
      "layout": "IPY_MODEL_9e6e24a0fa34412a9cabda993e5d68e5"
     }
    },
    "535305aa05744efebc618f4e26b098c1": {
     "model_module": "@jupyter-widgets/controls",
     "model_name": "HTMLModel",
     "model_module_version": "1.5.0",
     "state": {
      "_view_name": "HTMLView",
      "style": "IPY_MODEL_bd4ae478efee4c7da613a35a8b047fca",
      "_dom_classes": [],
      "description": "",
      "_model_name": "HTMLModel",
      "placeholder": "​",
      "_view_module": "@jupyter-widgets/controls",
      "_model_module_version": "1.5.0",
      "value": " 1/1 [00:00&lt;00:00, 15.09ba/s]",
      "_view_count": null,
      "_view_module_version": "1.5.0",
      "description_tooltip": null,
      "_model_module": "@jupyter-widgets/controls",
      "layout": "IPY_MODEL_fc0ba1bccc9b433b805557a8163a3a21"
     }
    },
    "1c6253ab589b431eac94314bdc0f699a": {
     "model_module": "@jupyter-widgets/controls",
     "model_name": "DescriptionStyleModel",
     "model_module_version": "1.5.0",
     "state": {
      "_view_name": "StyleView",
      "_model_name": "DescriptionStyleModel",
      "description_width": "",
      "_view_module": "@jupyter-widgets/base",
      "_model_module_version": "1.5.0",
      "_view_count": null,
      "_view_module_version": "1.2.0",
      "_model_module": "@jupyter-widgets/controls"
     }
    },
    "ebd399984186402ebef3ff007c644604": {
     "model_module": "@jupyter-widgets/base",
     "model_name": "LayoutModel",
     "model_module_version": "1.2.0",
     "state": {
      "_view_name": "LayoutView",
      "grid_template_rows": null,
      "right": null,
      "justify_content": null,
      "_view_module": "@jupyter-widgets/base",
      "overflow": null,
      "_model_module_version": "1.2.0",
      "_view_count": null,
      "flex_flow": null,
      "width": null,
      "min_width": null,
      "border": null,
      "align_items": null,
      "bottom": null,
      "_model_module": "@jupyter-widgets/base",
      "top": null,
      "grid_column": null,
      "overflow_y": null,
      "overflow_x": null,
      "grid_auto_flow": null,
      "grid_area": null,
      "grid_template_columns": null,
      "flex": null,
      "_model_name": "LayoutModel",
      "justify_items": null,
      "grid_row": null,
      "max_height": null,
      "align_content": null,
      "visibility": null,
      "align_self": null,
      "height": null,
      "min_height": null,
      "padding": null,
      "grid_auto_rows": null,
      "grid_gap": null,
      "max_width": null,
      "order": null,
      "_view_module_version": "1.2.0",
      "grid_template_areas": null,
      "object_position": null,
      "object_fit": null,
      "grid_auto_columns": null,
      "margin": null,
      "display": null,
      "left": null
     }
    },
    "81b15046af344ef097fb6be7fde40331": {
     "model_module": "@jupyter-widgets/controls",
     "model_name": "ProgressStyleModel",
     "model_module_version": "1.5.0",
     "state": {
      "_view_name": "StyleView",
      "_model_name": "ProgressStyleModel",
      "description_width": "",
      "_view_module": "@jupyter-widgets/base",
      "_model_module_version": "1.5.0",
      "_view_count": null,
      "_view_module_version": "1.2.0",
      "bar_color": null,
      "_model_module": "@jupyter-widgets/controls"
     }
    },
    "9e6e24a0fa34412a9cabda993e5d68e5": {
     "model_module": "@jupyter-widgets/base",
     "model_name": "LayoutModel",
     "model_module_version": "1.2.0",
     "state": {
      "_view_name": "LayoutView",
      "grid_template_rows": null,
      "right": null,
      "justify_content": null,
      "_view_module": "@jupyter-widgets/base",
      "overflow": null,
      "_model_module_version": "1.2.0",
      "_view_count": null,
      "flex_flow": null,
      "width": null,
      "min_width": null,
      "border": null,
      "align_items": null,
      "bottom": null,
      "_model_module": "@jupyter-widgets/base",
      "top": null,
      "grid_column": null,
      "overflow_y": null,
      "overflow_x": null,
      "grid_auto_flow": null,
      "grid_area": null,
      "grid_template_columns": null,
      "flex": null,
      "_model_name": "LayoutModel",
      "justify_items": null,
      "grid_row": null,
      "max_height": null,
      "align_content": null,
      "visibility": null,
      "align_self": null,
      "height": null,
      "min_height": null,
      "padding": null,
      "grid_auto_rows": null,
      "grid_gap": null,
      "max_width": null,
      "order": null,
      "_view_module_version": "1.2.0",
      "grid_template_areas": null,
      "object_position": null,
      "object_fit": null,
      "grid_auto_columns": null,
      "margin": null,
      "display": null,
      "left": null
     }
    },
    "bd4ae478efee4c7da613a35a8b047fca": {
     "model_module": "@jupyter-widgets/controls",
     "model_name": "DescriptionStyleModel",
     "model_module_version": "1.5.0",
     "state": {
      "_view_name": "StyleView",
      "_model_name": "DescriptionStyleModel",
      "description_width": "",
      "_view_module": "@jupyter-widgets/base",
      "_model_module_version": "1.5.0",
      "_view_count": null,
      "_view_module_version": "1.2.0",
      "_model_module": "@jupyter-widgets/controls"
     }
    },
    "fc0ba1bccc9b433b805557a8163a3a21": {
     "model_module": "@jupyter-widgets/base",
     "model_name": "LayoutModel",
     "model_module_version": "1.2.0",
     "state": {
      "_view_name": "LayoutView",
      "grid_template_rows": null,
      "right": null,
      "justify_content": null,
      "_view_module": "@jupyter-widgets/base",
      "overflow": null,
      "_model_module_version": "1.2.0",
      "_view_count": null,
      "flex_flow": null,
      "width": null,
      "min_width": null,
      "border": null,
      "align_items": null,
      "bottom": null,
      "_model_module": "@jupyter-widgets/base",
      "top": null,
      "grid_column": null,
      "overflow_y": null,
      "overflow_x": null,
      "grid_auto_flow": null,
      "grid_area": null,
      "grid_template_columns": null,
      "flex": null,
      "_model_name": "LayoutModel",
      "justify_items": null,
      "grid_row": null,
      "max_height": null,
      "align_content": null,
      "visibility": null,
      "align_self": null,
      "height": null,
      "min_height": null,
      "padding": null,
      "grid_auto_rows": null,
      "grid_gap": null,
      "max_width": null,
      "order": null,
      "_view_module_version": "1.2.0",
      "grid_template_areas": null,
      "object_position": null,
      "object_fit": null,
      "grid_auto_columns": null,
      "margin": null,
      "display": null,
      "left": null
     }
    },
    "870330c0e843467895312bd6a9832db1": {
     "model_module": "@jupyter-widgets/controls",
     "model_name": "HBoxModel",
     "model_module_version": "1.5.0",
     "state": {
      "_view_name": "HBoxView",
      "_dom_classes": [],
      "_model_name": "HBoxModel",
      "_view_module": "@jupyter-widgets/controls",
      "_model_module_version": "1.5.0",
      "_view_count": null,
      "_view_module_version": "1.5.0",
      "box_style": "",
      "layout": "IPY_MODEL_666ea123ab364910b76f1dbf20867836",
      "_model_module": "@jupyter-widgets/controls",
      "children": [
       "IPY_MODEL_3926e55738944b60bd85b59417b493a2",
       "IPY_MODEL_6a46d1c0d3af4e88ad8539bbed94e2de",
       "IPY_MODEL_eb3d8ca996b64ab89aa43af382e38433"
      ]
     }
    },
    "666ea123ab364910b76f1dbf20867836": {
     "model_module": "@jupyter-widgets/base",
     "model_name": "LayoutModel",
     "model_module_version": "1.2.0",
     "state": {
      "_view_name": "LayoutView",
      "grid_template_rows": null,
      "right": null,
      "justify_content": null,
      "_view_module": "@jupyter-widgets/base",
      "overflow": null,
      "_model_module_version": "1.2.0",
      "_view_count": null,
      "flex_flow": null,
      "width": null,
      "min_width": null,
      "border": null,
      "align_items": null,
      "bottom": null,
      "_model_module": "@jupyter-widgets/base",
      "top": null,
      "grid_column": null,
      "overflow_y": null,
      "overflow_x": null,
      "grid_auto_flow": null,
      "grid_area": null,
      "grid_template_columns": null,
      "flex": null,
      "_model_name": "LayoutModel",
      "justify_items": null,
      "grid_row": null,
      "max_height": null,
      "align_content": null,
      "visibility": null,
      "align_self": null,
      "height": null,
      "min_height": null,
      "padding": null,
      "grid_auto_rows": null,
      "grid_gap": null,
      "max_width": null,
      "order": null,
      "_view_module_version": "1.2.0",
      "grid_template_areas": null,
      "object_position": null,
      "object_fit": null,
      "grid_auto_columns": null,
      "margin": null,
      "display": null,
      "left": null
     }
    },
    "3926e55738944b60bd85b59417b493a2": {
     "model_module": "@jupyter-widgets/controls",
     "model_name": "HTMLModel",
     "model_module_version": "1.5.0",
     "state": {
      "_view_name": "HTMLView",
      "style": "IPY_MODEL_ec9085ab990c4402b6dce43a5fe82f2d",
      "_dom_classes": [],
      "description": "",
      "_model_name": "HTMLModel",
      "placeholder": "​",
      "_view_module": "@jupyter-widgets/controls",
      "_model_module_version": "1.5.0",
      "value": "",
      "_view_count": null,
      "_view_module_version": "1.5.0",
      "description_tooltip": null,
      "_model_module": "@jupyter-widgets/controls",
      "layout": "IPY_MODEL_6f2bc365ffee4db4a748066ef51816ae"
     }
    },
    "6a46d1c0d3af4e88ad8539bbed94e2de": {
     "model_module": "@jupyter-widgets/controls",
     "model_name": "FloatProgressModel",
     "model_module_version": "1.5.0",
     "state": {
      "_view_name": "ProgressView",
      "style": "IPY_MODEL_18093cf473b649248151e0cef48c6b33",
      "_dom_classes": [],
      "description": "",
      "_model_name": "FloatProgressModel",
      "bar_style": "success",
      "max": 1,
      "_view_module": "@jupyter-widgets/controls",
      "_model_module_version": "1.5.0",
      "value": 1,
      "_view_count": null,
      "_view_module_version": "1.5.0",
      "orientation": "horizontal",
      "min": 0,
      "description_tooltip": null,
      "_model_module": "@jupyter-widgets/controls",
      "layout": "IPY_MODEL_a87d8e577426496984758eac5ed94650"
     }
    },
    "eb3d8ca996b64ab89aa43af382e38433": {
     "model_module": "@jupyter-widgets/controls",
     "model_name": "HTMLModel",
     "model_module_version": "1.5.0",
     "state": {
      "_view_name": "HTMLView",
      "style": "IPY_MODEL_50dc21e636004de58604b954c3c7b27f",
      "_dom_classes": [],
      "description": "",
      "_model_name": "HTMLModel",
      "placeholder": "​",
      "_view_module": "@jupyter-widgets/controls",
      "_model_module_version": "1.5.0",
      "value": " 847/? [00:04&lt;00:00, 600.70ex/s]",
      "_view_count": null,
      "_view_module_version": "1.5.0",
      "description_tooltip": null,
      "_model_module": "@jupyter-widgets/controls",
      "layout": "IPY_MODEL_35990d3cb8e044db9a7aaa0ab6d6fbb4"
     }
    },
    "ec9085ab990c4402b6dce43a5fe82f2d": {
     "model_module": "@jupyter-widgets/controls",
     "model_name": "DescriptionStyleModel",
     "model_module_version": "1.5.0",
     "state": {
      "_view_name": "StyleView",
      "_model_name": "DescriptionStyleModel",
      "description_width": "",
      "_view_module": "@jupyter-widgets/base",
      "_model_module_version": "1.5.0",
      "_view_count": null,
      "_view_module_version": "1.2.0",
      "_model_module": "@jupyter-widgets/controls"
     }
    },
    "6f2bc365ffee4db4a748066ef51816ae": {
     "model_module": "@jupyter-widgets/base",
     "model_name": "LayoutModel",
     "model_module_version": "1.2.0",
     "state": {
      "_view_name": "LayoutView",
      "grid_template_rows": null,
      "right": null,
      "justify_content": null,
      "_view_module": "@jupyter-widgets/base",
      "overflow": null,
      "_model_module_version": "1.2.0",
      "_view_count": null,
      "flex_flow": null,
      "width": null,
      "min_width": null,
      "border": null,
      "align_items": null,
      "bottom": null,
      "_model_module": "@jupyter-widgets/base",
      "top": null,
      "grid_column": null,
      "overflow_y": null,
      "overflow_x": null,
      "grid_auto_flow": null,
      "grid_area": null,
      "grid_template_columns": null,
      "flex": null,
      "_model_name": "LayoutModel",
      "justify_items": null,
      "grid_row": null,
      "max_height": null,
      "align_content": null,
      "visibility": null,
      "align_self": null,
      "height": null,
      "min_height": null,
      "padding": null,
      "grid_auto_rows": null,
      "grid_gap": null,
      "max_width": null,
      "order": null,
      "_view_module_version": "1.2.0",
      "grid_template_areas": null,
      "object_position": null,
      "object_fit": null,
      "grid_auto_columns": null,
      "margin": null,
      "display": null,
      "left": null
     }
    },
    "18093cf473b649248151e0cef48c6b33": {
     "model_module": "@jupyter-widgets/controls",
     "model_name": "ProgressStyleModel",
     "model_module_version": "1.5.0",
     "state": {
      "_view_name": "StyleView",
      "_model_name": "ProgressStyleModel",
      "description_width": "",
      "_view_module": "@jupyter-widgets/base",
      "_model_module_version": "1.5.0",
      "_view_count": null,
      "_view_module_version": "1.2.0",
      "bar_color": null,
      "_model_module": "@jupyter-widgets/controls"
     }
    },
    "a87d8e577426496984758eac5ed94650": {
     "model_module": "@jupyter-widgets/base",
     "model_name": "LayoutModel",
     "model_module_version": "1.2.0",
     "state": {
      "_view_name": "LayoutView",
      "grid_template_rows": null,
      "right": null,
      "justify_content": null,
      "_view_module": "@jupyter-widgets/base",
      "overflow": null,
      "_model_module_version": "1.2.0",
      "_view_count": null,
      "flex_flow": null,
      "width": "20px",
      "min_width": null,
      "border": null,
      "align_items": null,
      "bottom": null,
      "_model_module": "@jupyter-widgets/base",
      "top": null,
      "grid_column": null,
      "overflow_y": null,
      "overflow_x": null,
      "grid_auto_flow": null,
      "grid_area": null,
      "grid_template_columns": null,
      "flex": null,
      "_model_name": "LayoutModel",
      "justify_items": null,
      "grid_row": null,
      "max_height": null,
      "align_content": null,
      "visibility": null,
      "align_self": null,
      "height": null,
      "min_height": null,
      "padding": null,
      "grid_auto_rows": null,
      "grid_gap": null,
      "max_width": null,
      "order": null,
      "_view_module_version": "1.2.0",
      "grid_template_areas": null,
      "object_position": null,
      "object_fit": null,
      "grid_auto_columns": null,
      "margin": null,
      "display": null,
      "left": null
     }
    },
    "50dc21e636004de58604b954c3c7b27f": {
     "model_module": "@jupyter-widgets/controls",
     "model_name": "DescriptionStyleModel",
     "model_module_version": "1.5.0",
     "state": {
      "_view_name": "StyleView",
      "_model_name": "DescriptionStyleModel",
      "description_width": "",
      "_view_module": "@jupyter-widgets/base",
      "_model_module_version": "1.5.0",
      "_view_count": null,
      "_view_module_version": "1.2.0",
      "_model_module": "@jupyter-widgets/controls"
     }
    },
    "35990d3cb8e044db9a7aaa0ab6d6fbb4": {
     "model_module": "@jupyter-widgets/base",
     "model_name": "LayoutModel",
     "model_module_version": "1.2.0",
     "state": {
      "_view_name": "LayoutView",
      "grid_template_rows": null,
      "right": null,
      "justify_content": null,
      "_view_module": "@jupyter-widgets/base",
      "overflow": null,
      "_model_module_version": "1.2.0",
      "_view_count": null,
      "flex_flow": null,
      "width": null,
      "min_width": null,
      "border": null,
      "align_items": null,
      "bottom": null,
      "_model_module": "@jupyter-widgets/base",
      "top": null,
      "grid_column": null,
      "overflow_y": null,
      "overflow_x": null,
      "grid_auto_flow": null,
      "grid_area": null,
      "grid_template_columns": null,
      "flex": null,
      "_model_name": "LayoutModel",
      "justify_items": null,
      "grid_row": null,
      "max_height": null,
      "align_content": null,
      "visibility": null,
      "align_self": null,
      "height": null,
      "min_height": null,
      "padding": null,
      "grid_auto_rows": null,
      "grid_gap": null,
      "max_width": null,
      "order": null,
      "_view_module_version": "1.2.0",
      "grid_template_areas": null,
      "object_position": null,
      "object_fit": null,
      "grid_auto_columns": null,
      "margin": null,
      "display": null,
      "left": null
     }
    },
    "5076bc5a43e44bd59d14cafa2d84ce0a": {
     "model_module": "@jupyter-widgets/controls",
     "model_name": "HBoxModel",
     "model_module_version": "1.5.0",
     "state": {
      "_view_name": "HBoxView",
      "_dom_classes": [],
      "_model_name": "HBoxModel",
      "_view_module": "@jupyter-widgets/controls",
      "_model_module_version": "1.5.0",
      "_view_count": null,
      "_view_module_version": "1.5.0",
      "box_style": "",
      "layout": "IPY_MODEL_8445045abfa84e8c855c117bcb1f0ab4",
      "_model_module": "@jupyter-widgets/controls",
      "children": [
       "IPY_MODEL_6a5e197cfd35472984bfebc1fe737489",
       "IPY_MODEL_0bebbb4729514ee2a477bec412f63d33",
       "IPY_MODEL_069eddde42b64f85b5021b7f962ea7da"
      ]
     }
    },
    "8445045abfa84e8c855c117bcb1f0ab4": {
     "model_module": "@jupyter-widgets/base",
     "model_name": "LayoutModel",
     "model_module_version": "1.2.0",
     "state": {
      "_view_name": "LayoutView",
      "grid_template_rows": null,
      "right": null,
      "justify_content": null,
      "_view_module": "@jupyter-widgets/base",
      "overflow": null,
      "_model_module_version": "1.2.0",
      "_view_count": null,
      "flex_flow": null,
      "width": null,
      "min_width": null,
      "border": null,
      "align_items": null,
      "bottom": null,
      "_model_module": "@jupyter-widgets/base",
      "top": null,
      "grid_column": null,
      "overflow_y": null,
      "overflow_x": null,
      "grid_auto_flow": null,
      "grid_area": null,
      "grid_template_columns": null,
      "flex": null,
      "_model_name": "LayoutModel",
      "justify_items": null,
      "grid_row": null,
      "max_height": null,
      "align_content": null,
      "visibility": null,
      "align_self": null,
      "height": null,
      "min_height": null,
      "padding": null,
      "grid_auto_rows": null,
      "grid_gap": null,
      "max_width": null,
      "order": null,
      "_view_module_version": "1.2.0",
      "grid_template_areas": null,
      "object_position": null,
      "object_fit": null,
      "grid_auto_columns": null,
      "margin": null,
      "display": null,
      "left": null
     }
    },
    "6a5e197cfd35472984bfebc1fe737489": {
     "model_module": "@jupyter-widgets/controls",
     "model_name": "HTMLModel",
     "model_module_version": "1.5.0",
     "state": {
      "_view_name": "HTMLView",
      "style": "IPY_MODEL_d56425014de04527b772e2348343dbda",
      "_dom_classes": [],
      "description": "",
      "_model_name": "HTMLModel",
      "placeholder": "​",
      "_view_module": "@jupyter-widgets/controls",
      "_model_module_version": "1.5.0",
      "value": "Downloading: 100%",
      "_view_count": null,
      "_view_module_version": "1.5.0",
      "description_tooltip": null,
      "_model_module": "@jupyter-widgets/controls",
      "layout": "IPY_MODEL_186f81a1752f4808a49066f8342ee24b"
     }
    },
    "0bebbb4729514ee2a477bec412f63d33": {
     "model_module": "@jupyter-widgets/controls",
     "model_name": "FloatProgressModel",
     "model_module_version": "1.5.0",
     "state": {
      "_view_name": "ProgressView",
      "style": "IPY_MODEL_4992d026da864041a0784c0f1581b7b6",
      "_dom_classes": [],
      "description": "",
      "_model_name": "FloatProgressModel",
      "bar_style": "success",
      "max": 497933648,
      "_view_module": "@jupyter-widgets/controls",
      "_model_module_version": "1.5.0",
      "value": 497933648,
      "_view_count": null,
      "_view_module_version": "1.5.0",
      "orientation": "horizontal",
      "min": 0,
      "description_tooltip": null,
      "_model_module": "@jupyter-widgets/controls",
      "layout": "IPY_MODEL_b7aad0e0a90842c3a82bb9162c674da8"
     }
    },
    "069eddde42b64f85b5021b7f962ea7da": {
     "model_module": "@jupyter-widgets/controls",
     "model_name": "HTMLModel",
     "model_module_version": "1.5.0",
     "state": {
      "_view_name": "HTMLView",
      "style": "IPY_MODEL_cbad36d9d2e042818290d8dd8f38b091",
      "_dom_classes": [],
      "description": "",
      "_model_name": "HTMLModel",
      "placeholder": "​",
      "_view_module": "@jupyter-widgets/controls",
      "_model_module_version": "1.5.0",
      "value": " 475M/475M [00:14&lt;00:00, 37.6MB/s]",
      "_view_count": null,
      "_view_module_version": "1.5.0",
      "description_tooltip": null,
      "_model_module": "@jupyter-widgets/controls",
      "layout": "IPY_MODEL_838de752ee624dbf9427cf5fa50dcc52"
     }
    },
    "d56425014de04527b772e2348343dbda": {
     "model_module": "@jupyter-widgets/controls",
     "model_name": "DescriptionStyleModel",
     "model_module_version": "1.5.0",
     "state": {
      "_view_name": "StyleView",
      "_model_name": "DescriptionStyleModel",
      "description_width": "",
      "_view_module": "@jupyter-widgets/base",
      "_model_module_version": "1.5.0",
      "_view_count": null,
      "_view_module_version": "1.2.0",
      "_model_module": "@jupyter-widgets/controls"
     }
    },
    "186f81a1752f4808a49066f8342ee24b": {
     "model_module": "@jupyter-widgets/base",
     "model_name": "LayoutModel",
     "model_module_version": "1.2.0",
     "state": {
      "_view_name": "LayoutView",
      "grid_template_rows": null,
      "right": null,
      "justify_content": null,
      "_view_module": "@jupyter-widgets/base",
      "overflow": null,
      "_model_module_version": "1.2.0",
      "_view_count": null,
      "flex_flow": null,
      "width": null,
      "min_width": null,
      "border": null,
      "align_items": null,
      "bottom": null,
      "_model_module": "@jupyter-widgets/base",
      "top": null,
      "grid_column": null,
      "overflow_y": null,
      "overflow_x": null,
      "grid_auto_flow": null,
      "grid_area": null,
      "grid_template_columns": null,
      "flex": null,
      "_model_name": "LayoutModel",
      "justify_items": null,
      "grid_row": null,
      "max_height": null,
      "align_content": null,
      "visibility": null,
      "align_self": null,
      "height": null,
      "min_height": null,
      "padding": null,
      "grid_auto_rows": null,
      "grid_gap": null,
      "max_width": null,
      "order": null,
      "_view_module_version": "1.2.0",
      "grid_template_areas": null,
      "object_position": null,
      "object_fit": null,
      "grid_auto_columns": null,
      "margin": null,
      "display": null,
      "left": null
     }
    },
    "4992d026da864041a0784c0f1581b7b6": {
     "model_module": "@jupyter-widgets/controls",
     "model_name": "ProgressStyleModel",
     "model_module_version": "1.5.0",
     "state": {
      "_view_name": "StyleView",
      "_model_name": "ProgressStyleModel",
      "description_width": "",
      "_view_module": "@jupyter-widgets/base",
      "_model_module_version": "1.5.0",
      "_view_count": null,
      "_view_module_version": "1.2.0",
      "bar_color": null,
      "_model_module": "@jupyter-widgets/controls"
     }
    },
    "b7aad0e0a90842c3a82bb9162c674da8": {
     "model_module": "@jupyter-widgets/base",
     "model_name": "LayoutModel",
     "model_module_version": "1.2.0",
     "state": {
      "_view_name": "LayoutView",
      "grid_template_rows": null,
      "right": null,
      "justify_content": null,
      "_view_module": "@jupyter-widgets/base",
      "overflow": null,
      "_model_module_version": "1.2.0",
      "_view_count": null,
      "flex_flow": null,
      "width": null,
      "min_width": null,
      "border": null,
      "align_items": null,
      "bottom": null,
      "_model_module": "@jupyter-widgets/base",
      "top": null,
      "grid_column": null,
      "overflow_y": null,
      "overflow_x": null,
      "grid_auto_flow": null,
      "grid_area": null,
      "grid_template_columns": null,
      "flex": null,
      "_model_name": "LayoutModel",
      "justify_items": null,
      "grid_row": null,
      "max_height": null,
      "align_content": null,
      "visibility": null,
      "align_self": null,
      "height": null,
      "min_height": null,
      "padding": null,
      "grid_auto_rows": null,
      "grid_gap": null,
      "max_width": null,
      "order": null,
      "_view_module_version": "1.2.0",
      "grid_template_areas": null,
      "object_position": null,
      "object_fit": null,
      "grid_auto_columns": null,
      "margin": null,
      "display": null,
      "left": null
     }
    },
    "cbad36d9d2e042818290d8dd8f38b091": {
     "model_module": "@jupyter-widgets/controls",
     "model_name": "DescriptionStyleModel",
     "model_module_version": "1.5.0",
     "state": {
      "_view_name": "StyleView",
      "_model_name": "DescriptionStyleModel",
      "description_width": "",
      "_view_module": "@jupyter-widgets/base",
      "_model_module_version": "1.5.0",
      "_view_count": null,
      "_view_module_version": "1.2.0",
      "_model_module": "@jupyter-widgets/controls"
     }
    },
    "838de752ee624dbf9427cf5fa50dcc52": {
     "model_module": "@jupyter-widgets/base",
     "model_name": "LayoutModel",
     "model_module_version": "1.2.0",
     "state": {
      "_view_name": "LayoutView",
      "grid_template_rows": null,
      "right": null,
      "justify_content": null,
      "_view_module": "@jupyter-widgets/base",
      "overflow": null,
      "_model_module_version": "1.2.0",
      "_view_count": null,
      "flex_flow": null,
      "width": null,
      "min_width": null,
      "border": null,
      "align_items": null,
      "bottom": null,
      "_model_module": "@jupyter-widgets/base",
      "top": null,
      "grid_column": null,
      "overflow_y": null,
      "overflow_x": null,
      "grid_auto_flow": null,
      "grid_area": null,
      "grid_template_columns": null,
      "flex": null,
      "_model_name": "LayoutModel",
      "justify_items": null,
      "grid_row": null,
      "max_height": null,
      "align_content": null,
      "visibility": null,
      "align_self": null,
      "height": null,
      "min_height": null,
      "padding": null,
      "grid_auto_rows": null,
      "grid_gap": null,
      "max_width": null,
      "order": null,
      "_view_module_version": "1.2.0",
      "grid_template_areas": null,
      "object_position": null,
      "object_fit": null,
      "grid_auto_columns": null,
      "margin": null,
      "display": null,
      "left": null
     }
    }
   }
  },
  "accelerator": "GPU"
 },
 "nbformat": 4,
 "nbformat_minor": 5
}
