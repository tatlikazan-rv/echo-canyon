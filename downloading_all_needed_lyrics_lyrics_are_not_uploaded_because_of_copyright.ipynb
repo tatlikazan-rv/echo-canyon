{
 "cells": [
  {
   "cell_type": "markdown",
   "id": "75abb0a0",
   "metadata": {},
   "source": [
    "## TOC:\n",
    "* [Artists](#Artists)\n",
    "* [Generator](#Generator)\n",
    "* [Rhymer](#Rhymer)"
   ]
  },
  {
   "cell_type": "markdown",
   "id": "122908d6",
   "metadata": {},
   "source": [
    "# All Imports"
   ]
  },
  {
   "cell_type": "code",
   "execution_count": 1,
   "id": "b839d25f",
   "metadata": {},
   "outputs": [],
   "source": [
    "# package imports\n",
    "# !pip install -q bs4 # uncomment this line to install\n",
    "from bs4 import BeautifulSoup # easy webscraping\n",
    "import requests # for sending http requests\n",
    "import re # regular expressions, excellent for string searching/replacing, \n",
    "# extremely powerful for manual NLP, check out the documentation at https://docs.python.org/3/library/re.html\n",
    "import os  # accessing file paths"
   ]
  },
  {
   "cell_type": "markdown",
   "id": "6bd2f657",
   "metadata": {},
   "source": [
    "If you have ongoing issues with the transformers library, Also consider installing from source: \n",
    "\n",
    "git clone https://github.com/huggingface/transformers.git \n",
    "\n",
    "cd transformers (in Dropbox/C/25_Studium_Master/TUM_RCI/2021_WS/NLP/3-Exercises-Workspace/transformers)\n",
    "\n",
    "pip install -e\n",
    "\n",
    "Also update git\n"
   ]
  },
  {
   "cell_type": "code",
   "execution_count": 2,
   "id": "d295d957",
   "metadata": {},
   "outputs": [],
   "source": [
    "import os\n",
    "# os.environ[\"CUDA_VISIBLE_DEVICES\"]=\"-1\" to deactive \n",
    "\n",
    "import tensorflow as tf\n",
    "\n",
    "# Update Transformers from the source if you get errors:\n",
    "#!pip install git+https://github.com/huggingface/transformers\n",
    "\n",
    "from transformers import AutoConfig, AutoTokenizer, TFAutoModelForCausalLM, default_data_collator, pipeline \n",
    "from transformers import GPT2Model, GPT2Config\n",
    "# DefaultDataCollator: for the error https://github.com/huggingface/transformers/pull/5015\n",
    "from official.nlp import optimization\n",
    "!pip install -q datasets\n",
    "from datasets import Dataset  # https://huggingface.co/docs/datasets/\n",
    "\n",
    "from bs4 import BeautifulSoup \n",
    "import requests \n",
    "import re \n",
    "import json\n",
    "import random\n",
    "from collections import Counter\n",
    "import math\n",
    "\n",
    "model_name = \"distilgpt2\" # select a pretrained language model from https://huggingface.co/models\n",
    "\n",
    "# gtp3 is huge, needed several GPus for traning, was in the news, soendt fit in to small gpus so we use gtp2 "
   ]
  },
  {
   "cell_type": "code",
   "execution_count": 3,
   "id": "be636c02",
   "metadata": {},
   "outputs": [
    {
     "name": "stdout",
     "output_type": "stream",
     "text": [
      "Requirement already satisfied: GPUtil in /home/volkan/anaconda3/envs/tf-env/lib/python3.9/site-packages (1.4.0)\n",
      "| ID | GPU | MEM |\n",
      "------------------\n",
      "|  0 | 54% | 19% |\n"
     ]
    }
   ],
   "source": [
    "!pip install GPUtil\n",
    "import GPUtil\n",
    "from numba import cuda\n",
    "GPUtil.showUtilization()"
   ]
  },
  {
   "cell_type": "markdown",
   "id": "97558bb8",
   "metadata": {},
   "source": [
    "# Artists <a class=\"anchor\" id=\"Artists\"></a>\n",
    "\n"
   ]
  },
  {
   "cell_type": "markdown",
   "id": "a49bd4e0",
   "metadata": {},
   "source": [
    "## Blues"
   ]
  },
  {
   "cell_type": "code",
   "execution_count": 21,
   "id": "678a59cf",
   "metadata": {},
   "outputs": [],
   "source": [
    "# insert a link to the lyricsfreak artist page of your choice\n",
    "blues_artist_links = [\n",
    "    \"https://www.lyricsfreak.com/b/bb+king/\",\n",
    "    \"https://www.lyricsfreak.com/r/robert+johnson/\",\n",
    "    \"https://www.lyricsfreak.com/m/muddy+waters/\",\n",
    "    \"https://www.lyricsfreak.com/b/buddy+guy/\",  \n",
    "    \"https://www.lyricsfreak.com/e/eric+clapton/\"\n",
    "]\n"
   ]
  },
  {
   "cell_type": "markdown",
   "id": "347cc5c9",
   "metadata": {},
   "source": [
    "## Country"
   ]
  },
  {
   "cell_type": "code",
   "execution_count": 22,
   "id": "95b699da",
   "metadata": {},
   "outputs": [],
   "source": [
    "# insert a link to the lyricsfreak artist page of your choice\n",
    "country_artist_links = [\n",
    "    \"https://www.lyricsfreak.com/j/johnny+cash/\",\n",
    "    \"https://www.lyricsfreak.com/t/tim+mcgraw/\",\n",
    "    \"https://www.lyricsfreak.com/g/george+strait/\",\n",
    "    \"https://www.lyricsfreak.com/c/carter+family/\",\n",
    "    \"https://www.lyricsfreak.com/d/dolly+parton/\"\n",
    "]\n"
   ]
  },
  {
   "cell_type": "markdown",
   "id": "c98d4d3e",
   "metadata": {},
   "source": [
    "# Jazz"
   ]
  },
  {
   "cell_type": "code",
   "execution_count": 23,
   "id": "ad0dd0ac",
   "metadata": {},
   "outputs": [],
   "source": [
    "# insert a link to the lyricsfreak artist page of your choice\n",
    "jazz_artist_links = [\n",
    "    \"https://www.lyricsfreak.com/l/louis+armstrong/\",\n",
    "    \"https://www.lyricsfreak.com/e/ella+fitzgerald/\",\n",
    "    \"https://www.lyricsfreak.com/m/cole+porter/\",\n",
    "    \"https://www.lyricsfreak.com/r/ray+charles/\",\n",
    "    \"https://www.lyricsfreak.com/n/nina+simone/\"\n",
    "]\n"
   ]
  },
  {
   "cell_type": "markdown",
   "id": "23431866",
   "metadata": {},
   "source": [
    "# Metal"
   ]
  },
  {
   "cell_type": "code",
   "execution_count": 24,
   "id": "85980d97",
   "metadata": {},
   "outputs": [],
   "source": [
    "# insert a link to the lyricsfreak artist page of your choice\n",
    "metal_artist_links = [\n",
    "    \"https://www.lyricsfreak.com/b/black+sabbath/\",\n",
    "    \"https://www.lyricsfreak.com/m/metallica/\",\n",
    "    \"https://www.lyricsfreak.com/m/megadeth/\",\n",
    "    \"https://www.lyricsfreak.com/d/dio/\",\n",
    "    \"https://www.lyricsfreak.com/t/tool/\"\n",
    "]\n"
   ]
  },
  {
   "cell_type": "markdown",
   "id": "d52103f9",
   "metadata": {},
   "source": [
    "# Pop"
   ]
  },
  {
   "cell_type": "code",
   "execution_count": 25,
   "id": "c93089a8",
   "metadata": {},
   "outputs": [],
   "source": [
    "# insert a link to the lyricsfreak artist page of your choice\n",
    "pop_artist_links = [\n",
    "    \"https://www.lyricsfreak.com/b/beatles/\",\n",
    "    \"https://www.lyricsfreak.com/m/madonna/\",\n",
    "    \"https://www.lyricsfreak.com/e/elton+john/\",\n",
    "    \"https://www.lyricsfreak.com/m/michael+jackson/\",\n",
    "    \"https://www.lyricsfreak.com/s/rihanna/\"\n",
    "]\n"
   ]
  },
  {
   "cell_type": "markdown",
   "id": "5702e2c5",
   "metadata": {},
   "source": [
    "# Rock"
   ]
  },
  {
   "cell_type": "code",
   "execution_count": 26,
   "id": "165719e7",
   "metadata": {},
   "outputs": [],
   "source": [
    "# insert a link to the lyricsfreak artist page of your choice\n",
    "rock_artist_links = [\n",
    "    \"https://www.lyricsfreak.com/b/rolling+stones/\",\n",
    "    \"https://www.lyricsfreak.com/n/nirvana/\",\n",
    "    \"https://www.lyricsfreak.com/l/led+zeppelin/\", # find link!\n",
    "    \"https://www.lyricsfreak.com/a/ac+dc/\",\n",
    "    \"https://www.lyricsfreak.com/q/queen/\"\n",
    "]\n"
   ]
  },
  {
   "cell_type": "markdown",
   "id": "d8c6d8de",
   "metadata": {},
   "source": [
    "# Download all"
   ]
  },
  {
   "cell_type": "code",
   "execution_count": 10,
   "id": "f9f404fc",
   "metadata": {},
   "outputs": [
    {
     "name": "stdout",
     "output_type": "stream",
     "text": [
      "200 lyrics found at https://www.lyricsfreak.com/b/bb+king/\n",
      "61 lyrics found at https://www.lyricsfreak.com/r/robert+johnson/\n",
      "112 lyrics found at https://www.lyricsfreak.com/m/muddy+waters/\n",
      "111 lyrics found at https://www.lyricsfreak.com/b/buddy+guy/\n",
      "200 lyrics found at https://www.lyricsfreak.com/e/eric+clapton/\n",
      "235 lyrics found at https://www.lyricsfreak.com/j/johnny+cash/\n",
      "209 lyrics found at https://www.lyricsfreak.com/t/tim+mcgraw/\n",
      "200 lyrics found at https://www.lyricsfreak.com/g/george+strait/\n",
      "40 lyrics found at https://www.lyricsfreak.com/c/carter+family/\n",
      "200 lyrics found at https://www.lyricsfreak.com/d/dolly+parton/\n",
      "205 lyrics found at https://www.lyricsfreak.com/l/louis+armstrong/\n",
      "200 lyrics found at https://www.lyricsfreak.com/e/ella+fitzgerald/\n",
      "176 lyrics found at https://www.lyricsfreak.com/m/cole+porter/\n",
      "200 lyrics found at https://www.lyricsfreak.com/r/ray+charles/\n",
      "206 lyrics found at https://www.lyricsfreak.com/n/nina+simone/\n",
      "164 lyrics found at https://www.lyricsfreak.com/b/black+sabbath/\n",
      "179 lyrics found at https://www.lyricsfreak.com/m/metallica/\n",
      "179 lyrics found at https://www.lyricsfreak.com/m/megadeth/\n",
      "123 lyrics found at https://www.lyricsfreak.com/d/dio/\n",
      "81 lyrics found at https://www.lyricsfreak.com/t/tool/\n",
      "200 lyrics found at https://www.lyricsfreak.com/b/rolling+stones/\n",
      "135 lyrics found at https://www.lyricsfreak.com/n/nirvana/\n",
      "29 lyrics found at https://www.lyricsfreak.com/l/led+zeppelin/\n",
      "188 lyrics found at https://www.lyricsfreak.com/a/ac+dc/\n",
      "200 lyrics found at https://www.lyricsfreak.com/q/queen/\n",
      "200 lyrics found at https://www.lyricsfreak.com/b/beatles/\n",
      "185 lyrics found at https://www.lyricsfreak.com/m/madonna/\n",
      "243 lyrics found at https://www.lyricsfreak.com/e/elton+john/\n",
      "223 lyrics found at https://www.lyricsfreak.com/m/michael+jackson/\n",
      "190 lyrics found at https://www.lyricsfreak.com/s/rihanna/\n"
     ]
    }
   ],
   "source": [
    "# helper functions\n",
    "def get_links(artist_link):\n",
    "    page = requests.get(artist_link)\n",
    "    soup = BeautifulSoup(page.content, 'html.parser')\n",
    "    a = soup.findAll(\"a\", {\"class\": \"lf-link lf-link--primary\"})\n",
    "    links = [i[\"href\"] for i in a]\n",
    "    print(str(len(links)) + \" lyrics found at \" + artist_link)\n",
    "    return(links)\n",
    "\n",
    "def get_lyrics(links):\n",
    "    lyrics = {}\n",
    "    for l in links:\n",
    "        page = requests.get(\"https://www.lyricsfreak.com\" + str(l))\n",
    "        soup = BeautifulSoup(page.content, 'html.parser')\n",
    "        title = re.sub(\"\\+\", \"_\", l.split(\"/\")[-1].split(\"_\")[0])\n",
    "        lyrics[title] = soup.find(id = \"content\")\n",
    "    return(lyrics)\n",
    "\n",
    "# some strings in the lyrics that will be removed\n",
    "beg = re.compile('<div class.*')\n",
    "end = re.compile('</div>')\n",
    "lin = re.compile('<br/>')\n",
    "cho = re.compile('chorus|verse|intro', flags = re.IGNORECASE)\n",
    "cr = re.compile('\\r')\n",
    "patterns = [beg, end, lin, cho, cr]\n",
    "\n",
    "def clean_text(patterns, text):\n",
    "    text = str(text)\n",
    "    for pattern in patterns:\n",
    "        text = re.sub(pattern, \"\", text)\n",
    "    return(text.strip())\n",
    "        \n",
    "lyrics_dict = {}\n",
    "\n",
    "output_path = \"/home/volkan/Dropbox/C/25_Studium_Master/TUM_RCI/2021_WS/NLP/3-Exercises-Workspace/EchoCanyon/lyrics/\"\n",
    "\n",
    "genre_links = [blues_artist_links, country_artist_links, jazz_artist_links, metal_artist_links, rock_artist_links, pop_artist_links]\n",
    "genre_names = [\"blues\", \"country\", \"jazz\", \"metal\", \"rock\", \"pop\"]\n",
    "for count, genres in enumerate(genre_links):\n",
    "    \n",
    "    lyrics_links = None\n",
    "    lyrics = None\n",
    "    for artist_link in genres:\n",
    "\n",
    "        lyrics_links = [link for link in (get_links(artist_link))]\n",
    "        lyrics = get_lyrics(lyrics_links)\n",
    "        lyrics = {title: clean_text(patterns,lyric) for title, lyric in lyrics.items()}\n",
    "\n",
    "        lyrics_dict[re.sub(\"\\+\", \"_\", artist_link.split(\"/\")[-2])] = lyrics\n",
    "\n",
    "    with open(output_path + genre_names[count] +\"_lyrics.json\", \"w\", encoding = \"utf8\") as f:\n",
    "\n",
    "        json.dump(lyrics_dict, f)\n",
    "    \n",
    "    lyrics_dict = {}\n",
    "    \n"
   ]
  },
  {
   "cell_type": "markdown",
   "id": "0ab87917",
   "metadata": {},
   "source": [
    "# Download my Artists"
   ]
  },
  {
   "cell_type": "code",
   "execution_count": 4,
   "id": "3617289d",
   "metadata": {},
   "outputs": [
    {
     "name": "stdout",
     "output_type": "stream",
     "text": [
      "66 lyrics found at https://www.lyricsfreak.com/b/blues+brothers/\n"
     ]
    }
   ],
   "source": [
    "# FROM: 10 Finetuning a Language Model with Huggingface - Lyrics Mashup\n",
    "# CHANGES: Changed the directories to save genres separately \n",
    "\n",
    "# I used the my own machine here to save time during the downloading of lyrics, \n",
    "# That is why the above download paths are for my own PC instead of drive. \n",
    "# This cell and the above 6 needs to be ran own your own machine as your CPU is \n",
    "# Faster then Google Colabs GPU for downloads. Then the files need to be copied\n",
    "# to drive afterwards and the drive has to be mounted as it's done at the start\n",
    "# of the notebook \n",
    "\n",
    "# Commented out to make the restarting and runnning easier as this is needed once \n",
    "\n",
    "\n",
    "\n",
    "# helper functions\n",
    "# insert links to lyricsfreak artist pages\n",
    "artist_links = [\n",
    "    \"https://www.lyricsfreak.com/b/blues+brothers/\"\n",
    "]\n",
    "\n",
    "# helper functions\n",
    "def get_links(artist_link):\n",
    "    page = requests.get(artist_link)\n",
    "    soup = BeautifulSoup(page.content, 'html.parser')\n",
    "    a = soup.findAll(\"a\", {\"class\": \"lf-link lf-link--primary\"})\n",
    "    links = [i[\"href\"] for i in a]\n",
    "    print(str(len(links)) + \" lyrics found at \" + artist_link)\n",
    "    return(links)\n",
    "\n",
    "def get_lyrics(links):\n",
    "    lyrics = {}\n",
    "    for l in links:\n",
    "        page = requests.get(\"https://www.lyricsfreak.com\" + str(l))\n",
    "        soup = BeautifulSoup(page.content, 'html.parser')\n",
    "        title = re.sub(\"\\+\", \"_\", l.split(\"/\")[-1].split(\"_\")[0])\n",
    "        lyrics[title] = soup.find(id = \"content\")\n",
    "    return(lyrics)\n",
    "\n",
    "# some strings in the lyrics that will be removed\n",
    "beg = re.compile('<div class.*')\n",
    "end = re.compile('</div>')\n",
    "lin = re.compile('<br/>')\n",
    "cho = re.compile('chorus|verse|intro', flags = re.IGNORECASE)\n",
    "cr = re.compile('\\r')\n",
    "patterns = [beg, end, lin, cho, cr]\n",
    "\n",
    "def clean_text(patterns, text):\n",
    "    text = str(text)\n",
    "    for pattern in patterns:\n",
    "        text = re.sub(pattern, \"\", text)\n",
    "    return(text.strip())\n",
    "        \n",
    "lyrics_dict = {}\n",
    "\n",
    "output_path = \"/home/volkan/Dropbox/C/25_Studium_Master/TUM_RCI/2021_WS/NLP/3-Exercises-Workspace/EchoCanyon/lyrics/\"\n",
    "\n",
    "\n",
    "for artist_link in artist_links:\n",
    "    \n",
    "    lyrics_links = [link for link in (get_links(artist_link))]\n",
    "    lyrics = get_lyrics(lyrics_links)\n",
    "    lyrics = {title: clean_text(patterns,lyric) for title, lyric in lyrics.items()}\n",
    "    \n",
    "    lyrics_dict[re.sub(\"\\+\", \"_\", artist_link.split(\"/\")[-2])] = lyrics\n",
    "\n",
    "with open(output_path + \"my_artists.json\", \"w\", encoding = \"utf8\") as f: ##### CHANGE HERE\n",
    "    \n",
    "    json.dump(lyrics_dict, f)"
   ]
  },
  {
   "cell_type": "code",
   "execution_count": null,
   "id": "91976452",
   "metadata": {},
   "outputs": [],
   "source": []
  }
 ],
 "metadata": {
  "kernelspec": {
   "display_name": "Python 3 (ipykernel)",
   "language": "python",
   "name": "python3"
  },
  "language_info": {
   "codemirror_mode": {
    "name": "ipython",
    "version": 3
   },
   "file_extension": ".py",
   "mimetype": "text/x-python",
   "name": "python",
   "nbconvert_exporter": "python",
   "pygments_lexer": "ipython3",
   "version": "3.9.7"
  }
 },
 "nbformat": 4,
 "nbformat_minor": 5
}
